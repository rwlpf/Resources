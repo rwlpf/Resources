{
    "metadata": {
        "kernelspec": {
            "name": "SQL",
            "display_name": "SQL",
            "language": "sql"
        },
        "language_info": {
            "name": "sql",
            "version": ""
        }
    },
    "nbformat_minor": 2,
    "nbformat": 4,
    "cells": [
        {
            "cell_type": "markdown",
            "source": [
                "Step 1 - Create the Fact Table"
            ],
            "metadata": {
                "azdata_cell_guid": "d7aa0473-e2cd-40c8-a4fb-2ecb3da60f7e"
            },
            "attachments": {}
        },
        {
            "cell_type": "code",
            "source": [
                "/*Create the  Table \r\n",
                "[dbo].[FactCallsHandled] \r\n",
                "*/\r\n",
                "IF  EXISTS (SELECT * FROM sys.objects WHERE object_id = OBJECT_ID(N'[dbo].[FactCallsHandled]') AND type IN (N'U'))\r\n",
                "DROP TABLE [dbo].[FactCallsHandled]\r\n",
                "GO\r\n",
                "\r\n",
                "SET ANSI_NULLS ON\r\n",
                "GO\r\n",
                "\r\n",
                "SET QUOTED_IDENTIFIER ON\r\n",
                "GO\r\n",
                "\r\n",
                "CREATE TABLE [dbo].[FactCallsHandled](\r\n",
                "\t[ID] [INT] NOT NULL,\r\n",
                "\t[CallDate] [DATETIME] NULL,\r\n",
                "\t[AgentId] [INT] NULL,\r\n",
                "\t[AnsweredCall] [INT] NOT NULL,\r\n",
                "\t[MissedCall] [INT] NOT NULL,\r\n",
                "\t[FowardedCall] [INT] NOT NULL,\r\n",
                "\t[AdjustedDate]  [DATETIME] NULL,\r\n",
                ") ON [PRIMARY]\r\n",
                "GO\r\n",
                ""
            ],
            "metadata": {
                "azdata_cell_guid": "69748049-7b0d-4ac1-acfa-2bef8cf4326f",
                "language": "sql"
            },
            "outputs": [
                {
                    "output_type": "display_data",
                    "data": {
                        "text/html": "Commands completed successfully."
                    },
                    "metadata": {}
                },
                {
                    "output_type": "display_data",
                    "data": {
                        "text/html": "Commands completed successfully."
                    },
                    "metadata": {}
                },
                {
                    "output_type": "display_data",
                    "data": {
                        "text/html": "Commands completed successfully."
                    },
                    "metadata": {}
                },
                {
                    "output_type": "display_data",
                    "data": {
                        "text/html": "Commands completed successfully."
                    },
                    "metadata": {}
                },
                {
                    "output_type": "display_data",
                    "data": {
                        "text/html": "Total execution time: 00:00:00.137"
                    },
                    "metadata": {}
                }
            ],
            "execution_count": 9
        },
        {
            "cell_type": "markdown",
            "source": [
                "Step 2 - CreateAgentDim"
            ],
            "metadata": {
                "language": "sql",
                "azdata_cell_guid": "bd526a71-dbbf-4ea9-87af-97d688403476"
            },
            "attachments": {}
        },
        {
            "cell_type": "code",
            "source": [
                "/*\r\n",
                "Create Table [dbo].[DimAgent]  \r\n",
                "*/\r\n",
                "IF EXISTS\r\n",
                "(\r\n",
                "    SELECT *\r\n",
                "    FROM sys.objects\r\n",
                "    WHERE object_id = OBJECT_ID(N'[dbo].[DimAgent]')\r\n",
                "          AND type IN ( N'U' )\r\n",
                ")\r\n",
                "    DROP TABLE [dbo].[DimAgent];\r\n",
                "GO\r\n",
                "\r\n",
                "SET ANSI_NULLS ON;\r\n",
                "GO\r\n",
                "\r\n",
                "SET QUOTED_IDENTIFIER ON;\r\n",
                "GO\r\n",
                "\r\n",
                "CREATE TABLE [dbo].[DimAgent]\r\n",
                "(\r\n",
                "    [ID] [INT] IDENTITY(1, 1) NOT NULL,\r\n",
                "    [AgentName] [NVARCHAR](10) NOT NULL\r\n",
                ") ON [PRIMARY];\r\n",
                "GO\r\n",
                "\r\n",
                "\r\n",
                "INSERT INTO [dbo].[DimAgent]\r\n",
                "(\r\n",
                "    [AgentName]\r\n",
                ")\r\n",
                "VALUES\r\n",
                "('YasserM'),\r\n",
                "('SusanP'),\r\n",
                "('ThomasR');\r\n",
                "GO"
            ],
            "metadata": {
                "language": "sql",
                "azdata_cell_guid": "dd8e38e5-2996-4926-9dbb-b3d28e0b7a9d"
            },
            "outputs": [
                {
                    "output_type": "display_data",
                    "data": {
                        "text/html": "Commands completed successfully."
                    },
                    "metadata": {}
                },
                {
                    "output_type": "display_data",
                    "data": {
                        "text/html": "Commands completed successfully."
                    },
                    "metadata": {}
                },
                {
                    "output_type": "display_data",
                    "data": {
                        "text/html": "Commands completed successfully."
                    },
                    "metadata": {}
                },
                {
                    "output_type": "display_data",
                    "data": {
                        "text/html": "Commands completed successfully."
                    },
                    "metadata": {}
                },
                {
                    "output_type": "display_data",
                    "data": {
                        "text/html": "(3 rows affected)"
                    },
                    "metadata": {}
                },
                {
                    "output_type": "display_data",
                    "data": {
                        "text/html": "Total execution time: 00:00:00.129"
                    },
                    "metadata": {}
                }
            ],
            "execution_count": 10
        },
        {
            "cell_type": "markdown",
            "source": [
                "Step 3 - Generate\\_Fact\\_Table"
            ],
            "metadata": {
                "language": "sql",
                "azdata_cell_guid": "a698c1d8-8ae3-4c30-b5d2-21e6c9def7a7"
            },
            "attachments": {}
        },
        {
            "cell_type": "code",
            "source": [
                "/*============================================================\r\n",
                "1) Delete all the records in the  fact table \r\n",
                "2) Drop any temp tables references in the script. \r\n",
                " The reason for this is that so the scripts can be run multiple times. So can be \r\n",
                " used training purposes.  Also that anyone use the same process shown in the\r\n",
                " session.\r\n",
                "=============================================================*/\r\n",
                "TRUNCATE TABLE [dbo].[FactCallsHandled];\r\n",
                "DROP TABLE IF EXISTS #Names;\r\n",
                "DROP TABLE IF EXISTS #AgentPerformance;\r\n",
                "\r\n",
                "/*============================================================\r\n",
                "create a temp table which contains names of the agents\r\n",
                "=============================================================*/\r\n",
                "CREATE TABLE #Names\r\n",
                "(\r\n",
                "    AgentID INT\r\n",
                ");\r\n",
                "/*============================================================\r\n",
                "create the temp fact table which will contain the stats to be used\r\n",
                "=============================================================*/\r\n",
                "CREATE TABLE #AgentPerformance\r\n",
                "(\r\n",
                "    ID INT IDENTITY(1, 1),\r\n",
                "    AgentID INT,\r\n",
                "    DateUpdated DATETIME,\r\n",
                "    CallsAnswered INT,\r\n",
                "    CallsFowarded INT,\r\n",
                "    CallMissed INT\r\n",
                ");\r\n",
                "\r\n",
                "INSERT INTO #Names\r\n",
                "(\r\n",
                "    AgentID\r\n",
                ")\r\n",
                "VALUES\r\n",
                "(1),\r\n",
                "(2),\r\n",
                "(3);\r\n",
                "\r\n",
                "/*============================================================\r\n",
                "https://stackoverflow.com/questions/11141507/how-to-generate-a-range-of-dates-in-sql-server#11141660\r\n",
                "=============================================================*/\r\n",
                "\r\n",
                "DECLARE @start DATETIME,\r\n",
                "        @end DATETIME;\r\n",
                "\r\n",
                "/*get start date 6 months in the past\r\n",
                "based on date when the script is ran*/\r\n",
                "SET @start = CAST(DATEADD(MONTH, -6, DATEADD(dd, -1, GETDATE())) AS DATE);\r\n",
                "/*get end date 6 days in the past\r\n",
                "based on date when the script is ran*/\r\n",
                "SET @end = CAST(DATEADD(DAY, -6, GETDATE()) AS DATE);\r\n",
                "\r\n",
                "SELECT @start AS [Start],\r\n",
                "       @end AS [End];\r\n",
                "WITH n\r\n",
                "AS (SELECT TOP (DATEDIFF(DAY, @start, @end) + 1)\r\n",
                "           n = ROW_NUMBER() OVER (ORDER BY [object_id])\r\n",
                "    FROM sys.all_objects),\r\n",
                "     UserNames\r\n",
                "AS (SELECT Na.AgentID,\r\n",
                "           DATEADD(DAY, n - 1, @start) [Date]\r\n",
                "    FROM n\r\n",
                "        CROSS JOIN #Names AS Na)\r\n",
                "INSERT INTO #AgentPerformance\r\n",
                "(\r\n",
                "    AgentID,\r\n",
                "    DateUpdated\r\n",
                ")\r\n",
                "SELECT UserNames.AgentID,\r\n",
                "       UserNames.Date\r\n",
                "FROM UserNames;\r\n",
                "\r\n",
                "DECLARE @AgentPerformanceRowCount AS INT;\r\n",
                "\r\n",
                "SET @AgentPerformanceRowCount =\r\n",
                "(\r\n",
                "    SELECT COUNT(*)FROM #AgentPerformance\r\n",
                ");\r\n",
                "/*\r\n",
                "https://www.sqlshack.com/how-to-generate-random-sql-server-test-data-using-t-sql/\r\n",
                "*/\r\n",
                ";\r\n",
                "WITH randowvalues\r\n",
                "AS (SELECT 1 id,\r\n",
                "           CAST(RAND(CHECKSUM(NEWID())) * 100 AS INT) AS CallsAnswered,\r\n",
                "           CAST(RAND(CHECKSUM(NEWID())) * 100 AS INT) AS CallsFowarded,\r\n",
                "           CAST(RAND(CHECKSUM(NEWID())) * 100 AS INT) AS CallMissed\r\n",
                "    UNION ALL\r\n",
                "    SELECT id + 1,\r\n",
                "           CAST(RAND(CHECKSUM(NEWID())) * 100 AS INT) AS CallsAnswered,\r\n",
                "           CAST(RAND(CHECKSUM(NEWID())) * 100 AS INT) AS CallsFowarded,\r\n",
                "           CAST(RAND(CHECKSUM(NEWID())) * 100 AS INT) AS CallMissed\r\n",
                "    FROM randowvalues\r\n",
                "    WHERE\r\n",
                "        --id < 1000\r\n",
                "        id < @AgentPerformanceRowCount)\r\n",
                "INSERT INTO [dbo].[FactCallsHandled]\r\n",
                "(\r\n",
                "    ID,\r\n",
                "    [AgentId],\r\n",
                "    [CallDate],\r\n",
                "    [AnsweredCall],\r\n",
                "    [MissedCall],\r\n",
                "    [FowardedCall]\r\n",
                ")\r\n",
                "SELECT RV.id,\r\n",
                "       AP.AgentID,\r\n",
                "       AP.DateUpdated,\r\n",
                "       RV.CallsAnswered,\r\n",
                "       RV.CallMissed,\r\n",
                "       RV.CallsFowarded\r\n",
                "FROM randowvalues AS RV\r\n",
                "    INNER JOIN #AgentPerformance AS AP\r\n",
                "        ON AP.ID = RV.id\r\n",
                "OPTION (MAXRECURSION 0);\r\n",
                "\r\n",
                "DROP TABLE IF EXISTS #Names;\r\n",
                "DROP TABLE IF EXISTS #AgentPerformance;"
            ],
            "metadata": {
                "language": "sql",
                "azdata_cell_guid": "6e8f016c-d2fc-486c-b24c-792320fd5610"
            },
            "outputs": [
                {
                    "output_type": "display_data",
                    "data": {
                        "text/html": "(3 rows affected)"
                    },
                    "metadata": {}
                },
                {
                    "output_type": "display_data",
                    "data": {
                        "text/html": "(1 row affected)"
                    },
                    "metadata": {}
                },
                {
                    "output_type": "display_data",
                    "data": {
                        "text/html": "(540 rows affected)"
                    },
                    "metadata": {}
                },
                {
                    "output_type": "display_data",
                    "data": {
                        "text/html": "(540 rows affected)"
                    },
                    "metadata": {}
                },
                {
                    "output_type": "display_data",
                    "data": {
                        "text/html": "Total execution time: 00:00:00.078"
                    },
                    "metadata": {}
                },
                {
                    "output_type": "execute_result",
                    "metadata": {},
                    "execution_count": 11,
                    "data": {
                        "application/vnd.dataresource+json": {
                            "schema": {
                                "fields": [
                                    {
                                        "name": "Start"
                                    },
                                    {
                                        "name": "End"
                                    }
                                ]
                            },
                            "data": [
                                {
                                    "0": "2022-07-14 00:00:00.000",
                                    "1": "2023-01-09 00:00:00.000"
                                }
                            ]
                        },
                        "text/html": [
                            "<table>",
                            "<tr><th>Start</th><th>End</th></tr>",
                            "<tr><td>2022-07-14 00:00:00.000</td><td>2023-01-09 00:00:00.000</td></tr>",
                            "</table>"
                        ]
                    }
                }
            ],
            "execution_count": 11
        },
        {
            "cell_type": "markdown",
            "source": [
                "Lets look at whats in the tables\n",
                "\n",
                "In the DimAgents Table"
            ],
            "metadata": {
                "language": "sql",
                "azdata_cell_guid": "1e79cdb7-79e8-4bc7-ad32-55ab94a1aaab"
            },
            "attachments": {}
        },
        {
            "cell_type": "code",
            "source": [
                "SELECT [ID]\r\n",
                "      ,[AgentName]\r\n",
                "  FROM [dbo].[DimAgent]"
            ],
            "metadata": {
                "language": "sql",
                "azdata_cell_guid": "02aaaee9-c0fc-46d7-b1e0-a421d2f77af3"
            },
            "outputs": [
                {
                    "output_type": "display_data",
                    "data": {
                        "text/html": "(3 rows affected)"
                    },
                    "metadata": {}
                },
                {
                    "output_type": "display_data",
                    "data": {
                        "text/html": "Total execution time: 00:00:00.043"
                    },
                    "metadata": {}
                },
                {
                    "output_type": "execute_result",
                    "metadata": {},
                    "execution_count": 12,
                    "data": {
                        "application/vnd.dataresource+json": {
                            "schema": {
                                "fields": [
                                    {
                                        "name": "ID"
                                    },
                                    {
                                        "name": "AgentName"
                                    }
                                ]
                            },
                            "data": [
                                {
                                    "0": "1",
                                    "1": "YasserM"
                                },
                                {
                                    "0": "2",
                                    "1": "SusanP"
                                },
                                {
                                    "0": "3",
                                    "1": "ThomasR"
                                }
                            ]
                        },
                        "text/html": [
                            "<table>",
                            "<tr><th>ID</th><th>AgentName</th></tr>",
                            "<tr><td>1</td><td>YasserM</td></tr>",
                            "<tr><td>2</td><td>SusanP</td></tr>",
                            "<tr><td>3</td><td>ThomasR</td></tr>",
                            "</table>"
                        ]
                    }
                }
            ],
            "execution_count": 12
        },
        {
            "cell_type": "markdown",
            "source": [
                "Lets look at whats in the tables\n",
                "\n",
                "In the FactCallsHandled Table"
            ],
            "metadata": {
                "language": "sql",
                "azdata_cell_guid": "e7859978-d7bf-4e17-98c8-56cc5f5b55ff"
            },
            "attachments": {}
        },
        {
            "cell_type": "code",
            "source": [
                "SELECT [ID]\r\n",
                "      ,[CallDate]\r\n",
                "      ,[AgentId]\r\n",
                "      ,[AnsweredCall]\r\n",
                "      ,[MissedCall]\r\n",
                "      ,[FowardedCall]\r\n",
                "      ,[AdjustedDate]\r\n",
                "  FROM [dbo].[FactCallsHandled]"
            ],
            "metadata": {
                "language": "sql",
                "azdata_cell_guid": "77303b12-0de6-4b6c-9046-4f4c5308c7ee"
            },
            "outputs": [
                {
                    "output_type": "display_data",
                    "data": {
                        "text/html": "(540 rows affected)"
                    },
                    "metadata": {}
                },
                {
                    "output_type": "display_data",
                    "data": {
                        "text/html": "Total execution time: 00:00:00.054"
                    },
                    "metadata": {}
                },
                {
                    "output_type": "execute_result",
                    "metadata": {},
                    "execution_count": 13,
                    "data": {
                        "application/vnd.dataresource+json": {
                            "schema": {
                                "fields": [
                                    {
                                        "name": "ID"
                                    },
                                    {
                                        "name": "CallDate"
                                    },
                                    {
                                        "name": "AgentId"
                                    },
                                    {
                                        "name": "AnsweredCall"
                                    },
                                    {
                                        "name": "MissedCall"
                                    },
                                    {
                                        "name": "FowardedCall"
                                    },
                                    {
                                        "name": "AdjustedDate"
                                    }
                                ]
                            },
                            "data": [
                                {
                                    "0": "1",
                                    "1": "2022-07-14 00:00:00.000",
                                    "2": "1",
                                    "3": "89",
                                    "4": "77",
                                    "5": "44",
                                    "6": "NULL"
                                },
                                {
                                    "0": "2",
                                    "1": "2022-07-15 00:00:00.000",
                                    "2": "1",
                                    "3": "24",
                                    "4": "47",
                                    "5": "99",
                                    "6": "NULL"
                                },
                                {
                                    "0": "3",
                                    "1": "2022-07-16 00:00:00.000",
                                    "2": "1",
                                    "3": "99",
                                    "4": "37",
                                    "5": "8",
                                    "6": "NULL"
                                },
                                {
                                    "0": "4",
                                    "1": "2022-07-17 00:00:00.000",
                                    "2": "1",
                                    "3": "4",
                                    "4": "48",
                                    "5": "34",
                                    "6": "NULL"
                                },
                                {
                                    "0": "5",
                                    "1": "2022-07-18 00:00:00.000",
                                    "2": "1",
                                    "3": "91",
                                    "4": "14",
                                    "5": "34",
                                    "6": "NULL"
                                },
                                {
                                    "0": "6",
                                    "1": "2022-07-19 00:00:00.000",
                                    "2": "1",
                                    "3": "29",
                                    "4": "19",
                                    "5": "3",
                                    "6": "NULL"
                                },
                                {
                                    "0": "7",
                                    "1": "2022-07-20 00:00:00.000",
                                    "2": "1",
                                    "3": "48",
                                    "4": "40",
                                    "5": "29",
                                    "6": "NULL"
                                },
                                {
                                    "0": "8",
                                    "1": "2022-07-21 00:00:00.000",
                                    "2": "1",
                                    "3": "32",
                                    "4": "53",
                                    "5": "45",
                                    "6": "NULL"
                                },
                                {
                                    "0": "9",
                                    "1": "2022-07-22 00:00:00.000",
                                    "2": "1",
                                    "3": "12",
                                    "4": "36",
                                    "5": "96",
                                    "6": "NULL"
                                },
                                {
                                    "0": "10",
                                    "1": "2022-07-23 00:00:00.000",
                                    "2": "1",
                                    "3": "39",
                                    "4": "21",
                                    "5": "52",
                                    "6": "NULL"
                                },
                                {
                                    "0": "11",
                                    "1": "2022-07-24 00:00:00.000",
                                    "2": "1",
                                    "3": "44",
                                    "4": "3",
                                    "5": "55",
                                    "6": "NULL"
                                },
                                {
                                    "0": "12",
                                    "1": "2022-07-25 00:00:00.000",
                                    "2": "1",
                                    "3": "12",
                                    "4": "48",
                                    "5": "97",
                                    "6": "NULL"
                                },
                                {
                                    "0": "13",
                                    "1": "2022-07-26 00:00:00.000",
                                    "2": "1",
                                    "3": "64",
                                    "4": "86",
                                    "5": "33",
                                    "6": "NULL"
                                },
                                {
                                    "0": "14",
                                    "1": "2022-07-27 00:00:00.000",
                                    "2": "1",
                                    "3": "35",
                                    "4": "15",
                                    "5": "18",
                                    "6": "NULL"
                                },
                                {
                                    "0": "15",
                                    "1": "2022-07-28 00:00:00.000",
                                    "2": "1",
                                    "3": "84",
                                    "4": "42",
                                    "5": "25",
                                    "6": "NULL"
                                },
                                {
                                    "0": "16",
                                    "1": "2022-07-29 00:00:00.000",
                                    "2": "1",
                                    "3": "78",
                                    "4": "38",
                                    "5": "84",
                                    "6": "NULL"
                                },
                                {
                                    "0": "17",
                                    "1": "2022-07-30 00:00:00.000",
                                    "2": "1",
                                    "3": "43",
                                    "4": "63",
                                    "5": "51",
                                    "6": "NULL"
                                },
                                {
                                    "0": "18",
                                    "1": "2022-07-31 00:00:00.000",
                                    "2": "1",
                                    "3": "85",
                                    "4": "30",
                                    "5": "71",
                                    "6": "NULL"
                                },
                                {
                                    "0": "19",
                                    "1": "2022-08-01 00:00:00.000",
                                    "2": "1",
                                    "3": "97",
                                    "4": "77",
                                    "5": "13",
                                    "6": "NULL"
                                },
                                {
                                    "0": "20",
                                    "1": "2022-08-02 00:00:00.000",
                                    "2": "1",
                                    "3": "66",
                                    "4": "55",
                                    "5": "5",
                                    "6": "NULL"
                                },
                                {
                                    "0": "21",
                                    "1": "2022-08-03 00:00:00.000",
                                    "2": "1",
                                    "3": "86",
                                    "4": "43",
                                    "5": "99",
                                    "6": "NULL"
                                },
                                {
                                    "0": "22",
                                    "1": "2022-08-04 00:00:00.000",
                                    "2": "1",
                                    "3": "46",
                                    "4": "52",
                                    "5": "53",
                                    "6": "NULL"
                                },
                                {
                                    "0": "23",
                                    "1": "2022-08-05 00:00:00.000",
                                    "2": "1",
                                    "3": "89",
                                    "4": "13",
                                    "5": "7",
                                    "6": "NULL"
                                },
                                {
                                    "0": "24",
                                    "1": "2022-08-06 00:00:00.000",
                                    "2": "1",
                                    "3": "85",
                                    "4": "71",
                                    "5": "16",
                                    "6": "NULL"
                                },
                                {
                                    "0": "25",
                                    "1": "2022-08-07 00:00:00.000",
                                    "2": "1",
                                    "3": "21",
                                    "4": "50",
                                    "5": "19",
                                    "6": "NULL"
                                },
                                {
                                    "0": "26",
                                    "1": "2022-08-08 00:00:00.000",
                                    "2": "1",
                                    "3": "85",
                                    "4": "0",
                                    "5": "28",
                                    "6": "NULL"
                                },
                                {
                                    "0": "27",
                                    "1": "2022-08-09 00:00:00.000",
                                    "2": "1",
                                    "3": "37",
                                    "4": "31",
                                    "5": "76",
                                    "6": "NULL"
                                },
                                {
                                    "0": "28",
                                    "1": "2022-08-10 00:00:00.000",
                                    "2": "1",
                                    "3": "16",
                                    "4": "40",
                                    "5": "25",
                                    "6": "NULL"
                                },
                                {
                                    "0": "29",
                                    "1": "2022-08-11 00:00:00.000",
                                    "2": "1",
                                    "3": "2",
                                    "4": "60",
                                    "5": "13",
                                    "6": "NULL"
                                },
                                {
                                    "0": "30",
                                    "1": "2022-08-12 00:00:00.000",
                                    "2": "1",
                                    "3": "30",
                                    "4": "22",
                                    "5": "26",
                                    "6": "NULL"
                                },
                                {
                                    "0": "31",
                                    "1": "2022-08-13 00:00:00.000",
                                    "2": "1",
                                    "3": "40",
                                    "4": "6",
                                    "5": "8",
                                    "6": "NULL"
                                },
                                {
                                    "0": "32",
                                    "1": "2022-08-14 00:00:00.000",
                                    "2": "1",
                                    "3": "52",
                                    "4": "8",
                                    "5": "8",
                                    "6": "NULL"
                                },
                                {
                                    "0": "33",
                                    "1": "2022-08-15 00:00:00.000",
                                    "2": "1",
                                    "3": "90",
                                    "4": "84",
                                    "5": "60",
                                    "6": "NULL"
                                },
                                {
                                    "0": "34",
                                    "1": "2022-08-16 00:00:00.000",
                                    "2": "1",
                                    "3": "23",
                                    "4": "97",
                                    "5": "3",
                                    "6": "NULL"
                                },
                                {
                                    "0": "35",
                                    "1": "2022-08-17 00:00:00.000",
                                    "2": "1",
                                    "3": "10",
                                    "4": "40",
                                    "5": "42",
                                    "6": "NULL"
                                },
                                {
                                    "0": "36",
                                    "1": "2022-08-18 00:00:00.000",
                                    "2": "1",
                                    "3": "0",
                                    "4": "69",
                                    "5": "84",
                                    "6": "NULL"
                                },
                                {
                                    "0": "37",
                                    "1": "2022-08-19 00:00:00.000",
                                    "2": "1",
                                    "3": "56",
                                    "4": "47",
                                    "5": "6",
                                    "6": "NULL"
                                },
                                {
                                    "0": "38",
                                    "1": "2022-08-20 00:00:00.000",
                                    "2": "1",
                                    "3": "35",
                                    "4": "48",
                                    "5": "41",
                                    "6": "NULL"
                                },
                                {
                                    "0": "39",
                                    "1": "2022-08-21 00:00:00.000",
                                    "2": "1",
                                    "3": "74",
                                    "4": "25",
                                    "5": "91",
                                    "6": "NULL"
                                },
                                {
                                    "0": "40",
                                    "1": "2022-08-22 00:00:00.000",
                                    "2": "1",
                                    "3": "36",
                                    "4": "12",
                                    "5": "64",
                                    "6": "NULL"
                                },
                                {
                                    "0": "41",
                                    "1": "2022-08-23 00:00:00.000",
                                    "2": "1",
                                    "3": "85",
                                    "4": "69",
                                    "5": "95",
                                    "6": "NULL"
                                },
                                {
                                    "0": "42",
                                    "1": "2022-08-24 00:00:00.000",
                                    "2": "1",
                                    "3": "66",
                                    "4": "61",
                                    "5": "7",
                                    "6": "NULL"
                                },
                                {
                                    "0": "43",
                                    "1": "2022-08-25 00:00:00.000",
                                    "2": "1",
                                    "3": "88",
                                    "4": "97",
                                    "5": "98",
                                    "6": "NULL"
                                },
                                {
                                    "0": "44",
                                    "1": "2022-08-26 00:00:00.000",
                                    "2": "1",
                                    "3": "68",
                                    "4": "58",
                                    "5": "45",
                                    "6": "NULL"
                                },
                                {
                                    "0": "45",
                                    "1": "2022-08-27 00:00:00.000",
                                    "2": "1",
                                    "3": "84",
                                    "4": "19",
                                    "5": "81",
                                    "6": "NULL"
                                },
                                {
                                    "0": "46",
                                    "1": "2022-08-28 00:00:00.000",
                                    "2": "1",
                                    "3": "74",
                                    "4": "82",
                                    "5": "43",
                                    "6": "NULL"
                                },
                                {
                                    "0": "47",
                                    "1": "2022-08-29 00:00:00.000",
                                    "2": "1",
                                    "3": "93",
                                    "4": "56",
                                    "5": "25",
                                    "6": "NULL"
                                },
                                {
                                    "0": "48",
                                    "1": "2022-08-30 00:00:00.000",
                                    "2": "1",
                                    "3": "92",
                                    "4": "86",
                                    "5": "50",
                                    "6": "NULL"
                                },
                                {
                                    "0": "49",
                                    "1": "2022-08-31 00:00:00.000",
                                    "2": "1",
                                    "3": "38",
                                    "4": "43",
                                    "5": "41",
                                    "6": "NULL"
                                },
                                {
                                    "0": "50",
                                    "1": "2022-09-01 00:00:00.000",
                                    "2": "1",
                                    "3": "39",
                                    "4": "50",
                                    "5": "17",
                                    "6": "NULL"
                                },
                                {
                                    "0": "51",
                                    "1": "2022-09-02 00:00:00.000",
                                    "2": "1",
                                    "3": "26",
                                    "4": "65",
                                    "5": "64",
                                    "6": "NULL"
                                },
                                {
                                    "0": "52",
                                    "1": "2022-09-03 00:00:00.000",
                                    "2": "1",
                                    "3": "39",
                                    "4": "91",
                                    "5": "4",
                                    "6": "NULL"
                                },
                                {
                                    "0": "53",
                                    "1": "2022-09-04 00:00:00.000",
                                    "2": "1",
                                    "3": "70",
                                    "4": "15",
                                    "5": "61",
                                    "6": "NULL"
                                },
                                {
                                    "0": "54",
                                    "1": "2022-09-05 00:00:00.000",
                                    "2": "1",
                                    "3": "79",
                                    "4": "10",
                                    "5": "9",
                                    "6": "NULL"
                                },
                                {
                                    "0": "55",
                                    "1": "2022-09-06 00:00:00.000",
                                    "2": "1",
                                    "3": "93",
                                    "4": "19",
                                    "5": "31",
                                    "6": "NULL"
                                },
                                {
                                    "0": "56",
                                    "1": "2022-09-07 00:00:00.000",
                                    "2": "1",
                                    "3": "77",
                                    "4": "72",
                                    "5": "95",
                                    "6": "NULL"
                                },
                                {
                                    "0": "57",
                                    "1": "2022-09-08 00:00:00.000",
                                    "2": "1",
                                    "3": "44",
                                    "4": "73",
                                    "5": "82",
                                    "6": "NULL"
                                },
                                {
                                    "0": "58",
                                    "1": "2022-09-09 00:00:00.000",
                                    "2": "1",
                                    "3": "70",
                                    "4": "47",
                                    "5": "20",
                                    "6": "NULL"
                                },
                                {
                                    "0": "59",
                                    "1": "2022-09-10 00:00:00.000",
                                    "2": "1",
                                    "3": "72",
                                    "4": "62",
                                    "5": "53",
                                    "6": "NULL"
                                },
                                {
                                    "0": "60",
                                    "1": "2022-09-11 00:00:00.000",
                                    "2": "1",
                                    "3": "11",
                                    "4": "43",
                                    "5": "16",
                                    "6": "NULL"
                                },
                                {
                                    "0": "61",
                                    "1": "2022-09-12 00:00:00.000",
                                    "2": "1",
                                    "3": "93",
                                    "4": "26",
                                    "5": "40",
                                    "6": "NULL"
                                },
                                {
                                    "0": "62",
                                    "1": "2022-09-13 00:00:00.000",
                                    "2": "1",
                                    "3": "10",
                                    "4": "73",
                                    "5": "69",
                                    "6": "NULL"
                                },
                                {
                                    "0": "63",
                                    "1": "2022-09-14 00:00:00.000",
                                    "2": "1",
                                    "3": "31",
                                    "4": "19",
                                    "5": "60",
                                    "6": "NULL"
                                },
                                {
                                    "0": "64",
                                    "1": "2022-09-15 00:00:00.000",
                                    "2": "1",
                                    "3": "23",
                                    "4": "68",
                                    "5": "14",
                                    "6": "NULL"
                                },
                                {
                                    "0": "65",
                                    "1": "2022-09-16 00:00:00.000",
                                    "2": "1",
                                    "3": "22",
                                    "4": "42",
                                    "5": "22",
                                    "6": "NULL"
                                },
                                {
                                    "0": "66",
                                    "1": "2022-09-17 00:00:00.000",
                                    "2": "1",
                                    "3": "11",
                                    "4": "59",
                                    "5": "53",
                                    "6": "NULL"
                                },
                                {
                                    "0": "67",
                                    "1": "2022-09-18 00:00:00.000",
                                    "2": "1",
                                    "3": "53",
                                    "4": "61",
                                    "5": "2",
                                    "6": "NULL"
                                },
                                {
                                    "0": "68",
                                    "1": "2022-09-19 00:00:00.000",
                                    "2": "1",
                                    "3": "61",
                                    "4": "90",
                                    "5": "93",
                                    "6": "NULL"
                                },
                                {
                                    "0": "69",
                                    "1": "2022-09-20 00:00:00.000",
                                    "2": "1",
                                    "3": "69",
                                    "4": "55",
                                    "5": "34",
                                    "6": "NULL"
                                },
                                {
                                    "0": "70",
                                    "1": "2022-09-21 00:00:00.000",
                                    "2": "1",
                                    "3": "80",
                                    "4": "28",
                                    "5": "44",
                                    "6": "NULL"
                                },
                                {
                                    "0": "71",
                                    "1": "2022-09-22 00:00:00.000",
                                    "2": "1",
                                    "3": "16",
                                    "4": "46",
                                    "5": "12",
                                    "6": "NULL"
                                },
                                {
                                    "0": "72",
                                    "1": "2022-09-23 00:00:00.000",
                                    "2": "1",
                                    "3": "95",
                                    "4": "70",
                                    "5": "20",
                                    "6": "NULL"
                                },
                                {
                                    "0": "73",
                                    "1": "2022-09-24 00:00:00.000",
                                    "2": "1",
                                    "3": "87",
                                    "4": "63",
                                    "5": "28",
                                    "6": "NULL"
                                },
                                {
                                    "0": "74",
                                    "1": "2022-09-25 00:00:00.000",
                                    "2": "1",
                                    "3": "7",
                                    "4": "97",
                                    "5": "43",
                                    "6": "NULL"
                                },
                                {
                                    "0": "75",
                                    "1": "2022-09-26 00:00:00.000",
                                    "2": "1",
                                    "3": "9",
                                    "4": "63",
                                    "5": "61",
                                    "6": "NULL"
                                },
                                {
                                    "0": "76",
                                    "1": "2022-09-27 00:00:00.000",
                                    "2": "1",
                                    "3": "30",
                                    "4": "80",
                                    "5": "88",
                                    "6": "NULL"
                                },
                                {
                                    "0": "77",
                                    "1": "2022-09-28 00:00:00.000",
                                    "2": "1",
                                    "3": "78",
                                    "4": "15",
                                    "5": "98",
                                    "6": "NULL"
                                },
                                {
                                    "0": "78",
                                    "1": "2022-09-29 00:00:00.000",
                                    "2": "1",
                                    "3": "71",
                                    "4": "65",
                                    "5": "80",
                                    "6": "NULL"
                                },
                                {
                                    "0": "79",
                                    "1": "2022-09-30 00:00:00.000",
                                    "2": "1",
                                    "3": "30",
                                    "4": "98",
                                    "5": "66",
                                    "6": "NULL"
                                },
                                {
                                    "0": "80",
                                    "1": "2022-10-01 00:00:00.000",
                                    "2": "1",
                                    "3": "48",
                                    "4": "68",
                                    "5": "14",
                                    "6": "NULL"
                                },
                                {
                                    "0": "81",
                                    "1": "2022-10-02 00:00:00.000",
                                    "2": "1",
                                    "3": "86",
                                    "4": "99",
                                    "5": "51",
                                    "6": "NULL"
                                },
                                {
                                    "0": "82",
                                    "1": "2022-10-03 00:00:00.000",
                                    "2": "1",
                                    "3": "92",
                                    "4": "71",
                                    "5": "43",
                                    "6": "NULL"
                                },
                                {
                                    "0": "83",
                                    "1": "2022-10-04 00:00:00.000",
                                    "2": "1",
                                    "3": "72",
                                    "4": "79",
                                    "5": "54",
                                    "6": "NULL"
                                },
                                {
                                    "0": "84",
                                    "1": "2022-10-05 00:00:00.000",
                                    "2": "1",
                                    "3": "57",
                                    "4": "25",
                                    "5": "50",
                                    "6": "NULL"
                                },
                                {
                                    "0": "85",
                                    "1": "2022-10-06 00:00:00.000",
                                    "2": "1",
                                    "3": "6",
                                    "4": "12",
                                    "5": "33",
                                    "6": "NULL"
                                },
                                {
                                    "0": "86",
                                    "1": "2022-10-07 00:00:00.000",
                                    "2": "1",
                                    "3": "2",
                                    "4": "12",
                                    "5": "90",
                                    "6": "NULL"
                                },
                                {
                                    "0": "87",
                                    "1": "2022-10-08 00:00:00.000",
                                    "2": "1",
                                    "3": "80",
                                    "4": "63",
                                    "5": "95",
                                    "6": "NULL"
                                },
                                {
                                    "0": "88",
                                    "1": "2022-10-09 00:00:00.000",
                                    "2": "1",
                                    "3": "45",
                                    "4": "92",
                                    "5": "9",
                                    "6": "NULL"
                                },
                                {
                                    "0": "89",
                                    "1": "2022-10-10 00:00:00.000",
                                    "2": "1",
                                    "3": "47",
                                    "4": "40",
                                    "5": "61",
                                    "6": "NULL"
                                },
                                {
                                    "0": "90",
                                    "1": "2022-10-11 00:00:00.000",
                                    "2": "1",
                                    "3": "7",
                                    "4": "7",
                                    "5": "79",
                                    "6": "NULL"
                                },
                                {
                                    "0": "91",
                                    "1": "2022-10-12 00:00:00.000",
                                    "2": "1",
                                    "3": "51",
                                    "4": "64",
                                    "5": "26",
                                    "6": "NULL"
                                },
                                {
                                    "0": "92",
                                    "1": "2022-10-13 00:00:00.000",
                                    "2": "1",
                                    "3": "32",
                                    "4": "10",
                                    "5": "86",
                                    "6": "NULL"
                                },
                                {
                                    "0": "93",
                                    "1": "2022-10-14 00:00:00.000",
                                    "2": "1",
                                    "3": "45",
                                    "4": "58",
                                    "5": "47",
                                    "6": "NULL"
                                },
                                {
                                    "0": "94",
                                    "1": "2022-10-15 00:00:00.000",
                                    "2": "1",
                                    "3": "32",
                                    "4": "8",
                                    "5": "72",
                                    "6": "NULL"
                                },
                                {
                                    "0": "95",
                                    "1": "2022-10-16 00:00:00.000",
                                    "2": "1",
                                    "3": "25",
                                    "4": "82",
                                    "5": "21",
                                    "6": "NULL"
                                },
                                {
                                    "0": "96",
                                    "1": "2022-10-17 00:00:00.000",
                                    "2": "1",
                                    "3": "36",
                                    "4": "2",
                                    "5": "71",
                                    "6": "NULL"
                                },
                                {
                                    "0": "97",
                                    "1": "2022-10-18 00:00:00.000",
                                    "2": "1",
                                    "3": "24",
                                    "4": "13",
                                    "5": "70",
                                    "6": "NULL"
                                },
                                {
                                    "0": "98",
                                    "1": "2022-10-19 00:00:00.000",
                                    "2": "1",
                                    "3": "88",
                                    "4": "20",
                                    "5": "50",
                                    "6": "NULL"
                                },
                                {
                                    "0": "99",
                                    "1": "2022-10-20 00:00:00.000",
                                    "2": "1",
                                    "3": "29",
                                    "4": "19",
                                    "5": "71",
                                    "6": "NULL"
                                },
                                {
                                    "0": "100",
                                    "1": "2022-10-21 00:00:00.000",
                                    "2": "1",
                                    "3": "53",
                                    "4": "38",
                                    "5": "99",
                                    "6": "NULL"
                                },
                                {
                                    "0": "101",
                                    "1": "2022-10-22 00:00:00.000",
                                    "2": "1",
                                    "3": "33",
                                    "4": "60",
                                    "5": "91",
                                    "6": "NULL"
                                },
                                {
                                    "0": "102",
                                    "1": "2022-10-23 00:00:00.000",
                                    "2": "1",
                                    "3": "74",
                                    "4": "56",
                                    "5": "98",
                                    "6": "NULL"
                                },
                                {
                                    "0": "103",
                                    "1": "2022-10-24 00:00:00.000",
                                    "2": "1",
                                    "3": "15",
                                    "4": "27",
                                    "5": "19",
                                    "6": "NULL"
                                },
                                {
                                    "0": "104",
                                    "1": "2022-10-25 00:00:00.000",
                                    "2": "1",
                                    "3": "12",
                                    "4": "27",
                                    "5": "65",
                                    "6": "NULL"
                                },
                                {
                                    "0": "105",
                                    "1": "2022-10-26 00:00:00.000",
                                    "2": "1",
                                    "3": "78",
                                    "4": "51",
                                    "5": "28",
                                    "6": "NULL"
                                },
                                {
                                    "0": "106",
                                    "1": "2022-10-27 00:00:00.000",
                                    "2": "1",
                                    "3": "40",
                                    "4": "92",
                                    "5": "44",
                                    "6": "NULL"
                                },
                                {
                                    "0": "107",
                                    "1": "2022-10-28 00:00:00.000",
                                    "2": "1",
                                    "3": "65",
                                    "4": "37",
                                    "5": "19",
                                    "6": "NULL"
                                },
                                {
                                    "0": "108",
                                    "1": "2022-10-29 00:00:00.000",
                                    "2": "1",
                                    "3": "91",
                                    "4": "97",
                                    "5": "80",
                                    "6": "NULL"
                                },
                                {
                                    "0": "109",
                                    "1": "2022-10-30 00:00:00.000",
                                    "2": "1",
                                    "3": "22",
                                    "4": "57",
                                    "5": "83",
                                    "6": "NULL"
                                },
                                {
                                    "0": "110",
                                    "1": "2022-10-31 00:00:00.000",
                                    "2": "1",
                                    "3": "84",
                                    "4": "3",
                                    "5": "95",
                                    "6": "NULL"
                                },
                                {
                                    "0": "111",
                                    "1": "2022-11-01 00:00:00.000",
                                    "2": "1",
                                    "3": "62",
                                    "4": "62",
                                    "5": "66",
                                    "6": "NULL"
                                },
                                {
                                    "0": "112",
                                    "1": "2022-11-02 00:00:00.000",
                                    "2": "1",
                                    "3": "75",
                                    "4": "83",
                                    "5": "55",
                                    "6": "NULL"
                                },
                                {
                                    "0": "113",
                                    "1": "2022-11-03 00:00:00.000",
                                    "2": "1",
                                    "3": "44",
                                    "4": "37",
                                    "5": "17",
                                    "6": "NULL"
                                },
                                {
                                    "0": "114",
                                    "1": "2022-11-04 00:00:00.000",
                                    "2": "1",
                                    "3": "47",
                                    "4": "98",
                                    "5": "49",
                                    "6": "NULL"
                                },
                                {
                                    "0": "115",
                                    "1": "2022-11-05 00:00:00.000",
                                    "2": "1",
                                    "3": "19",
                                    "4": "93",
                                    "5": "3",
                                    "6": "NULL"
                                },
                                {
                                    "0": "116",
                                    "1": "2022-11-06 00:00:00.000",
                                    "2": "1",
                                    "3": "91",
                                    "4": "57",
                                    "5": "53",
                                    "6": "NULL"
                                },
                                {
                                    "0": "117",
                                    "1": "2022-11-07 00:00:00.000",
                                    "2": "1",
                                    "3": "20",
                                    "4": "10",
                                    "5": "29",
                                    "6": "NULL"
                                },
                                {
                                    "0": "118",
                                    "1": "2022-11-08 00:00:00.000",
                                    "2": "1",
                                    "3": "54",
                                    "4": "91",
                                    "5": "3",
                                    "6": "NULL"
                                },
                                {
                                    "0": "119",
                                    "1": "2022-11-09 00:00:00.000",
                                    "2": "1",
                                    "3": "62",
                                    "4": "9",
                                    "5": "92",
                                    "6": "NULL"
                                },
                                {
                                    "0": "120",
                                    "1": "2022-11-10 00:00:00.000",
                                    "2": "1",
                                    "3": "79",
                                    "4": "75",
                                    "5": "64",
                                    "6": "NULL"
                                },
                                {
                                    "0": "121",
                                    "1": "2022-11-11 00:00:00.000",
                                    "2": "1",
                                    "3": "12",
                                    "4": "62",
                                    "5": "67",
                                    "6": "NULL"
                                },
                                {
                                    "0": "122",
                                    "1": "2022-11-12 00:00:00.000",
                                    "2": "1",
                                    "3": "98",
                                    "4": "20",
                                    "5": "37",
                                    "6": "NULL"
                                },
                                {
                                    "0": "123",
                                    "1": "2022-11-13 00:00:00.000",
                                    "2": "1",
                                    "3": "19",
                                    "4": "18",
                                    "5": "35",
                                    "6": "NULL"
                                },
                                {
                                    "0": "124",
                                    "1": "2022-11-14 00:00:00.000",
                                    "2": "1",
                                    "3": "67",
                                    "4": "34",
                                    "5": "42",
                                    "6": "NULL"
                                },
                                {
                                    "0": "125",
                                    "1": "2022-11-15 00:00:00.000",
                                    "2": "1",
                                    "3": "81",
                                    "4": "38",
                                    "5": "69",
                                    "6": "NULL"
                                },
                                {
                                    "0": "126",
                                    "1": "2022-11-16 00:00:00.000",
                                    "2": "1",
                                    "3": "22",
                                    "4": "90",
                                    "5": "7",
                                    "6": "NULL"
                                },
                                {
                                    "0": "127",
                                    "1": "2022-11-17 00:00:00.000",
                                    "2": "1",
                                    "3": "48",
                                    "4": "5",
                                    "5": "53",
                                    "6": "NULL"
                                },
                                {
                                    "0": "128",
                                    "1": "2022-11-18 00:00:00.000",
                                    "2": "1",
                                    "3": "24",
                                    "4": "55",
                                    "5": "62",
                                    "6": "NULL"
                                },
                                {
                                    "0": "129",
                                    "1": "2022-11-19 00:00:00.000",
                                    "2": "1",
                                    "3": "42",
                                    "4": "76",
                                    "5": "61",
                                    "6": "NULL"
                                },
                                {
                                    "0": "130",
                                    "1": "2022-11-20 00:00:00.000",
                                    "2": "1",
                                    "3": "40",
                                    "4": "18",
                                    "5": "82",
                                    "6": "NULL"
                                },
                                {
                                    "0": "131",
                                    "1": "2022-11-21 00:00:00.000",
                                    "2": "1",
                                    "3": "94",
                                    "4": "55",
                                    "5": "58",
                                    "6": "NULL"
                                },
                                {
                                    "0": "132",
                                    "1": "2022-11-22 00:00:00.000",
                                    "2": "1",
                                    "3": "84",
                                    "4": "73",
                                    "5": "33",
                                    "6": "NULL"
                                },
                                {
                                    "0": "133",
                                    "1": "2022-11-23 00:00:00.000",
                                    "2": "1",
                                    "3": "51",
                                    "4": "73",
                                    "5": "80",
                                    "6": "NULL"
                                },
                                {
                                    "0": "134",
                                    "1": "2022-11-24 00:00:00.000",
                                    "2": "1",
                                    "3": "38",
                                    "4": "88",
                                    "5": "92",
                                    "6": "NULL"
                                },
                                {
                                    "0": "135",
                                    "1": "2022-11-25 00:00:00.000",
                                    "2": "1",
                                    "3": "83",
                                    "4": "46",
                                    "5": "76",
                                    "6": "NULL"
                                },
                                {
                                    "0": "136",
                                    "1": "2022-11-26 00:00:00.000",
                                    "2": "1",
                                    "3": "53",
                                    "4": "30",
                                    "5": "0",
                                    "6": "NULL"
                                },
                                {
                                    "0": "137",
                                    "1": "2022-11-27 00:00:00.000",
                                    "2": "1",
                                    "3": "4",
                                    "4": "47",
                                    "5": "42",
                                    "6": "NULL"
                                },
                                {
                                    "0": "138",
                                    "1": "2022-11-28 00:00:00.000",
                                    "2": "1",
                                    "3": "72",
                                    "4": "3",
                                    "5": "21",
                                    "6": "NULL"
                                },
                                {
                                    "0": "139",
                                    "1": "2022-11-29 00:00:00.000",
                                    "2": "1",
                                    "3": "39",
                                    "4": "66",
                                    "5": "11",
                                    "6": "NULL"
                                },
                                {
                                    "0": "140",
                                    "1": "2022-11-30 00:00:00.000",
                                    "2": "1",
                                    "3": "39",
                                    "4": "75",
                                    "5": "37",
                                    "6": "NULL"
                                },
                                {
                                    "0": "141",
                                    "1": "2022-12-01 00:00:00.000",
                                    "2": "1",
                                    "3": "41",
                                    "4": "52",
                                    "5": "88",
                                    "6": "NULL"
                                },
                                {
                                    "0": "142",
                                    "1": "2022-12-02 00:00:00.000",
                                    "2": "1",
                                    "3": "40",
                                    "4": "7",
                                    "5": "25",
                                    "6": "NULL"
                                },
                                {
                                    "0": "143",
                                    "1": "2022-12-03 00:00:00.000",
                                    "2": "1",
                                    "3": "56",
                                    "4": "77",
                                    "5": "50",
                                    "6": "NULL"
                                },
                                {
                                    "0": "144",
                                    "1": "2022-12-04 00:00:00.000",
                                    "2": "1",
                                    "3": "90",
                                    "4": "66",
                                    "5": "74",
                                    "6": "NULL"
                                },
                                {
                                    "0": "145",
                                    "1": "2022-12-05 00:00:00.000",
                                    "2": "1",
                                    "3": "32",
                                    "4": "15",
                                    "5": "23",
                                    "6": "NULL"
                                },
                                {
                                    "0": "146",
                                    "1": "2022-12-06 00:00:00.000",
                                    "2": "1",
                                    "3": "2",
                                    "4": "9",
                                    "5": "70",
                                    "6": "NULL"
                                },
                                {
                                    "0": "147",
                                    "1": "2022-12-07 00:00:00.000",
                                    "2": "1",
                                    "3": "16",
                                    "4": "18",
                                    "5": "58",
                                    "6": "NULL"
                                },
                                {
                                    "0": "148",
                                    "1": "2022-12-08 00:00:00.000",
                                    "2": "1",
                                    "3": "68",
                                    "4": "31",
                                    "5": "38",
                                    "6": "NULL"
                                },
                                {
                                    "0": "149",
                                    "1": "2022-12-09 00:00:00.000",
                                    "2": "1",
                                    "3": "74",
                                    "4": "86",
                                    "5": "37",
                                    "6": "NULL"
                                },
                                {
                                    "0": "150",
                                    "1": "2022-12-10 00:00:00.000",
                                    "2": "1",
                                    "3": "0",
                                    "4": "96",
                                    "5": "99",
                                    "6": "NULL"
                                },
                                {
                                    "0": "151",
                                    "1": "2022-12-11 00:00:00.000",
                                    "2": "1",
                                    "3": "83",
                                    "4": "11",
                                    "5": "50",
                                    "6": "NULL"
                                },
                                {
                                    "0": "152",
                                    "1": "2022-12-12 00:00:00.000",
                                    "2": "1",
                                    "3": "75",
                                    "4": "53",
                                    "5": "80",
                                    "6": "NULL"
                                },
                                {
                                    "0": "153",
                                    "1": "2022-12-13 00:00:00.000",
                                    "2": "1",
                                    "3": "74",
                                    "4": "49",
                                    "5": "55",
                                    "6": "NULL"
                                },
                                {
                                    "0": "154",
                                    "1": "2022-12-14 00:00:00.000",
                                    "2": "1",
                                    "3": "53",
                                    "4": "36",
                                    "5": "2",
                                    "6": "NULL"
                                },
                                {
                                    "0": "155",
                                    "1": "2022-12-15 00:00:00.000",
                                    "2": "1",
                                    "3": "59",
                                    "4": "58",
                                    "5": "2",
                                    "6": "NULL"
                                },
                                {
                                    "0": "156",
                                    "1": "2022-12-16 00:00:00.000",
                                    "2": "1",
                                    "3": "13",
                                    "4": "64",
                                    "5": "14",
                                    "6": "NULL"
                                },
                                {
                                    "0": "157",
                                    "1": "2022-12-17 00:00:00.000",
                                    "2": "1",
                                    "3": "96",
                                    "4": "67",
                                    "5": "6",
                                    "6": "NULL"
                                },
                                {
                                    "0": "158",
                                    "1": "2022-12-18 00:00:00.000",
                                    "2": "1",
                                    "3": "32",
                                    "4": "18",
                                    "5": "87",
                                    "6": "NULL"
                                },
                                {
                                    "0": "159",
                                    "1": "2022-12-19 00:00:00.000",
                                    "2": "1",
                                    "3": "67",
                                    "4": "23",
                                    "5": "82",
                                    "6": "NULL"
                                },
                                {
                                    "0": "160",
                                    "1": "2022-12-20 00:00:00.000",
                                    "2": "1",
                                    "3": "73",
                                    "4": "21",
                                    "5": "78",
                                    "6": "NULL"
                                },
                                {
                                    "0": "161",
                                    "1": "2022-12-21 00:00:00.000",
                                    "2": "1",
                                    "3": "54",
                                    "4": "44",
                                    "5": "38",
                                    "6": "NULL"
                                },
                                {
                                    "0": "162",
                                    "1": "2022-12-22 00:00:00.000",
                                    "2": "1",
                                    "3": "39",
                                    "4": "6",
                                    "5": "84",
                                    "6": "NULL"
                                },
                                {
                                    "0": "163",
                                    "1": "2022-12-23 00:00:00.000",
                                    "2": "1",
                                    "3": "90",
                                    "4": "92",
                                    "5": "95",
                                    "6": "NULL"
                                },
                                {
                                    "0": "164",
                                    "1": "2022-12-24 00:00:00.000",
                                    "2": "1",
                                    "3": "55",
                                    "4": "36",
                                    "5": "20",
                                    "6": "NULL"
                                },
                                {
                                    "0": "165",
                                    "1": "2022-12-25 00:00:00.000",
                                    "2": "1",
                                    "3": "57",
                                    "4": "55",
                                    "5": "87",
                                    "6": "NULL"
                                },
                                {
                                    "0": "166",
                                    "1": "2022-12-26 00:00:00.000",
                                    "2": "1",
                                    "3": "17",
                                    "4": "74",
                                    "5": "87",
                                    "6": "NULL"
                                },
                                {
                                    "0": "167",
                                    "1": "2022-12-27 00:00:00.000",
                                    "2": "1",
                                    "3": "42",
                                    "4": "6",
                                    "5": "67",
                                    "6": "NULL"
                                },
                                {
                                    "0": "168",
                                    "1": "2022-12-28 00:00:00.000",
                                    "2": "1",
                                    "3": "37",
                                    "4": "72",
                                    "5": "62",
                                    "6": "NULL"
                                },
                                {
                                    "0": "169",
                                    "1": "2022-12-29 00:00:00.000",
                                    "2": "1",
                                    "3": "60",
                                    "4": "0",
                                    "5": "43",
                                    "6": "NULL"
                                },
                                {
                                    "0": "170",
                                    "1": "2022-12-30 00:00:00.000",
                                    "2": "1",
                                    "3": "82",
                                    "4": "81",
                                    "5": "96",
                                    "6": "NULL"
                                },
                                {
                                    "0": "171",
                                    "1": "2022-12-31 00:00:00.000",
                                    "2": "1",
                                    "3": "54",
                                    "4": "68",
                                    "5": "62",
                                    "6": "NULL"
                                },
                                {
                                    "0": "172",
                                    "1": "2023-01-01 00:00:00.000",
                                    "2": "1",
                                    "3": "51",
                                    "4": "36",
                                    "5": "67",
                                    "6": "NULL"
                                },
                                {
                                    "0": "173",
                                    "1": "2023-01-02 00:00:00.000",
                                    "2": "1",
                                    "3": "36",
                                    "4": "12",
                                    "5": "13",
                                    "6": "NULL"
                                },
                                {
                                    "0": "174",
                                    "1": "2023-01-03 00:00:00.000",
                                    "2": "1",
                                    "3": "21",
                                    "4": "45",
                                    "5": "97",
                                    "6": "NULL"
                                },
                                {
                                    "0": "175",
                                    "1": "2023-01-04 00:00:00.000",
                                    "2": "1",
                                    "3": "22",
                                    "4": "86",
                                    "5": "15",
                                    "6": "NULL"
                                },
                                {
                                    "0": "176",
                                    "1": "2023-01-05 00:00:00.000",
                                    "2": "1",
                                    "3": "59",
                                    "4": "37",
                                    "5": "38",
                                    "6": "NULL"
                                },
                                {
                                    "0": "177",
                                    "1": "2023-01-06 00:00:00.000",
                                    "2": "1",
                                    "3": "45",
                                    "4": "30",
                                    "5": "12",
                                    "6": "NULL"
                                },
                                {
                                    "0": "178",
                                    "1": "2023-01-07 00:00:00.000",
                                    "2": "1",
                                    "3": "85",
                                    "4": "58",
                                    "5": "88",
                                    "6": "NULL"
                                },
                                {
                                    "0": "179",
                                    "1": "2023-01-08 00:00:00.000",
                                    "2": "1",
                                    "3": "17",
                                    "4": "57",
                                    "5": "60",
                                    "6": "NULL"
                                },
                                {
                                    "0": "180",
                                    "1": "2023-01-09 00:00:00.000",
                                    "2": "1",
                                    "3": "42",
                                    "4": "30",
                                    "5": "17",
                                    "6": "NULL"
                                },
                                {
                                    "0": "181",
                                    "1": "2022-07-14 00:00:00.000",
                                    "2": "2",
                                    "3": "76",
                                    "4": "21",
                                    "5": "89",
                                    "6": "NULL"
                                },
                                {
                                    "0": "182",
                                    "1": "2022-07-15 00:00:00.000",
                                    "2": "2",
                                    "3": "14",
                                    "4": "75",
                                    "5": "12",
                                    "6": "NULL"
                                },
                                {
                                    "0": "183",
                                    "1": "2022-07-16 00:00:00.000",
                                    "2": "2",
                                    "3": "89",
                                    "4": "94",
                                    "5": "78",
                                    "6": "NULL"
                                },
                                {
                                    "0": "184",
                                    "1": "2022-07-17 00:00:00.000",
                                    "2": "2",
                                    "3": "18",
                                    "4": "61",
                                    "5": "22",
                                    "6": "NULL"
                                },
                                {
                                    "0": "185",
                                    "1": "2022-07-18 00:00:00.000",
                                    "2": "2",
                                    "3": "36",
                                    "4": "89",
                                    "5": "83",
                                    "6": "NULL"
                                },
                                {
                                    "0": "186",
                                    "1": "2022-07-19 00:00:00.000",
                                    "2": "2",
                                    "3": "76",
                                    "4": "89",
                                    "5": "45",
                                    "6": "NULL"
                                },
                                {
                                    "0": "187",
                                    "1": "2022-07-20 00:00:00.000",
                                    "2": "2",
                                    "3": "82",
                                    "4": "39",
                                    "5": "89",
                                    "6": "NULL"
                                },
                                {
                                    "0": "188",
                                    "1": "2022-07-21 00:00:00.000",
                                    "2": "2",
                                    "3": "35",
                                    "4": "32",
                                    "5": "60",
                                    "6": "NULL"
                                },
                                {
                                    "0": "189",
                                    "1": "2022-07-22 00:00:00.000",
                                    "2": "2",
                                    "3": "61",
                                    "4": "92",
                                    "5": "56",
                                    "6": "NULL"
                                },
                                {
                                    "0": "190",
                                    "1": "2022-07-23 00:00:00.000",
                                    "2": "2",
                                    "3": "58",
                                    "4": "68",
                                    "5": "86",
                                    "6": "NULL"
                                },
                                {
                                    "0": "191",
                                    "1": "2022-07-24 00:00:00.000",
                                    "2": "2",
                                    "3": "25",
                                    "4": "47",
                                    "5": "0",
                                    "6": "NULL"
                                },
                                {
                                    "0": "192",
                                    "1": "2022-07-25 00:00:00.000",
                                    "2": "2",
                                    "3": "83",
                                    "4": "50",
                                    "5": "56",
                                    "6": "NULL"
                                },
                                {
                                    "0": "193",
                                    "1": "2022-07-26 00:00:00.000",
                                    "2": "2",
                                    "3": "55",
                                    "4": "0",
                                    "5": "49",
                                    "6": "NULL"
                                },
                                {
                                    "0": "194",
                                    "1": "2022-07-27 00:00:00.000",
                                    "2": "2",
                                    "3": "25",
                                    "4": "51",
                                    "5": "49",
                                    "6": "NULL"
                                },
                                {
                                    "0": "195",
                                    "1": "2022-07-28 00:00:00.000",
                                    "2": "2",
                                    "3": "16",
                                    "4": "77",
                                    "5": "38",
                                    "6": "NULL"
                                },
                                {
                                    "0": "196",
                                    "1": "2022-07-29 00:00:00.000",
                                    "2": "2",
                                    "3": "70",
                                    "4": "25",
                                    "5": "41",
                                    "6": "NULL"
                                },
                                {
                                    "0": "197",
                                    "1": "2022-07-30 00:00:00.000",
                                    "2": "2",
                                    "3": "36",
                                    "4": "63",
                                    "5": "19",
                                    "6": "NULL"
                                },
                                {
                                    "0": "198",
                                    "1": "2022-07-31 00:00:00.000",
                                    "2": "2",
                                    "3": "34",
                                    "4": "34",
                                    "5": "31",
                                    "6": "NULL"
                                },
                                {
                                    "0": "199",
                                    "1": "2022-08-01 00:00:00.000",
                                    "2": "2",
                                    "3": "58",
                                    "4": "4",
                                    "5": "69",
                                    "6": "NULL"
                                },
                                {
                                    "0": "200",
                                    "1": "2022-08-02 00:00:00.000",
                                    "2": "2",
                                    "3": "78",
                                    "4": "67",
                                    "5": "38",
                                    "6": "NULL"
                                },
                                {
                                    "0": "201",
                                    "1": "2022-08-03 00:00:00.000",
                                    "2": "2",
                                    "3": "71",
                                    "4": "64",
                                    "5": "18",
                                    "6": "NULL"
                                },
                                {
                                    "0": "202",
                                    "1": "2022-08-04 00:00:00.000",
                                    "2": "2",
                                    "3": "19",
                                    "4": "46",
                                    "5": "21",
                                    "6": "NULL"
                                },
                                {
                                    "0": "203",
                                    "1": "2022-08-05 00:00:00.000",
                                    "2": "2",
                                    "3": "58",
                                    "4": "86",
                                    "5": "6",
                                    "6": "NULL"
                                },
                                {
                                    "0": "204",
                                    "1": "2022-08-06 00:00:00.000",
                                    "2": "2",
                                    "3": "6",
                                    "4": "68",
                                    "5": "65",
                                    "6": "NULL"
                                },
                                {
                                    "0": "205",
                                    "1": "2022-08-07 00:00:00.000",
                                    "2": "2",
                                    "3": "61",
                                    "4": "44",
                                    "5": "21",
                                    "6": "NULL"
                                },
                                {
                                    "0": "206",
                                    "1": "2022-08-08 00:00:00.000",
                                    "2": "2",
                                    "3": "84",
                                    "4": "55",
                                    "5": "8",
                                    "6": "NULL"
                                },
                                {
                                    "0": "207",
                                    "1": "2022-08-09 00:00:00.000",
                                    "2": "2",
                                    "3": "51",
                                    "4": "95",
                                    "5": "55",
                                    "6": "NULL"
                                },
                                {
                                    "0": "208",
                                    "1": "2022-08-10 00:00:00.000",
                                    "2": "2",
                                    "3": "47",
                                    "4": "47",
                                    "5": "55",
                                    "6": "NULL"
                                },
                                {
                                    "0": "209",
                                    "1": "2022-08-11 00:00:00.000",
                                    "2": "2",
                                    "3": "13",
                                    "4": "29",
                                    "5": "75",
                                    "6": "NULL"
                                },
                                {
                                    "0": "210",
                                    "1": "2022-08-12 00:00:00.000",
                                    "2": "2",
                                    "3": "16",
                                    "4": "61",
                                    "5": "54",
                                    "6": "NULL"
                                },
                                {
                                    "0": "211",
                                    "1": "2022-08-13 00:00:00.000",
                                    "2": "2",
                                    "3": "7",
                                    "4": "7",
                                    "5": "85",
                                    "6": "NULL"
                                },
                                {
                                    "0": "212",
                                    "1": "2022-08-14 00:00:00.000",
                                    "2": "2",
                                    "3": "4",
                                    "4": "29",
                                    "5": "0",
                                    "6": "NULL"
                                },
                                {
                                    "0": "213",
                                    "1": "2022-08-15 00:00:00.000",
                                    "2": "2",
                                    "3": "89",
                                    "4": "47",
                                    "5": "22",
                                    "6": "NULL"
                                },
                                {
                                    "0": "214",
                                    "1": "2022-08-16 00:00:00.000",
                                    "2": "2",
                                    "3": "93",
                                    "4": "3",
                                    "5": "74",
                                    "6": "NULL"
                                },
                                {
                                    "0": "215",
                                    "1": "2022-08-17 00:00:00.000",
                                    "2": "2",
                                    "3": "85",
                                    "4": "98",
                                    "5": "14",
                                    "6": "NULL"
                                },
                                {
                                    "0": "216",
                                    "1": "2022-08-18 00:00:00.000",
                                    "2": "2",
                                    "3": "74",
                                    "4": "72",
                                    "5": "57",
                                    "6": "NULL"
                                },
                                {
                                    "0": "217",
                                    "1": "2022-08-19 00:00:00.000",
                                    "2": "2",
                                    "3": "24",
                                    "4": "22",
                                    "5": "57",
                                    "6": "NULL"
                                },
                                {
                                    "0": "218",
                                    "1": "2022-08-20 00:00:00.000",
                                    "2": "2",
                                    "3": "29",
                                    "4": "53",
                                    "5": "84",
                                    "6": "NULL"
                                },
                                {
                                    "0": "219",
                                    "1": "2022-08-21 00:00:00.000",
                                    "2": "2",
                                    "3": "65",
                                    "4": "25",
                                    "5": "38",
                                    "6": "NULL"
                                },
                                {
                                    "0": "220",
                                    "1": "2022-08-22 00:00:00.000",
                                    "2": "2",
                                    "3": "62",
                                    "4": "23",
                                    "5": "36",
                                    "6": "NULL"
                                },
                                {
                                    "0": "221",
                                    "1": "2022-08-23 00:00:00.000",
                                    "2": "2",
                                    "3": "92",
                                    "4": "40",
                                    "5": "30",
                                    "6": "NULL"
                                },
                                {
                                    "0": "222",
                                    "1": "2022-08-24 00:00:00.000",
                                    "2": "2",
                                    "3": "70",
                                    "4": "38",
                                    "5": "17",
                                    "6": "NULL"
                                },
                                {
                                    "0": "223",
                                    "1": "2022-08-25 00:00:00.000",
                                    "2": "2",
                                    "3": "16",
                                    "4": "60",
                                    "5": "95",
                                    "6": "NULL"
                                },
                                {
                                    "0": "224",
                                    "1": "2022-08-26 00:00:00.000",
                                    "2": "2",
                                    "3": "41",
                                    "4": "82",
                                    "5": "87",
                                    "6": "NULL"
                                },
                                {
                                    "0": "225",
                                    "1": "2022-08-27 00:00:00.000",
                                    "2": "2",
                                    "3": "38",
                                    "4": "18",
                                    "5": "64",
                                    "6": "NULL"
                                },
                                {
                                    "0": "226",
                                    "1": "2022-08-28 00:00:00.000",
                                    "2": "2",
                                    "3": "65",
                                    "4": "58",
                                    "5": "0",
                                    "6": "NULL"
                                },
                                {
                                    "0": "227",
                                    "1": "2022-08-29 00:00:00.000",
                                    "2": "2",
                                    "3": "6",
                                    "4": "46",
                                    "5": "82",
                                    "6": "NULL"
                                },
                                {
                                    "0": "228",
                                    "1": "2022-08-30 00:00:00.000",
                                    "2": "2",
                                    "3": "29",
                                    "4": "6",
                                    "5": "49",
                                    "6": "NULL"
                                },
                                {
                                    "0": "229",
                                    "1": "2022-08-31 00:00:00.000",
                                    "2": "2",
                                    "3": "93",
                                    "4": "12",
                                    "5": "59",
                                    "6": "NULL"
                                },
                                {
                                    "0": "230",
                                    "1": "2022-09-01 00:00:00.000",
                                    "2": "2",
                                    "3": "27",
                                    "4": "77",
                                    "5": "1",
                                    "6": "NULL"
                                },
                                {
                                    "0": "231",
                                    "1": "2022-09-02 00:00:00.000",
                                    "2": "2",
                                    "3": "62",
                                    "4": "45",
                                    "5": "81",
                                    "6": "NULL"
                                },
                                {
                                    "0": "232",
                                    "1": "2022-09-03 00:00:00.000",
                                    "2": "2",
                                    "3": "8",
                                    "4": "47",
                                    "5": "51",
                                    "6": "NULL"
                                },
                                {
                                    "0": "233",
                                    "1": "2022-09-04 00:00:00.000",
                                    "2": "2",
                                    "3": "60",
                                    "4": "72",
                                    "5": "60",
                                    "6": "NULL"
                                },
                                {
                                    "0": "234",
                                    "1": "2022-09-05 00:00:00.000",
                                    "2": "2",
                                    "3": "91",
                                    "4": "39",
                                    "5": "4",
                                    "6": "NULL"
                                },
                                {
                                    "0": "235",
                                    "1": "2022-09-06 00:00:00.000",
                                    "2": "2",
                                    "3": "74",
                                    "4": "76",
                                    "5": "61",
                                    "6": "NULL"
                                },
                                {
                                    "0": "236",
                                    "1": "2022-09-07 00:00:00.000",
                                    "2": "2",
                                    "3": "36",
                                    "4": "84",
                                    "5": "8",
                                    "6": "NULL"
                                },
                                {
                                    "0": "237",
                                    "1": "2022-09-08 00:00:00.000",
                                    "2": "2",
                                    "3": "94",
                                    "4": "95",
                                    "5": "39",
                                    "6": "NULL"
                                },
                                {
                                    "0": "238",
                                    "1": "2022-09-09 00:00:00.000",
                                    "2": "2",
                                    "3": "86",
                                    "4": "84",
                                    "5": "61",
                                    "6": "NULL"
                                },
                                {
                                    "0": "239",
                                    "1": "2022-09-10 00:00:00.000",
                                    "2": "2",
                                    "3": "77",
                                    "4": "59",
                                    "5": "87",
                                    "6": "NULL"
                                },
                                {
                                    "0": "240",
                                    "1": "2022-09-11 00:00:00.000",
                                    "2": "2",
                                    "3": "78",
                                    "4": "22",
                                    "5": "78",
                                    "6": "NULL"
                                },
                                {
                                    "0": "241",
                                    "1": "2022-09-12 00:00:00.000",
                                    "2": "2",
                                    "3": "66",
                                    "4": "67",
                                    "5": "25",
                                    "6": "NULL"
                                },
                                {
                                    "0": "242",
                                    "1": "2022-09-13 00:00:00.000",
                                    "2": "2",
                                    "3": "99",
                                    "4": "80",
                                    "5": "71",
                                    "6": "NULL"
                                },
                                {
                                    "0": "243",
                                    "1": "2022-09-14 00:00:00.000",
                                    "2": "2",
                                    "3": "91",
                                    "4": "13",
                                    "5": "82",
                                    "6": "NULL"
                                },
                                {
                                    "0": "244",
                                    "1": "2022-09-15 00:00:00.000",
                                    "2": "2",
                                    "3": "85",
                                    "4": "0",
                                    "5": "45",
                                    "6": "NULL"
                                },
                                {
                                    "0": "245",
                                    "1": "2022-09-16 00:00:00.000",
                                    "2": "2",
                                    "3": "67",
                                    "4": "52",
                                    "5": "71",
                                    "6": "NULL"
                                },
                                {
                                    "0": "246",
                                    "1": "2022-09-17 00:00:00.000",
                                    "2": "2",
                                    "3": "1",
                                    "4": "80",
                                    "5": "60",
                                    "6": "NULL"
                                },
                                {
                                    "0": "247",
                                    "1": "2022-09-18 00:00:00.000",
                                    "2": "2",
                                    "3": "67",
                                    "4": "82",
                                    "5": "65",
                                    "6": "NULL"
                                },
                                {
                                    "0": "248",
                                    "1": "2022-09-19 00:00:00.000",
                                    "2": "2",
                                    "3": "10",
                                    "4": "54",
                                    "5": "72",
                                    "6": "NULL"
                                },
                                {
                                    "0": "249",
                                    "1": "2022-09-20 00:00:00.000",
                                    "2": "2",
                                    "3": "33",
                                    "4": "33",
                                    "5": "55",
                                    "6": "NULL"
                                },
                                {
                                    "0": "250",
                                    "1": "2022-09-21 00:00:00.000",
                                    "2": "2",
                                    "3": "58",
                                    "4": "20",
                                    "5": "87",
                                    "6": "NULL"
                                },
                                {
                                    "0": "251",
                                    "1": "2022-09-22 00:00:00.000",
                                    "2": "2",
                                    "3": "46",
                                    "4": "55",
                                    "5": "15",
                                    "6": "NULL"
                                },
                                {
                                    "0": "252",
                                    "1": "2022-09-23 00:00:00.000",
                                    "2": "2",
                                    "3": "79",
                                    "4": "51",
                                    "5": "72",
                                    "6": "NULL"
                                },
                                {
                                    "0": "253",
                                    "1": "2022-09-24 00:00:00.000",
                                    "2": "2",
                                    "3": "55",
                                    "4": "49",
                                    "5": "27",
                                    "6": "NULL"
                                },
                                {
                                    "0": "254",
                                    "1": "2022-09-25 00:00:00.000",
                                    "2": "2",
                                    "3": "96",
                                    "4": "6",
                                    "5": "65",
                                    "6": "NULL"
                                },
                                {
                                    "0": "255",
                                    "1": "2022-09-26 00:00:00.000",
                                    "2": "2",
                                    "3": "72",
                                    "4": "2",
                                    "5": "35",
                                    "6": "NULL"
                                },
                                {
                                    "0": "256",
                                    "1": "2022-09-27 00:00:00.000",
                                    "2": "2",
                                    "3": "77",
                                    "4": "58",
                                    "5": "87",
                                    "6": "NULL"
                                },
                                {
                                    "0": "257",
                                    "1": "2022-09-28 00:00:00.000",
                                    "2": "2",
                                    "3": "38",
                                    "4": "86",
                                    "5": "53",
                                    "6": "NULL"
                                },
                                {
                                    "0": "258",
                                    "1": "2022-09-29 00:00:00.000",
                                    "2": "2",
                                    "3": "76",
                                    "4": "54",
                                    "5": "29",
                                    "6": "NULL"
                                },
                                {
                                    "0": "259",
                                    "1": "2022-09-30 00:00:00.000",
                                    "2": "2",
                                    "3": "40",
                                    "4": "75",
                                    "5": "10",
                                    "6": "NULL"
                                },
                                {
                                    "0": "260",
                                    "1": "2022-10-01 00:00:00.000",
                                    "2": "2",
                                    "3": "88",
                                    "4": "1",
                                    "5": "68",
                                    "6": "NULL"
                                },
                                {
                                    "0": "261",
                                    "1": "2022-10-02 00:00:00.000",
                                    "2": "2",
                                    "3": "41",
                                    "4": "99",
                                    "5": "24",
                                    "6": "NULL"
                                },
                                {
                                    "0": "262",
                                    "1": "2022-10-03 00:00:00.000",
                                    "2": "2",
                                    "3": "79",
                                    "4": "10",
                                    "5": "64",
                                    "6": "NULL"
                                },
                                {
                                    "0": "263",
                                    "1": "2022-10-04 00:00:00.000",
                                    "2": "2",
                                    "3": "68",
                                    "4": "90",
                                    "5": "3",
                                    "6": "NULL"
                                },
                                {
                                    "0": "264",
                                    "1": "2022-10-05 00:00:00.000",
                                    "2": "2",
                                    "3": "48",
                                    "4": "8",
                                    "5": "90",
                                    "6": "NULL"
                                },
                                {
                                    "0": "265",
                                    "1": "2022-10-06 00:00:00.000",
                                    "2": "2",
                                    "3": "37",
                                    "4": "71",
                                    "5": "99",
                                    "6": "NULL"
                                },
                                {
                                    "0": "266",
                                    "1": "2022-10-07 00:00:00.000",
                                    "2": "2",
                                    "3": "80",
                                    "4": "26",
                                    "5": "82",
                                    "6": "NULL"
                                },
                                {
                                    "0": "267",
                                    "1": "2022-10-08 00:00:00.000",
                                    "2": "2",
                                    "3": "77",
                                    "4": "66",
                                    "5": "75",
                                    "6": "NULL"
                                },
                                {
                                    "0": "268",
                                    "1": "2022-10-09 00:00:00.000",
                                    "2": "2",
                                    "3": "3",
                                    "4": "63",
                                    "5": "32",
                                    "6": "NULL"
                                },
                                {
                                    "0": "269",
                                    "1": "2022-10-10 00:00:00.000",
                                    "2": "2",
                                    "3": "34",
                                    "4": "51",
                                    "5": "18",
                                    "6": "NULL"
                                },
                                {
                                    "0": "270",
                                    "1": "2022-10-11 00:00:00.000",
                                    "2": "2",
                                    "3": "68",
                                    "4": "8",
                                    "5": "19",
                                    "6": "NULL"
                                },
                                {
                                    "0": "271",
                                    "1": "2022-10-12 00:00:00.000",
                                    "2": "2",
                                    "3": "39",
                                    "4": "3",
                                    "5": "16",
                                    "6": "NULL"
                                },
                                {
                                    "0": "272",
                                    "1": "2022-10-13 00:00:00.000",
                                    "2": "2",
                                    "3": "16",
                                    "4": "41",
                                    "5": "33",
                                    "6": "NULL"
                                },
                                {
                                    "0": "273",
                                    "1": "2022-10-14 00:00:00.000",
                                    "2": "2",
                                    "3": "37",
                                    "4": "6",
                                    "5": "45",
                                    "6": "NULL"
                                },
                                {
                                    "0": "274",
                                    "1": "2022-10-15 00:00:00.000",
                                    "2": "2",
                                    "3": "26",
                                    "4": "28",
                                    "5": "95",
                                    "6": "NULL"
                                },
                                {
                                    "0": "275",
                                    "1": "2022-10-16 00:00:00.000",
                                    "2": "2",
                                    "3": "86",
                                    "4": "18",
                                    "5": "68",
                                    "6": "NULL"
                                },
                                {
                                    "0": "276",
                                    "1": "2022-10-17 00:00:00.000",
                                    "2": "2",
                                    "3": "59",
                                    "4": "23",
                                    "5": "3",
                                    "6": "NULL"
                                },
                                {
                                    "0": "277",
                                    "1": "2022-10-18 00:00:00.000",
                                    "2": "2",
                                    "3": "67",
                                    "4": "53",
                                    "5": "36",
                                    "6": "NULL"
                                },
                                {
                                    "0": "278",
                                    "1": "2022-10-19 00:00:00.000",
                                    "2": "2",
                                    "3": "59",
                                    "4": "27",
                                    "5": "77",
                                    "6": "NULL"
                                },
                                {
                                    "0": "279",
                                    "1": "2022-10-20 00:00:00.000",
                                    "2": "2",
                                    "3": "43",
                                    "4": "50",
                                    "5": "91",
                                    "6": "NULL"
                                },
                                {
                                    "0": "280",
                                    "1": "2022-10-21 00:00:00.000",
                                    "2": "2",
                                    "3": "30",
                                    "4": "1",
                                    "5": "69",
                                    "6": "NULL"
                                },
                                {
                                    "0": "281",
                                    "1": "2022-10-22 00:00:00.000",
                                    "2": "2",
                                    "3": "3",
                                    "4": "44",
                                    "5": "21",
                                    "6": "NULL"
                                },
                                {
                                    "0": "282",
                                    "1": "2022-10-23 00:00:00.000",
                                    "2": "2",
                                    "3": "21",
                                    "4": "77",
                                    "5": "15",
                                    "6": "NULL"
                                },
                                {
                                    "0": "283",
                                    "1": "2022-10-24 00:00:00.000",
                                    "2": "2",
                                    "3": "1",
                                    "4": "68",
                                    "5": "44",
                                    "6": "NULL"
                                },
                                {
                                    "0": "284",
                                    "1": "2022-10-25 00:00:00.000",
                                    "2": "2",
                                    "3": "89",
                                    "4": "75",
                                    "5": "0",
                                    "6": "NULL"
                                },
                                {
                                    "0": "285",
                                    "1": "2022-10-26 00:00:00.000",
                                    "2": "2",
                                    "3": "57",
                                    "4": "20",
                                    "5": "34",
                                    "6": "NULL"
                                },
                                {
                                    "0": "286",
                                    "1": "2022-10-27 00:00:00.000",
                                    "2": "2",
                                    "3": "80",
                                    "4": "71",
                                    "5": "65",
                                    "6": "NULL"
                                },
                                {
                                    "0": "287",
                                    "1": "2022-10-28 00:00:00.000",
                                    "2": "2",
                                    "3": "87",
                                    "4": "75",
                                    "5": "75",
                                    "6": "NULL"
                                },
                                {
                                    "0": "288",
                                    "1": "2022-10-29 00:00:00.000",
                                    "2": "2",
                                    "3": "30",
                                    "4": "55",
                                    "5": "61",
                                    "6": "NULL"
                                },
                                {
                                    "0": "289",
                                    "1": "2022-10-30 00:00:00.000",
                                    "2": "2",
                                    "3": "93",
                                    "4": "81",
                                    "5": "87",
                                    "6": "NULL"
                                },
                                {
                                    "0": "290",
                                    "1": "2022-10-31 00:00:00.000",
                                    "2": "2",
                                    "3": "90",
                                    "4": "7",
                                    "5": "29",
                                    "6": "NULL"
                                },
                                {
                                    "0": "291",
                                    "1": "2022-11-01 00:00:00.000",
                                    "2": "2",
                                    "3": "91",
                                    "4": "65",
                                    "5": "64",
                                    "6": "NULL"
                                },
                                {
                                    "0": "292",
                                    "1": "2022-11-02 00:00:00.000",
                                    "2": "2",
                                    "3": "60",
                                    "4": "42",
                                    "5": "25",
                                    "6": "NULL"
                                },
                                {
                                    "0": "293",
                                    "1": "2022-11-03 00:00:00.000",
                                    "2": "2",
                                    "3": "8",
                                    "4": "10",
                                    "5": "21",
                                    "6": "NULL"
                                },
                                {
                                    "0": "294",
                                    "1": "2022-11-04 00:00:00.000",
                                    "2": "2",
                                    "3": "19",
                                    "4": "0",
                                    "5": "78",
                                    "6": "NULL"
                                },
                                {
                                    "0": "295",
                                    "1": "2022-11-05 00:00:00.000",
                                    "2": "2",
                                    "3": "1",
                                    "4": "39",
                                    "5": "33",
                                    "6": "NULL"
                                },
                                {
                                    "0": "296",
                                    "1": "2022-11-06 00:00:00.000",
                                    "2": "2",
                                    "3": "79",
                                    "4": "79",
                                    "5": "58",
                                    "6": "NULL"
                                },
                                {
                                    "0": "297",
                                    "1": "2022-11-07 00:00:00.000",
                                    "2": "2",
                                    "3": "8",
                                    "4": "65",
                                    "5": "95",
                                    "6": "NULL"
                                },
                                {
                                    "0": "298",
                                    "1": "2022-11-08 00:00:00.000",
                                    "2": "2",
                                    "3": "11",
                                    "4": "35",
                                    "5": "23",
                                    "6": "NULL"
                                },
                                {
                                    "0": "299",
                                    "1": "2022-11-09 00:00:00.000",
                                    "2": "2",
                                    "3": "16",
                                    "4": "74",
                                    "5": "91",
                                    "6": "NULL"
                                },
                                {
                                    "0": "300",
                                    "1": "2022-11-10 00:00:00.000",
                                    "2": "2",
                                    "3": "73",
                                    "4": "14",
                                    "5": "35",
                                    "6": "NULL"
                                },
                                {
                                    "0": "301",
                                    "1": "2022-11-11 00:00:00.000",
                                    "2": "2",
                                    "3": "37",
                                    "4": "55",
                                    "5": "12",
                                    "6": "NULL"
                                },
                                {
                                    "0": "302",
                                    "1": "2022-11-12 00:00:00.000",
                                    "2": "2",
                                    "3": "21",
                                    "4": "18",
                                    "5": "89",
                                    "6": "NULL"
                                },
                                {
                                    "0": "303",
                                    "1": "2022-11-13 00:00:00.000",
                                    "2": "2",
                                    "3": "37",
                                    "4": "14",
                                    "5": "69",
                                    "6": "NULL"
                                },
                                {
                                    "0": "304",
                                    "1": "2022-11-14 00:00:00.000",
                                    "2": "2",
                                    "3": "57",
                                    "4": "70",
                                    "5": "16",
                                    "6": "NULL"
                                },
                                {
                                    "0": "305",
                                    "1": "2022-11-15 00:00:00.000",
                                    "2": "2",
                                    "3": "97",
                                    "4": "30",
                                    "5": "52",
                                    "6": "NULL"
                                },
                                {
                                    "0": "306",
                                    "1": "2022-11-16 00:00:00.000",
                                    "2": "2",
                                    "3": "66",
                                    "4": "31",
                                    "5": "39",
                                    "6": "NULL"
                                },
                                {
                                    "0": "307",
                                    "1": "2022-11-17 00:00:00.000",
                                    "2": "2",
                                    "3": "40",
                                    "4": "87",
                                    "5": "31",
                                    "6": "NULL"
                                },
                                {
                                    "0": "308",
                                    "1": "2022-11-18 00:00:00.000",
                                    "2": "2",
                                    "3": "12",
                                    "4": "18",
                                    "5": "91",
                                    "6": "NULL"
                                },
                                {
                                    "0": "309",
                                    "1": "2022-11-19 00:00:00.000",
                                    "2": "2",
                                    "3": "48",
                                    "4": "81",
                                    "5": "76",
                                    "6": "NULL"
                                },
                                {
                                    "0": "310",
                                    "1": "2022-11-20 00:00:00.000",
                                    "2": "2",
                                    "3": "88",
                                    "4": "32",
                                    "5": "53",
                                    "6": "NULL"
                                },
                                {
                                    "0": "311",
                                    "1": "2022-11-21 00:00:00.000",
                                    "2": "2",
                                    "3": "61",
                                    "4": "3",
                                    "5": "92",
                                    "6": "NULL"
                                },
                                {
                                    "0": "312",
                                    "1": "2022-11-22 00:00:00.000",
                                    "2": "2",
                                    "3": "53",
                                    "4": "61",
                                    "5": "97",
                                    "6": "NULL"
                                },
                                {
                                    "0": "313",
                                    "1": "2022-11-23 00:00:00.000",
                                    "2": "2",
                                    "3": "34",
                                    "4": "62",
                                    "5": "1",
                                    "6": "NULL"
                                },
                                {
                                    "0": "314",
                                    "1": "2022-11-24 00:00:00.000",
                                    "2": "2",
                                    "3": "95",
                                    "4": "91",
                                    "5": "80",
                                    "6": "NULL"
                                },
                                {
                                    "0": "315",
                                    "1": "2022-11-25 00:00:00.000",
                                    "2": "2",
                                    "3": "45",
                                    "4": "40",
                                    "5": "23",
                                    "6": "NULL"
                                },
                                {
                                    "0": "316",
                                    "1": "2022-11-26 00:00:00.000",
                                    "2": "2",
                                    "3": "52",
                                    "4": "27",
                                    "5": "72",
                                    "6": "NULL"
                                },
                                {
                                    "0": "317",
                                    "1": "2022-11-27 00:00:00.000",
                                    "2": "2",
                                    "3": "58",
                                    "4": "20",
                                    "5": "42",
                                    "6": "NULL"
                                },
                                {
                                    "0": "318",
                                    "1": "2022-11-28 00:00:00.000",
                                    "2": "2",
                                    "3": "34",
                                    "4": "22",
                                    "5": "20",
                                    "6": "NULL"
                                },
                                {
                                    "0": "319",
                                    "1": "2022-11-29 00:00:00.000",
                                    "2": "2",
                                    "3": "11",
                                    "4": "33",
                                    "5": "96",
                                    "6": "NULL"
                                },
                                {
                                    "0": "320",
                                    "1": "2022-11-30 00:00:00.000",
                                    "2": "2",
                                    "3": "58",
                                    "4": "55",
                                    "5": "47",
                                    "6": "NULL"
                                },
                                {
                                    "0": "321",
                                    "1": "2022-12-01 00:00:00.000",
                                    "2": "2",
                                    "3": "56",
                                    "4": "85",
                                    "5": "62",
                                    "6": "NULL"
                                },
                                {
                                    "0": "322",
                                    "1": "2022-12-02 00:00:00.000",
                                    "2": "2",
                                    "3": "59",
                                    "4": "82",
                                    "5": "70",
                                    "6": "NULL"
                                },
                                {
                                    "0": "323",
                                    "1": "2022-12-03 00:00:00.000",
                                    "2": "2",
                                    "3": "97",
                                    "4": "34",
                                    "5": "98",
                                    "6": "NULL"
                                },
                                {
                                    "0": "324",
                                    "1": "2022-12-04 00:00:00.000",
                                    "2": "2",
                                    "3": "14",
                                    "4": "95",
                                    "5": "23",
                                    "6": "NULL"
                                },
                                {
                                    "0": "325",
                                    "1": "2022-12-05 00:00:00.000",
                                    "2": "2",
                                    "3": "54",
                                    "4": "44",
                                    "5": "79",
                                    "6": "NULL"
                                },
                                {
                                    "0": "326",
                                    "1": "2022-12-06 00:00:00.000",
                                    "2": "2",
                                    "3": "33",
                                    "4": "2",
                                    "5": "27",
                                    "6": "NULL"
                                },
                                {
                                    "0": "327",
                                    "1": "2022-12-07 00:00:00.000",
                                    "2": "2",
                                    "3": "92",
                                    "4": "65",
                                    "5": "43",
                                    "6": "NULL"
                                },
                                {
                                    "0": "328",
                                    "1": "2022-12-08 00:00:00.000",
                                    "2": "2",
                                    "3": "87",
                                    "4": "46",
                                    "5": "3",
                                    "6": "NULL"
                                },
                                {
                                    "0": "329",
                                    "1": "2022-12-09 00:00:00.000",
                                    "2": "2",
                                    "3": "79",
                                    "4": "72",
                                    "5": "28",
                                    "6": "NULL"
                                },
                                {
                                    "0": "330",
                                    "1": "2022-12-10 00:00:00.000",
                                    "2": "2",
                                    "3": "13",
                                    "4": "84",
                                    "5": "65",
                                    "6": "NULL"
                                },
                                {
                                    "0": "331",
                                    "1": "2022-12-11 00:00:00.000",
                                    "2": "2",
                                    "3": "64",
                                    "4": "76",
                                    "5": "17",
                                    "6": "NULL"
                                },
                                {
                                    "0": "332",
                                    "1": "2022-12-12 00:00:00.000",
                                    "2": "2",
                                    "3": "48",
                                    "4": "83",
                                    "5": "52",
                                    "6": "NULL"
                                },
                                {
                                    "0": "333",
                                    "1": "2022-12-13 00:00:00.000",
                                    "2": "2",
                                    "3": "63",
                                    "4": "90",
                                    "5": "63",
                                    "6": "NULL"
                                },
                                {
                                    "0": "334",
                                    "1": "2022-12-14 00:00:00.000",
                                    "2": "2",
                                    "3": "92",
                                    "4": "40",
                                    "5": "17",
                                    "6": "NULL"
                                },
                                {
                                    "0": "335",
                                    "1": "2022-12-15 00:00:00.000",
                                    "2": "2",
                                    "3": "49",
                                    "4": "77",
                                    "5": "9",
                                    "6": "NULL"
                                },
                                {
                                    "0": "336",
                                    "1": "2022-12-16 00:00:00.000",
                                    "2": "2",
                                    "3": "86",
                                    "4": "55",
                                    "5": "65",
                                    "6": "NULL"
                                },
                                {
                                    "0": "337",
                                    "1": "2022-12-17 00:00:00.000",
                                    "2": "2",
                                    "3": "52",
                                    "4": "82",
                                    "5": "38",
                                    "6": "NULL"
                                },
                                {
                                    "0": "338",
                                    "1": "2022-12-18 00:00:00.000",
                                    "2": "2",
                                    "3": "61",
                                    "4": "60",
                                    "5": "98",
                                    "6": "NULL"
                                },
                                {
                                    "0": "339",
                                    "1": "2022-12-19 00:00:00.000",
                                    "2": "2",
                                    "3": "32",
                                    "4": "96",
                                    "5": "93",
                                    "6": "NULL"
                                },
                                {
                                    "0": "340",
                                    "1": "2022-12-20 00:00:00.000",
                                    "2": "2",
                                    "3": "57",
                                    "4": "67",
                                    "5": "85",
                                    "6": "NULL"
                                },
                                {
                                    "0": "341",
                                    "1": "2022-12-21 00:00:00.000",
                                    "2": "2",
                                    "3": "67",
                                    "4": "35",
                                    "5": "77",
                                    "6": "NULL"
                                },
                                {
                                    "0": "342",
                                    "1": "2022-12-22 00:00:00.000",
                                    "2": "2",
                                    "3": "4",
                                    "4": "31",
                                    "5": "66",
                                    "6": "NULL"
                                },
                                {
                                    "0": "343",
                                    "1": "2022-12-23 00:00:00.000",
                                    "2": "2",
                                    "3": "34",
                                    "4": "51",
                                    "5": "60",
                                    "6": "NULL"
                                },
                                {
                                    "0": "344",
                                    "1": "2022-12-24 00:00:00.000",
                                    "2": "2",
                                    "3": "76",
                                    "4": "40",
                                    "5": "43",
                                    "6": "NULL"
                                },
                                {
                                    "0": "345",
                                    "1": "2022-12-25 00:00:00.000",
                                    "2": "2",
                                    "3": "31",
                                    "4": "77",
                                    "5": "84",
                                    "6": "NULL"
                                },
                                {
                                    "0": "346",
                                    "1": "2022-12-26 00:00:00.000",
                                    "2": "2",
                                    "3": "31",
                                    "4": "19",
                                    "5": "20",
                                    "6": "NULL"
                                },
                                {
                                    "0": "347",
                                    "1": "2022-12-27 00:00:00.000",
                                    "2": "2",
                                    "3": "12",
                                    "4": "95",
                                    "5": "6",
                                    "6": "NULL"
                                },
                                {
                                    "0": "348",
                                    "1": "2022-12-28 00:00:00.000",
                                    "2": "2",
                                    "3": "26",
                                    "4": "97",
                                    "5": "61",
                                    "6": "NULL"
                                },
                                {
                                    "0": "349",
                                    "1": "2022-12-29 00:00:00.000",
                                    "2": "2",
                                    "3": "33",
                                    "4": "26",
                                    "5": "72",
                                    "6": "NULL"
                                },
                                {
                                    "0": "350",
                                    "1": "2022-12-30 00:00:00.000",
                                    "2": "2",
                                    "3": "52",
                                    "4": "93",
                                    "5": "39",
                                    "6": "NULL"
                                },
                                {
                                    "0": "351",
                                    "1": "2022-12-31 00:00:00.000",
                                    "2": "2",
                                    "3": "28",
                                    "4": "54",
                                    "5": "23",
                                    "6": "NULL"
                                },
                                {
                                    "0": "352",
                                    "1": "2023-01-01 00:00:00.000",
                                    "2": "2",
                                    "3": "60",
                                    "4": "19",
                                    "5": "6",
                                    "6": "NULL"
                                },
                                {
                                    "0": "353",
                                    "1": "2023-01-02 00:00:00.000",
                                    "2": "2",
                                    "3": "51",
                                    "4": "22",
                                    "5": "41",
                                    "6": "NULL"
                                },
                                {
                                    "0": "354",
                                    "1": "2023-01-03 00:00:00.000",
                                    "2": "2",
                                    "3": "85",
                                    "4": "50",
                                    "5": "64",
                                    "6": "NULL"
                                },
                                {
                                    "0": "355",
                                    "1": "2023-01-04 00:00:00.000",
                                    "2": "2",
                                    "3": "18",
                                    "4": "56",
                                    "5": "20",
                                    "6": "NULL"
                                },
                                {
                                    "0": "356",
                                    "1": "2023-01-05 00:00:00.000",
                                    "2": "2",
                                    "3": "53",
                                    "4": "8",
                                    "5": "76",
                                    "6": "NULL"
                                },
                                {
                                    "0": "357",
                                    "1": "2023-01-06 00:00:00.000",
                                    "2": "2",
                                    "3": "50",
                                    "4": "84",
                                    "5": "41",
                                    "6": "NULL"
                                },
                                {
                                    "0": "358",
                                    "1": "2023-01-07 00:00:00.000",
                                    "2": "2",
                                    "3": "3",
                                    "4": "41",
                                    "5": "42",
                                    "6": "NULL"
                                },
                                {
                                    "0": "359",
                                    "1": "2023-01-08 00:00:00.000",
                                    "2": "2",
                                    "3": "27",
                                    "4": "31",
                                    "5": "89",
                                    "6": "NULL"
                                },
                                {
                                    "0": "360",
                                    "1": "2023-01-09 00:00:00.000",
                                    "2": "2",
                                    "3": "87",
                                    "4": "34",
                                    "5": "86",
                                    "6": "NULL"
                                },
                                {
                                    "0": "361",
                                    "1": "2022-07-14 00:00:00.000",
                                    "2": "3",
                                    "3": "42",
                                    "4": "85",
                                    "5": "20",
                                    "6": "NULL"
                                },
                                {
                                    "0": "362",
                                    "1": "2022-07-15 00:00:00.000",
                                    "2": "3",
                                    "3": "32",
                                    "4": "98",
                                    "5": "65",
                                    "6": "NULL"
                                },
                                {
                                    "0": "363",
                                    "1": "2022-07-16 00:00:00.000",
                                    "2": "3",
                                    "3": "35",
                                    "4": "59",
                                    "5": "76",
                                    "6": "NULL"
                                },
                                {
                                    "0": "364",
                                    "1": "2022-07-17 00:00:00.000",
                                    "2": "3",
                                    "3": "73",
                                    "4": "43",
                                    "5": "51",
                                    "6": "NULL"
                                },
                                {
                                    "0": "365",
                                    "1": "2022-07-18 00:00:00.000",
                                    "2": "3",
                                    "3": "14",
                                    "4": "82",
                                    "5": "65",
                                    "6": "NULL"
                                },
                                {
                                    "0": "366",
                                    "1": "2022-07-19 00:00:00.000",
                                    "2": "3",
                                    "3": "98",
                                    "4": "51",
                                    "5": "15",
                                    "6": "NULL"
                                },
                                {
                                    "0": "367",
                                    "1": "2022-07-20 00:00:00.000",
                                    "2": "3",
                                    "3": "97",
                                    "4": "49",
                                    "5": "97",
                                    "6": "NULL"
                                },
                                {
                                    "0": "368",
                                    "1": "2022-07-21 00:00:00.000",
                                    "2": "3",
                                    "3": "7",
                                    "4": "83",
                                    "5": "41",
                                    "6": "NULL"
                                },
                                {
                                    "0": "369",
                                    "1": "2022-07-22 00:00:00.000",
                                    "2": "3",
                                    "3": "30",
                                    "4": "19",
                                    "5": "42",
                                    "6": "NULL"
                                },
                                {
                                    "0": "370",
                                    "1": "2022-07-23 00:00:00.000",
                                    "2": "3",
                                    "3": "67",
                                    "4": "17",
                                    "5": "29",
                                    "6": "NULL"
                                },
                                {
                                    "0": "371",
                                    "1": "2022-07-24 00:00:00.000",
                                    "2": "3",
                                    "3": "45",
                                    "4": "95",
                                    "5": "65",
                                    "6": "NULL"
                                },
                                {
                                    "0": "372",
                                    "1": "2022-07-25 00:00:00.000",
                                    "2": "3",
                                    "3": "39",
                                    "4": "44",
                                    "5": "14",
                                    "6": "NULL"
                                },
                                {
                                    "0": "373",
                                    "1": "2022-07-26 00:00:00.000",
                                    "2": "3",
                                    "3": "94",
                                    "4": "67",
                                    "5": "6",
                                    "6": "NULL"
                                },
                                {
                                    "0": "374",
                                    "1": "2022-07-27 00:00:00.000",
                                    "2": "3",
                                    "3": "40",
                                    "4": "45",
                                    "5": "14",
                                    "6": "NULL"
                                },
                                {
                                    "0": "375",
                                    "1": "2022-07-28 00:00:00.000",
                                    "2": "3",
                                    "3": "37",
                                    "4": "66",
                                    "5": "15",
                                    "6": "NULL"
                                },
                                {
                                    "0": "376",
                                    "1": "2022-07-29 00:00:00.000",
                                    "2": "3",
                                    "3": "31",
                                    "4": "91",
                                    "5": "55",
                                    "6": "NULL"
                                },
                                {
                                    "0": "377",
                                    "1": "2022-07-30 00:00:00.000",
                                    "2": "3",
                                    "3": "72",
                                    "4": "23",
                                    "5": "55",
                                    "6": "NULL"
                                },
                                {
                                    "0": "378",
                                    "1": "2022-07-31 00:00:00.000",
                                    "2": "3",
                                    "3": "16",
                                    "4": "61",
                                    "5": "0",
                                    "6": "NULL"
                                },
                                {
                                    "0": "379",
                                    "1": "2022-08-01 00:00:00.000",
                                    "2": "3",
                                    "3": "93",
                                    "4": "73",
                                    "5": "43",
                                    "6": "NULL"
                                },
                                {
                                    "0": "380",
                                    "1": "2022-08-02 00:00:00.000",
                                    "2": "3",
                                    "3": "61",
                                    "4": "97",
                                    "5": "77",
                                    "6": "NULL"
                                },
                                {
                                    "0": "381",
                                    "1": "2022-08-03 00:00:00.000",
                                    "2": "3",
                                    "3": "16",
                                    "4": "0",
                                    "5": "73",
                                    "6": "NULL"
                                },
                                {
                                    "0": "382",
                                    "1": "2022-08-04 00:00:00.000",
                                    "2": "3",
                                    "3": "96",
                                    "4": "71",
                                    "5": "89",
                                    "6": "NULL"
                                },
                                {
                                    "0": "383",
                                    "1": "2022-08-05 00:00:00.000",
                                    "2": "3",
                                    "3": "53",
                                    "4": "7",
                                    "5": "33",
                                    "6": "NULL"
                                },
                                {
                                    "0": "384",
                                    "1": "2022-08-06 00:00:00.000",
                                    "2": "3",
                                    "3": "13",
                                    "4": "14",
                                    "5": "9",
                                    "6": "NULL"
                                },
                                {
                                    "0": "385",
                                    "1": "2022-08-07 00:00:00.000",
                                    "2": "3",
                                    "3": "76",
                                    "4": "25",
                                    "5": "74",
                                    "6": "NULL"
                                },
                                {
                                    "0": "386",
                                    "1": "2022-08-08 00:00:00.000",
                                    "2": "3",
                                    "3": "89",
                                    "4": "83",
                                    "5": "47",
                                    "6": "NULL"
                                },
                                {
                                    "0": "387",
                                    "1": "2022-08-09 00:00:00.000",
                                    "2": "3",
                                    "3": "70",
                                    "4": "3",
                                    "5": "97",
                                    "6": "NULL"
                                },
                                {
                                    "0": "388",
                                    "1": "2022-08-10 00:00:00.000",
                                    "2": "3",
                                    "3": "76",
                                    "4": "24",
                                    "5": "48",
                                    "6": "NULL"
                                },
                                {
                                    "0": "389",
                                    "1": "2022-08-11 00:00:00.000",
                                    "2": "3",
                                    "3": "63",
                                    "4": "63",
                                    "5": "45",
                                    "6": "NULL"
                                },
                                {
                                    "0": "390",
                                    "1": "2022-08-12 00:00:00.000",
                                    "2": "3",
                                    "3": "49",
                                    "4": "86",
                                    "5": "29",
                                    "6": "NULL"
                                },
                                {
                                    "0": "391",
                                    "1": "2022-08-13 00:00:00.000",
                                    "2": "3",
                                    "3": "43",
                                    "4": "1",
                                    "5": "68",
                                    "6": "NULL"
                                },
                                {
                                    "0": "392",
                                    "1": "2022-08-14 00:00:00.000",
                                    "2": "3",
                                    "3": "15",
                                    "4": "15",
                                    "5": "56",
                                    "6": "NULL"
                                },
                                {
                                    "0": "393",
                                    "1": "2022-08-15 00:00:00.000",
                                    "2": "3",
                                    "3": "71",
                                    "4": "25",
                                    "5": "38",
                                    "6": "NULL"
                                },
                                {
                                    "0": "394",
                                    "1": "2022-08-16 00:00:00.000",
                                    "2": "3",
                                    "3": "62",
                                    "4": "40",
                                    "5": "23",
                                    "6": "NULL"
                                },
                                {
                                    "0": "395",
                                    "1": "2022-08-17 00:00:00.000",
                                    "2": "3",
                                    "3": "91",
                                    "4": "79",
                                    "5": "19",
                                    "6": "NULL"
                                },
                                {
                                    "0": "396",
                                    "1": "2022-08-18 00:00:00.000",
                                    "2": "3",
                                    "3": "38",
                                    "4": "99",
                                    "5": "38",
                                    "6": "NULL"
                                },
                                {
                                    "0": "397",
                                    "1": "2022-08-19 00:00:00.000",
                                    "2": "3",
                                    "3": "43",
                                    "4": "87",
                                    "5": "38",
                                    "6": "NULL"
                                },
                                {
                                    "0": "398",
                                    "1": "2022-08-20 00:00:00.000",
                                    "2": "3",
                                    "3": "24",
                                    "4": "65",
                                    "5": "83",
                                    "6": "NULL"
                                },
                                {
                                    "0": "399",
                                    "1": "2022-08-21 00:00:00.000",
                                    "2": "3",
                                    "3": "97",
                                    "4": "92",
                                    "5": "48",
                                    "6": "NULL"
                                },
                                {
                                    "0": "400",
                                    "1": "2022-08-22 00:00:00.000",
                                    "2": "3",
                                    "3": "37",
                                    "4": "86",
                                    "5": "36",
                                    "6": "NULL"
                                },
                                {
                                    "0": "401",
                                    "1": "2022-08-23 00:00:00.000",
                                    "2": "3",
                                    "3": "99",
                                    "4": "97",
                                    "5": "56",
                                    "6": "NULL"
                                },
                                {
                                    "0": "402",
                                    "1": "2022-08-24 00:00:00.000",
                                    "2": "3",
                                    "3": "96",
                                    "4": "38",
                                    "5": "45",
                                    "6": "NULL"
                                },
                                {
                                    "0": "403",
                                    "1": "2022-08-25 00:00:00.000",
                                    "2": "3",
                                    "3": "60",
                                    "4": "57",
                                    "5": "3",
                                    "6": "NULL"
                                },
                                {
                                    "0": "404",
                                    "1": "2022-08-26 00:00:00.000",
                                    "2": "3",
                                    "3": "46",
                                    "4": "48",
                                    "5": "76",
                                    "6": "NULL"
                                },
                                {
                                    "0": "405",
                                    "1": "2022-08-27 00:00:00.000",
                                    "2": "3",
                                    "3": "22",
                                    "4": "59",
                                    "5": "42",
                                    "6": "NULL"
                                },
                                {
                                    "0": "406",
                                    "1": "2022-08-28 00:00:00.000",
                                    "2": "3",
                                    "3": "45",
                                    "4": "85",
                                    "5": "21",
                                    "6": "NULL"
                                },
                                {
                                    "0": "407",
                                    "1": "2022-08-29 00:00:00.000",
                                    "2": "3",
                                    "3": "0",
                                    "4": "61",
                                    "5": "79",
                                    "6": "NULL"
                                },
                                {
                                    "0": "408",
                                    "1": "2022-08-30 00:00:00.000",
                                    "2": "3",
                                    "3": "40",
                                    "4": "59",
                                    "5": "16",
                                    "6": "NULL"
                                },
                                {
                                    "0": "409",
                                    "1": "2022-08-31 00:00:00.000",
                                    "2": "3",
                                    "3": "16",
                                    "4": "0",
                                    "5": "66",
                                    "6": "NULL"
                                },
                                {
                                    "0": "410",
                                    "1": "2022-09-01 00:00:00.000",
                                    "2": "3",
                                    "3": "0",
                                    "4": "42",
                                    "5": "29",
                                    "6": "NULL"
                                },
                                {
                                    "0": "411",
                                    "1": "2022-09-02 00:00:00.000",
                                    "2": "3",
                                    "3": "5",
                                    "4": "18",
                                    "5": "77",
                                    "6": "NULL"
                                },
                                {
                                    "0": "412",
                                    "1": "2022-09-03 00:00:00.000",
                                    "2": "3",
                                    "3": "46",
                                    "4": "17",
                                    "5": "93",
                                    "6": "NULL"
                                },
                                {
                                    "0": "413",
                                    "1": "2022-09-04 00:00:00.000",
                                    "2": "3",
                                    "3": "47",
                                    "4": "85",
                                    "5": "52",
                                    "6": "NULL"
                                },
                                {
                                    "0": "414",
                                    "1": "2022-09-05 00:00:00.000",
                                    "2": "3",
                                    "3": "27",
                                    "4": "74",
                                    "5": "99",
                                    "6": "NULL"
                                },
                                {
                                    "0": "415",
                                    "1": "2022-09-06 00:00:00.000",
                                    "2": "3",
                                    "3": "41",
                                    "4": "23",
                                    "5": "53",
                                    "6": "NULL"
                                },
                                {
                                    "0": "416",
                                    "1": "2022-09-07 00:00:00.000",
                                    "2": "3",
                                    "3": "71",
                                    "4": "90",
                                    "5": "74",
                                    "6": "NULL"
                                },
                                {
                                    "0": "417",
                                    "1": "2022-09-08 00:00:00.000",
                                    "2": "3",
                                    "3": "77",
                                    "4": "67",
                                    "5": "6",
                                    "6": "NULL"
                                },
                                {
                                    "0": "418",
                                    "1": "2022-09-09 00:00:00.000",
                                    "2": "3",
                                    "3": "94",
                                    "4": "81",
                                    "5": "65",
                                    "6": "NULL"
                                },
                                {
                                    "0": "419",
                                    "1": "2022-09-10 00:00:00.000",
                                    "2": "3",
                                    "3": "63",
                                    "4": "92",
                                    "5": "78",
                                    "6": "NULL"
                                },
                                {
                                    "0": "420",
                                    "1": "2022-09-11 00:00:00.000",
                                    "2": "3",
                                    "3": "65",
                                    "4": "97",
                                    "5": "68",
                                    "6": "NULL"
                                },
                                {
                                    "0": "421",
                                    "1": "2022-09-12 00:00:00.000",
                                    "2": "3",
                                    "3": "92",
                                    "4": "47",
                                    "5": "7",
                                    "6": "NULL"
                                },
                                {
                                    "0": "422",
                                    "1": "2022-09-13 00:00:00.000",
                                    "2": "3",
                                    "3": "32",
                                    "4": "36",
                                    "5": "98",
                                    "6": "NULL"
                                },
                                {
                                    "0": "423",
                                    "1": "2022-09-14 00:00:00.000",
                                    "2": "3",
                                    "3": "12",
                                    "4": "69",
                                    "5": "58",
                                    "6": "NULL"
                                },
                                {
                                    "0": "424",
                                    "1": "2022-09-15 00:00:00.000",
                                    "2": "3",
                                    "3": "82",
                                    "4": "55",
                                    "5": "23",
                                    "6": "NULL"
                                },
                                {
                                    "0": "425",
                                    "1": "2022-09-16 00:00:00.000",
                                    "2": "3",
                                    "3": "59",
                                    "4": "56",
                                    "5": "64",
                                    "6": "NULL"
                                },
                                {
                                    "0": "426",
                                    "1": "2022-09-17 00:00:00.000",
                                    "2": "3",
                                    "3": "88",
                                    "4": "67",
                                    "5": "35",
                                    "6": "NULL"
                                },
                                {
                                    "0": "427",
                                    "1": "2022-09-18 00:00:00.000",
                                    "2": "3",
                                    "3": "8",
                                    "4": "7",
                                    "5": "47",
                                    "6": "NULL"
                                },
                                {
                                    "0": "428",
                                    "1": "2022-09-19 00:00:00.000",
                                    "2": "3",
                                    "3": "51",
                                    "4": "86",
                                    "5": "17",
                                    "6": "NULL"
                                },
                                {
                                    "0": "429",
                                    "1": "2022-09-20 00:00:00.000",
                                    "2": "3",
                                    "3": "86",
                                    "4": "57",
                                    "5": "47",
                                    "6": "NULL"
                                },
                                {
                                    "0": "430",
                                    "1": "2022-09-21 00:00:00.000",
                                    "2": "3",
                                    "3": "35",
                                    "4": "9",
                                    "5": "44",
                                    "6": "NULL"
                                },
                                {
                                    "0": "431",
                                    "1": "2022-09-22 00:00:00.000",
                                    "2": "3",
                                    "3": "0",
                                    "4": "39",
                                    "5": "80",
                                    "6": "NULL"
                                },
                                {
                                    "0": "432",
                                    "1": "2022-09-23 00:00:00.000",
                                    "2": "3",
                                    "3": "16",
                                    "4": "27",
                                    "5": "1",
                                    "6": "NULL"
                                },
                                {
                                    "0": "433",
                                    "1": "2022-09-24 00:00:00.000",
                                    "2": "3",
                                    "3": "79",
                                    "4": "96",
                                    "5": "10",
                                    "6": "NULL"
                                },
                                {
                                    "0": "434",
                                    "1": "2022-09-25 00:00:00.000",
                                    "2": "3",
                                    "3": "34",
                                    "4": "79",
                                    "5": "60",
                                    "6": "NULL"
                                },
                                {
                                    "0": "435",
                                    "1": "2022-09-26 00:00:00.000",
                                    "2": "3",
                                    "3": "6",
                                    "4": "38",
                                    "5": "78",
                                    "6": "NULL"
                                },
                                {
                                    "0": "436",
                                    "1": "2022-09-27 00:00:00.000",
                                    "2": "3",
                                    "3": "46",
                                    "4": "2",
                                    "5": "34",
                                    "6": "NULL"
                                },
                                {
                                    "0": "437",
                                    "1": "2022-09-28 00:00:00.000",
                                    "2": "3",
                                    "3": "70",
                                    "4": "34",
                                    "5": "74",
                                    "6": "NULL"
                                },
                                {
                                    "0": "438",
                                    "1": "2022-09-29 00:00:00.000",
                                    "2": "3",
                                    "3": "74",
                                    "4": "23",
                                    "5": "33",
                                    "6": "NULL"
                                },
                                {
                                    "0": "439",
                                    "1": "2022-09-30 00:00:00.000",
                                    "2": "3",
                                    "3": "1",
                                    "4": "13",
                                    "5": "34",
                                    "6": "NULL"
                                },
                                {
                                    "0": "440",
                                    "1": "2022-10-01 00:00:00.000",
                                    "2": "3",
                                    "3": "5",
                                    "4": "23",
                                    "5": "23",
                                    "6": "NULL"
                                },
                                {
                                    "0": "441",
                                    "1": "2022-10-02 00:00:00.000",
                                    "2": "3",
                                    "3": "87",
                                    "4": "88",
                                    "5": "66",
                                    "6": "NULL"
                                },
                                {
                                    "0": "442",
                                    "1": "2022-10-03 00:00:00.000",
                                    "2": "3",
                                    "3": "55",
                                    "4": "7",
                                    "5": "63",
                                    "6": "NULL"
                                },
                                {
                                    "0": "443",
                                    "1": "2022-10-04 00:00:00.000",
                                    "2": "3",
                                    "3": "64",
                                    "4": "61",
                                    "5": "53",
                                    "6": "NULL"
                                },
                                {
                                    "0": "444",
                                    "1": "2022-10-05 00:00:00.000",
                                    "2": "3",
                                    "3": "28",
                                    "4": "89",
                                    "5": "78",
                                    "6": "NULL"
                                },
                                {
                                    "0": "445",
                                    "1": "2022-10-06 00:00:00.000",
                                    "2": "3",
                                    "3": "54",
                                    "4": "73",
                                    "5": "44",
                                    "6": "NULL"
                                },
                                {
                                    "0": "446",
                                    "1": "2022-10-07 00:00:00.000",
                                    "2": "3",
                                    "3": "21",
                                    "4": "71",
                                    "5": "89",
                                    "6": "NULL"
                                },
                                {
                                    "0": "447",
                                    "1": "2022-10-08 00:00:00.000",
                                    "2": "3",
                                    "3": "63",
                                    "4": "53",
                                    "5": "90",
                                    "6": "NULL"
                                },
                                {
                                    "0": "448",
                                    "1": "2022-10-09 00:00:00.000",
                                    "2": "3",
                                    "3": "52",
                                    "4": "6",
                                    "5": "15",
                                    "6": "NULL"
                                },
                                {
                                    "0": "449",
                                    "1": "2022-10-10 00:00:00.000",
                                    "2": "3",
                                    "3": "65",
                                    "4": "50",
                                    "5": "94",
                                    "6": "NULL"
                                },
                                {
                                    "0": "450",
                                    "1": "2022-10-11 00:00:00.000",
                                    "2": "3",
                                    "3": "53",
                                    "4": "19",
                                    "5": "64",
                                    "6": "NULL"
                                },
                                {
                                    "0": "451",
                                    "1": "2022-10-12 00:00:00.000",
                                    "2": "3",
                                    "3": "80",
                                    "4": "72",
                                    "5": "80",
                                    "6": "NULL"
                                },
                                {
                                    "0": "452",
                                    "1": "2022-10-13 00:00:00.000",
                                    "2": "3",
                                    "3": "36",
                                    "4": "99",
                                    "5": "93",
                                    "6": "NULL"
                                },
                                {
                                    "0": "453",
                                    "1": "2022-10-14 00:00:00.000",
                                    "2": "3",
                                    "3": "2",
                                    "4": "2",
                                    "5": "87",
                                    "6": "NULL"
                                },
                                {
                                    "0": "454",
                                    "1": "2022-10-15 00:00:00.000",
                                    "2": "3",
                                    "3": "15",
                                    "4": "27",
                                    "5": "99",
                                    "6": "NULL"
                                },
                                {
                                    "0": "455",
                                    "1": "2022-10-16 00:00:00.000",
                                    "2": "3",
                                    "3": "18",
                                    "4": "29",
                                    "5": "16",
                                    "6": "NULL"
                                },
                                {
                                    "0": "456",
                                    "1": "2022-10-17 00:00:00.000",
                                    "2": "3",
                                    "3": "2",
                                    "4": "49",
                                    "5": "75",
                                    "6": "NULL"
                                },
                                {
                                    "0": "457",
                                    "1": "2022-10-18 00:00:00.000",
                                    "2": "3",
                                    "3": "93",
                                    "4": "25",
                                    "5": "65",
                                    "6": "NULL"
                                },
                                {
                                    "0": "458",
                                    "1": "2022-10-19 00:00:00.000",
                                    "2": "3",
                                    "3": "83",
                                    "4": "55",
                                    "5": "1",
                                    "6": "NULL"
                                },
                                {
                                    "0": "459",
                                    "1": "2022-10-20 00:00:00.000",
                                    "2": "3",
                                    "3": "3",
                                    "4": "43",
                                    "5": "82",
                                    "6": "NULL"
                                },
                                {
                                    "0": "460",
                                    "1": "2022-10-21 00:00:00.000",
                                    "2": "3",
                                    "3": "78",
                                    "4": "29",
                                    "5": "81",
                                    "6": "NULL"
                                },
                                {
                                    "0": "461",
                                    "1": "2022-10-22 00:00:00.000",
                                    "2": "3",
                                    "3": "89",
                                    "4": "18",
                                    "5": "75",
                                    "6": "NULL"
                                },
                                {
                                    "0": "462",
                                    "1": "2022-10-23 00:00:00.000",
                                    "2": "3",
                                    "3": "95",
                                    "4": "2",
                                    "5": "46",
                                    "6": "NULL"
                                },
                                {
                                    "0": "463",
                                    "1": "2022-10-24 00:00:00.000",
                                    "2": "3",
                                    "3": "97",
                                    "4": "76",
                                    "5": "99",
                                    "6": "NULL"
                                },
                                {
                                    "0": "464",
                                    "1": "2022-10-25 00:00:00.000",
                                    "2": "3",
                                    "3": "8",
                                    "4": "79",
                                    "5": "93",
                                    "6": "NULL"
                                },
                                {
                                    "0": "465",
                                    "1": "2022-10-26 00:00:00.000",
                                    "2": "3",
                                    "3": "40",
                                    "4": "68",
                                    "5": "61",
                                    "6": "NULL"
                                },
                                {
                                    "0": "466",
                                    "1": "2022-10-27 00:00:00.000",
                                    "2": "3",
                                    "3": "62",
                                    "4": "20",
                                    "5": "60",
                                    "6": "NULL"
                                },
                                {
                                    "0": "467",
                                    "1": "2022-10-28 00:00:00.000",
                                    "2": "3",
                                    "3": "76",
                                    "4": "33",
                                    "5": "48",
                                    "6": "NULL"
                                },
                                {
                                    "0": "468",
                                    "1": "2022-10-29 00:00:00.000",
                                    "2": "3",
                                    "3": "85",
                                    "4": "67",
                                    "5": "69",
                                    "6": "NULL"
                                },
                                {
                                    "0": "469",
                                    "1": "2022-10-30 00:00:00.000",
                                    "2": "3",
                                    "3": "39",
                                    "4": "12",
                                    "5": "78",
                                    "6": "NULL"
                                },
                                {
                                    "0": "470",
                                    "1": "2022-10-31 00:00:00.000",
                                    "2": "3",
                                    "3": "92",
                                    "4": "23",
                                    "5": "56",
                                    "6": "NULL"
                                },
                                {
                                    "0": "471",
                                    "1": "2022-11-01 00:00:00.000",
                                    "2": "3",
                                    "3": "31",
                                    "4": "82",
                                    "5": "28",
                                    "6": "NULL"
                                },
                                {
                                    "0": "472",
                                    "1": "2022-11-02 00:00:00.000",
                                    "2": "3",
                                    "3": "61",
                                    "4": "26",
                                    "5": "89",
                                    "6": "NULL"
                                },
                                {
                                    "0": "473",
                                    "1": "2022-11-03 00:00:00.000",
                                    "2": "3",
                                    "3": "96",
                                    "4": "42",
                                    "5": "39",
                                    "6": "NULL"
                                },
                                {
                                    "0": "474",
                                    "1": "2022-11-04 00:00:00.000",
                                    "2": "3",
                                    "3": "88",
                                    "4": "73",
                                    "5": "57",
                                    "6": "NULL"
                                },
                                {
                                    "0": "475",
                                    "1": "2022-11-05 00:00:00.000",
                                    "2": "3",
                                    "3": "70",
                                    "4": "46",
                                    "5": "6",
                                    "6": "NULL"
                                },
                                {
                                    "0": "476",
                                    "1": "2022-11-06 00:00:00.000",
                                    "2": "3",
                                    "3": "51",
                                    "4": "31",
                                    "5": "0",
                                    "6": "NULL"
                                },
                                {
                                    "0": "477",
                                    "1": "2022-11-07 00:00:00.000",
                                    "2": "3",
                                    "3": "34",
                                    "4": "5",
                                    "5": "40",
                                    "6": "NULL"
                                },
                                {
                                    "0": "478",
                                    "1": "2022-11-08 00:00:00.000",
                                    "2": "3",
                                    "3": "38",
                                    "4": "13",
                                    "5": "31",
                                    "6": "NULL"
                                },
                                {
                                    "0": "479",
                                    "1": "2022-11-09 00:00:00.000",
                                    "2": "3",
                                    "3": "83",
                                    "4": "54",
                                    "5": "76",
                                    "6": "NULL"
                                },
                                {
                                    "0": "480",
                                    "1": "2022-11-10 00:00:00.000",
                                    "2": "3",
                                    "3": "24",
                                    "4": "1",
                                    "5": "47",
                                    "6": "NULL"
                                },
                                {
                                    "0": "481",
                                    "1": "2022-11-11 00:00:00.000",
                                    "2": "3",
                                    "3": "57",
                                    "4": "42",
                                    "5": "47",
                                    "6": "NULL"
                                },
                                {
                                    "0": "482",
                                    "1": "2022-11-12 00:00:00.000",
                                    "2": "3",
                                    "3": "14",
                                    "4": "44",
                                    "5": "69",
                                    "6": "NULL"
                                },
                                {
                                    "0": "483",
                                    "1": "2022-11-13 00:00:00.000",
                                    "2": "3",
                                    "3": "65",
                                    "4": "57",
                                    "5": "17",
                                    "6": "NULL"
                                },
                                {
                                    "0": "484",
                                    "1": "2022-11-14 00:00:00.000",
                                    "2": "3",
                                    "3": "32",
                                    "4": "94",
                                    "5": "90",
                                    "6": "NULL"
                                },
                                {
                                    "0": "485",
                                    "1": "2022-11-15 00:00:00.000",
                                    "2": "3",
                                    "3": "69",
                                    "4": "29",
                                    "5": "39",
                                    "6": "NULL"
                                },
                                {
                                    "0": "486",
                                    "1": "2022-11-16 00:00:00.000",
                                    "2": "3",
                                    "3": "96",
                                    "4": "74",
                                    "5": "39",
                                    "6": "NULL"
                                },
                                {
                                    "0": "487",
                                    "1": "2022-11-17 00:00:00.000",
                                    "2": "3",
                                    "3": "16",
                                    "4": "80",
                                    "5": "25",
                                    "6": "NULL"
                                },
                                {
                                    "0": "488",
                                    "1": "2022-11-18 00:00:00.000",
                                    "2": "3",
                                    "3": "94",
                                    "4": "17",
                                    "5": "36",
                                    "6": "NULL"
                                },
                                {
                                    "0": "489",
                                    "1": "2022-11-19 00:00:00.000",
                                    "2": "3",
                                    "3": "95",
                                    "4": "97",
                                    "5": "21",
                                    "6": "NULL"
                                },
                                {
                                    "0": "490",
                                    "1": "2022-11-20 00:00:00.000",
                                    "2": "3",
                                    "3": "21",
                                    "4": "57",
                                    "5": "53",
                                    "6": "NULL"
                                },
                                {
                                    "0": "491",
                                    "1": "2022-11-21 00:00:00.000",
                                    "2": "3",
                                    "3": "31",
                                    "4": "8",
                                    "5": "51",
                                    "6": "NULL"
                                },
                                {
                                    "0": "492",
                                    "1": "2022-11-22 00:00:00.000",
                                    "2": "3",
                                    "3": "31",
                                    "4": "37",
                                    "5": "91",
                                    "6": "NULL"
                                },
                                {
                                    "0": "493",
                                    "1": "2022-11-23 00:00:00.000",
                                    "2": "3",
                                    "3": "29",
                                    "4": "15",
                                    "5": "61",
                                    "6": "NULL"
                                },
                                {
                                    "0": "494",
                                    "1": "2022-11-24 00:00:00.000",
                                    "2": "3",
                                    "3": "20",
                                    "4": "80",
                                    "5": "19",
                                    "6": "NULL"
                                },
                                {
                                    "0": "495",
                                    "1": "2022-11-25 00:00:00.000",
                                    "2": "3",
                                    "3": "83",
                                    "4": "12",
                                    "5": "35",
                                    "6": "NULL"
                                },
                                {
                                    "0": "496",
                                    "1": "2022-11-26 00:00:00.000",
                                    "2": "3",
                                    "3": "59",
                                    "4": "78",
                                    "5": "69",
                                    "6": "NULL"
                                },
                                {
                                    "0": "497",
                                    "1": "2022-11-27 00:00:00.000",
                                    "2": "3",
                                    "3": "77",
                                    "4": "33",
                                    "5": "40",
                                    "6": "NULL"
                                },
                                {
                                    "0": "498",
                                    "1": "2022-11-28 00:00:00.000",
                                    "2": "3",
                                    "3": "87",
                                    "4": "87",
                                    "5": "66",
                                    "6": "NULL"
                                },
                                {
                                    "0": "499",
                                    "1": "2022-11-29 00:00:00.000",
                                    "2": "3",
                                    "3": "61",
                                    "4": "53",
                                    "5": "99",
                                    "6": "NULL"
                                },
                                {
                                    "0": "500",
                                    "1": "2022-11-30 00:00:00.000",
                                    "2": "3",
                                    "3": "21",
                                    "4": "53",
                                    "5": "73",
                                    "6": "NULL"
                                },
                                {
                                    "0": "501",
                                    "1": "2022-12-01 00:00:00.000",
                                    "2": "3",
                                    "3": "78",
                                    "4": "3",
                                    "5": "80",
                                    "6": "NULL"
                                },
                                {
                                    "0": "502",
                                    "1": "2022-12-02 00:00:00.000",
                                    "2": "3",
                                    "3": "19",
                                    "4": "9",
                                    "5": "16",
                                    "6": "NULL"
                                },
                                {
                                    "0": "503",
                                    "1": "2022-12-03 00:00:00.000",
                                    "2": "3",
                                    "3": "64",
                                    "4": "7",
                                    "5": "42",
                                    "6": "NULL"
                                },
                                {
                                    "0": "504",
                                    "1": "2022-12-04 00:00:00.000",
                                    "2": "3",
                                    "3": "67",
                                    "4": "69",
                                    "5": "72",
                                    "6": "NULL"
                                },
                                {
                                    "0": "505",
                                    "1": "2022-12-05 00:00:00.000",
                                    "2": "3",
                                    "3": "40",
                                    "4": "92",
                                    "5": "35",
                                    "6": "NULL"
                                },
                                {
                                    "0": "506",
                                    "1": "2022-12-06 00:00:00.000",
                                    "2": "3",
                                    "3": "1",
                                    "4": "16",
                                    "5": "96",
                                    "6": "NULL"
                                },
                                {
                                    "0": "507",
                                    "1": "2022-12-07 00:00:00.000",
                                    "2": "3",
                                    "3": "41",
                                    "4": "31",
                                    "5": "36",
                                    "6": "NULL"
                                },
                                {
                                    "0": "508",
                                    "1": "2022-12-08 00:00:00.000",
                                    "2": "3",
                                    "3": "53",
                                    "4": "88",
                                    "5": "89",
                                    "6": "NULL"
                                },
                                {
                                    "0": "509",
                                    "1": "2022-12-09 00:00:00.000",
                                    "2": "3",
                                    "3": "42",
                                    "4": "89",
                                    "5": "76",
                                    "6": "NULL"
                                },
                                {
                                    "0": "510",
                                    "1": "2022-12-10 00:00:00.000",
                                    "2": "3",
                                    "3": "70",
                                    "4": "51",
                                    "5": "93",
                                    "6": "NULL"
                                },
                                {
                                    "0": "511",
                                    "1": "2022-12-11 00:00:00.000",
                                    "2": "3",
                                    "3": "51",
                                    "4": "44",
                                    "5": "86",
                                    "6": "NULL"
                                },
                                {
                                    "0": "512",
                                    "1": "2022-12-12 00:00:00.000",
                                    "2": "3",
                                    "3": "57",
                                    "4": "50",
                                    "5": "76",
                                    "6": "NULL"
                                },
                                {
                                    "0": "513",
                                    "1": "2022-12-13 00:00:00.000",
                                    "2": "3",
                                    "3": "81",
                                    "4": "79",
                                    "5": "86",
                                    "6": "NULL"
                                },
                                {
                                    "0": "514",
                                    "1": "2022-12-14 00:00:00.000",
                                    "2": "3",
                                    "3": "97",
                                    "4": "86",
                                    "5": "6",
                                    "6": "NULL"
                                },
                                {
                                    "0": "515",
                                    "1": "2022-12-15 00:00:00.000",
                                    "2": "3",
                                    "3": "32",
                                    "4": "17",
                                    "5": "79",
                                    "6": "NULL"
                                },
                                {
                                    "0": "516",
                                    "1": "2022-12-16 00:00:00.000",
                                    "2": "3",
                                    "3": "16",
                                    "4": "56",
                                    "5": "1",
                                    "6": "NULL"
                                },
                                {
                                    "0": "517",
                                    "1": "2022-12-17 00:00:00.000",
                                    "2": "3",
                                    "3": "95",
                                    "4": "67",
                                    "5": "84",
                                    "6": "NULL"
                                },
                                {
                                    "0": "518",
                                    "1": "2022-12-18 00:00:00.000",
                                    "2": "3",
                                    "3": "70",
                                    "4": "52",
                                    "5": "80",
                                    "6": "NULL"
                                },
                                {
                                    "0": "519",
                                    "1": "2022-12-19 00:00:00.000",
                                    "2": "3",
                                    "3": "68",
                                    "4": "59",
                                    "5": "52",
                                    "6": "NULL"
                                },
                                {
                                    "0": "520",
                                    "1": "2022-12-20 00:00:00.000",
                                    "2": "3",
                                    "3": "72",
                                    "4": "65",
                                    "5": "20",
                                    "6": "NULL"
                                },
                                {
                                    "0": "521",
                                    "1": "2022-12-21 00:00:00.000",
                                    "2": "3",
                                    "3": "64",
                                    "4": "10",
                                    "5": "26",
                                    "6": "NULL"
                                },
                                {
                                    "0": "522",
                                    "1": "2022-12-22 00:00:00.000",
                                    "2": "3",
                                    "3": "40",
                                    "4": "2",
                                    "5": "24",
                                    "6": "NULL"
                                },
                                {
                                    "0": "523",
                                    "1": "2022-12-23 00:00:00.000",
                                    "2": "3",
                                    "3": "66",
                                    "4": "60",
                                    "5": "50",
                                    "6": "NULL"
                                },
                                {
                                    "0": "524",
                                    "1": "2022-12-24 00:00:00.000",
                                    "2": "3",
                                    "3": "0",
                                    "4": "92",
                                    "5": "16",
                                    "6": "NULL"
                                },
                                {
                                    "0": "525",
                                    "1": "2022-12-25 00:00:00.000",
                                    "2": "3",
                                    "3": "14",
                                    "4": "10",
                                    "5": "59",
                                    "6": "NULL"
                                },
                                {
                                    "0": "526",
                                    "1": "2022-12-26 00:00:00.000",
                                    "2": "3",
                                    "3": "63",
                                    "4": "0",
                                    "5": "50",
                                    "6": "NULL"
                                },
                                {
                                    "0": "527",
                                    "1": "2022-12-27 00:00:00.000",
                                    "2": "3",
                                    "3": "0",
                                    "4": "48",
                                    "5": "9",
                                    "6": "NULL"
                                },
                                {
                                    "0": "528",
                                    "1": "2022-12-28 00:00:00.000",
                                    "2": "3",
                                    "3": "1",
                                    "4": "68",
                                    "5": "26",
                                    "6": "NULL"
                                },
                                {
                                    "0": "529",
                                    "1": "2022-12-29 00:00:00.000",
                                    "2": "3",
                                    "3": "62",
                                    "4": "21",
                                    "5": "41",
                                    "6": "NULL"
                                },
                                {
                                    "0": "530",
                                    "1": "2022-12-30 00:00:00.000",
                                    "2": "3",
                                    "3": "57",
                                    "4": "11",
                                    "5": "28",
                                    "6": "NULL"
                                },
                                {
                                    "0": "531",
                                    "1": "2022-12-31 00:00:00.000",
                                    "2": "3",
                                    "3": "25",
                                    "4": "38",
                                    "5": "77",
                                    "6": "NULL"
                                },
                                {
                                    "0": "532",
                                    "1": "2023-01-01 00:00:00.000",
                                    "2": "3",
                                    "3": "18",
                                    "4": "82",
                                    "5": "54",
                                    "6": "NULL"
                                },
                                {
                                    "0": "533",
                                    "1": "2023-01-02 00:00:00.000",
                                    "2": "3",
                                    "3": "66",
                                    "4": "86",
                                    "5": "88",
                                    "6": "NULL"
                                },
                                {
                                    "0": "534",
                                    "1": "2023-01-03 00:00:00.000",
                                    "2": "3",
                                    "3": "28",
                                    "4": "12",
                                    "5": "3",
                                    "6": "NULL"
                                },
                                {
                                    "0": "535",
                                    "1": "2023-01-04 00:00:00.000",
                                    "2": "3",
                                    "3": "43",
                                    "4": "8",
                                    "5": "33",
                                    "6": "NULL"
                                },
                                {
                                    "0": "536",
                                    "1": "2023-01-05 00:00:00.000",
                                    "2": "3",
                                    "3": "84",
                                    "4": "29",
                                    "5": "96",
                                    "6": "NULL"
                                },
                                {
                                    "0": "537",
                                    "1": "2023-01-06 00:00:00.000",
                                    "2": "3",
                                    "3": "20",
                                    "4": "58",
                                    "5": "58",
                                    "6": "NULL"
                                },
                                {
                                    "0": "538",
                                    "1": "2023-01-07 00:00:00.000",
                                    "2": "3",
                                    "3": "18",
                                    "4": "42",
                                    "5": "93",
                                    "6": "NULL"
                                },
                                {
                                    "0": "539",
                                    "1": "2023-01-08 00:00:00.000",
                                    "2": "3",
                                    "3": "18",
                                    "4": "23",
                                    "5": "21",
                                    "6": "NULL"
                                },
                                {
                                    "0": "540",
                                    "1": "2023-01-09 00:00:00.000",
                                    "2": "3",
                                    "3": "88",
                                    "4": "68",
                                    "5": "66",
                                    "6": "NULL"
                                }
                            ]
                        },
                        "text/html": [
                            "<table>",
                            "<tr><th>ID</th><th>CallDate</th><th>AgentId</th><th>AnsweredCall</th><th>MissedCall</th><th>FowardedCall</th><th>AdjustedDate</th></tr>",
                            "<tr><td>1</td><td>2022-07-14 00:00:00.000</td><td>1</td><td>89</td><td>77</td><td>44</td><td>NULL</td></tr>",
                            "<tr><td>2</td><td>2022-07-15 00:00:00.000</td><td>1</td><td>24</td><td>47</td><td>99</td><td>NULL</td></tr>",
                            "<tr><td>3</td><td>2022-07-16 00:00:00.000</td><td>1</td><td>99</td><td>37</td><td>8</td><td>NULL</td></tr>",
                            "<tr><td>4</td><td>2022-07-17 00:00:00.000</td><td>1</td><td>4</td><td>48</td><td>34</td><td>NULL</td></tr>",
                            "<tr><td>5</td><td>2022-07-18 00:00:00.000</td><td>1</td><td>91</td><td>14</td><td>34</td><td>NULL</td></tr>",
                            "<tr><td>6</td><td>2022-07-19 00:00:00.000</td><td>1</td><td>29</td><td>19</td><td>3</td><td>NULL</td></tr>",
                            "<tr><td>7</td><td>2022-07-20 00:00:00.000</td><td>1</td><td>48</td><td>40</td><td>29</td><td>NULL</td></tr>",
                            "<tr><td>8</td><td>2022-07-21 00:00:00.000</td><td>1</td><td>32</td><td>53</td><td>45</td><td>NULL</td></tr>",
                            "<tr><td>9</td><td>2022-07-22 00:00:00.000</td><td>1</td><td>12</td><td>36</td><td>96</td><td>NULL</td></tr>",
                            "<tr><td>10</td><td>2022-07-23 00:00:00.000</td><td>1</td><td>39</td><td>21</td><td>52</td><td>NULL</td></tr>",
                            "<tr><td>11</td><td>2022-07-24 00:00:00.000</td><td>1</td><td>44</td><td>3</td><td>55</td><td>NULL</td></tr>",
                            "<tr><td>12</td><td>2022-07-25 00:00:00.000</td><td>1</td><td>12</td><td>48</td><td>97</td><td>NULL</td></tr>",
                            "<tr><td>13</td><td>2022-07-26 00:00:00.000</td><td>1</td><td>64</td><td>86</td><td>33</td><td>NULL</td></tr>",
                            "<tr><td>14</td><td>2022-07-27 00:00:00.000</td><td>1</td><td>35</td><td>15</td><td>18</td><td>NULL</td></tr>",
                            "<tr><td>15</td><td>2022-07-28 00:00:00.000</td><td>1</td><td>84</td><td>42</td><td>25</td><td>NULL</td></tr>",
                            "<tr><td>16</td><td>2022-07-29 00:00:00.000</td><td>1</td><td>78</td><td>38</td><td>84</td><td>NULL</td></tr>",
                            "<tr><td>17</td><td>2022-07-30 00:00:00.000</td><td>1</td><td>43</td><td>63</td><td>51</td><td>NULL</td></tr>",
                            "<tr><td>18</td><td>2022-07-31 00:00:00.000</td><td>1</td><td>85</td><td>30</td><td>71</td><td>NULL</td></tr>",
                            "<tr><td>19</td><td>2022-08-01 00:00:00.000</td><td>1</td><td>97</td><td>77</td><td>13</td><td>NULL</td></tr>",
                            "<tr><td>20</td><td>2022-08-02 00:00:00.000</td><td>1</td><td>66</td><td>55</td><td>5</td><td>NULL</td></tr>",
                            "<tr><td>21</td><td>2022-08-03 00:00:00.000</td><td>1</td><td>86</td><td>43</td><td>99</td><td>NULL</td></tr>",
                            "<tr><td>22</td><td>2022-08-04 00:00:00.000</td><td>1</td><td>46</td><td>52</td><td>53</td><td>NULL</td></tr>",
                            "<tr><td>23</td><td>2022-08-05 00:00:00.000</td><td>1</td><td>89</td><td>13</td><td>7</td><td>NULL</td></tr>",
                            "<tr><td>24</td><td>2022-08-06 00:00:00.000</td><td>1</td><td>85</td><td>71</td><td>16</td><td>NULL</td></tr>",
                            "<tr><td>25</td><td>2022-08-07 00:00:00.000</td><td>1</td><td>21</td><td>50</td><td>19</td><td>NULL</td></tr>",
                            "<tr><td>26</td><td>2022-08-08 00:00:00.000</td><td>1</td><td>85</td><td>0</td><td>28</td><td>NULL</td></tr>",
                            "<tr><td>27</td><td>2022-08-09 00:00:00.000</td><td>1</td><td>37</td><td>31</td><td>76</td><td>NULL</td></tr>",
                            "<tr><td>28</td><td>2022-08-10 00:00:00.000</td><td>1</td><td>16</td><td>40</td><td>25</td><td>NULL</td></tr>",
                            "<tr><td>29</td><td>2022-08-11 00:00:00.000</td><td>1</td><td>2</td><td>60</td><td>13</td><td>NULL</td></tr>",
                            "<tr><td>30</td><td>2022-08-12 00:00:00.000</td><td>1</td><td>30</td><td>22</td><td>26</td><td>NULL</td></tr>",
                            "<tr><td>31</td><td>2022-08-13 00:00:00.000</td><td>1</td><td>40</td><td>6</td><td>8</td><td>NULL</td></tr>",
                            "<tr><td>32</td><td>2022-08-14 00:00:00.000</td><td>1</td><td>52</td><td>8</td><td>8</td><td>NULL</td></tr>",
                            "<tr><td>33</td><td>2022-08-15 00:00:00.000</td><td>1</td><td>90</td><td>84</td><td>60</td><td>NULL</td></tr>",
                            "<tr><td>34</td><td>2022-08-16 00:00:00.000</td><td>1</td><td>23</td><td>97</td><td>3</td><td>NULL</td></tr>",
                            "<tr><td>35</td><td>2022-08-17 00:00:00.000</td><td>1</td><td>10</td><td>40</td><td>42</td><td>NULL</td></tr>",
                            "<tr><td>36</td><td>2022-08-18 00:00:00.000</td><td>1</td><td>0</td><td>69</td><td>84</td><td>NULL</td></tr>",
                            "<tr><td>37</td><td>2022-08-19 00:00:00.000</td><td>1</td><td>56</td><td>47</td><td>6</td><td>NULL</td></tr>",
                            "<tr><td>38</td><td>2022-08-20 00:00:00.000</td><td>1</td><td>35</td><td>48</td><td>41</td><td>NULL</td></tr>",
                            "<tr><td>39</td><td>2022-08-21 00:00:00.000</td><td>1</td><td>74</td><td>25</td><td>91</td><td>NULL</td></tr>",
                            "<tr><td>40</td><td>2022-08-22 00:00:00.000</td><td>1</td><td>36</td><td>12</td><td>64</td><td>NULL</td></tr>",
                            "<tr><td>41</td><td>2022-08-23 00:00:00.000</td><td>1</td><td>85</td><td>69</td><td>95</td><td>NULL</td></tr>",
                            "<tr><td>42</td><td>2022-08-24 00:00:00.000</td><td>1</td><td>66</td><td>61</td><td>7</td><td>NULL</td></tr>",
                            "<tr><td>43</td><td>2022-08-25 00:00:00.000</td><td>1</td><td>88</td><td>97</td><td>98</td><td>NULL</td></tr>",
                            "<tr><td>44</td><td>2022-08-26 00:00:00.000</td><td>1</td><td>68</td><td>58</td><td>45</td><td>NULL</td></tr>",
                            "<tr><td>45</td><td>2022-08-27 00:00:00.000</td><td>1</td><td>84</td><td>19</td><td>81</td><td>NULL</td></tr>",
                            "<tr><td>46</td><td>2022-08-28 00:00:00.000</td><td>1</td><td>74</td><td>82</td><td>43</td><td>NULL</td></tr>",
                            "<tr><td>47</td><td>2022-08-29 00:00:00.000</td><td>1</td><td>93</td><td>56</td><td>25</td><td>NULL</td></tr>",
                            "<tr><td>48</td><td>2022-08-30 00:00:00.000</td><td>1</td><td>92</td><td>86</td><td>50</td><td>NULL</td></tr>",
                            "<tr><td>49</td><td>2022-08-31 00:00:00.000</td><td>1</td><td>38</td><td>43</td><td>41</td><td>NULL</td></tr>",
                            "<tr><td>50</td><td>2022-09-01 00:00:00.000</td><td>1</td><td>39</td><td>50</td><td>17</td><td>NULL</td></tr>",
                            "<tr><td>51</td><td>2022-09-02 00:00:00.000</td><td>1</td><td>26</td><td>65</td><td>64</td><td>NULL</td></tr>",
                            "<tr><td>52</td><td>2022-09-03 00:00:00.000</td><td>1</td><td>39</td><td>91</td><td>4</td><td>NULL</td></tr>",
                            "<tr><td>53</td><td>2022-09-04 00:00:00.000</td><td>1</td><td>70</td><td>15</td><td>61</td><td>NULL</td></tr>",
                            "<tr><td>54</td><td>2022-09-05 00:00:00.000</td><td>1</td><td>79</td><td>10</td><td>9</td><td>NULL</td></tr>",
                            "<tr><td>55</td><td>2022-09-06 00:00:00.000</td><td>1</td><td>93</td><td>19</td><td>31</td><td>NULL</td></tr>",
                            "<tr><td>56</td><td>2022-09-07 00:00:00.000</td><td>1</td><td>77</td><td>72</td><td>95</td><td>NULL</td></tr>",
                            "<tr><td>57</td><td>2022-09-08 00:00:00.000</td><td>1</td><td>44</td><td>73</td><td>82</td><td>NULL</td></tr>",
                            "<tr><td>58</td><td>2022-09-09 00:00:00.000</td><td>1</td><td>70</td><td>47</td><td>20</td><td>NULL</td></tr>",
                            "<tr><td>59</td><td>2022-09-10 00:00:00.000</td><td>1</td><td>72</td><td>62</td><td>53</td><td>NULL</td></tr>",
                            "<tr><td>60</td><td>2022-09-11 00:00:00.000</td><td>1</td><td>11</td><td>43</td><td>16</td><td>NULL</td></tr>",
                            "<tr><td>61</td><td>2022-09-12 00:00:00.000</td><td>1</td><td>93</td><td>26</td><td>40</td><td>NULL</td></tr>",
                            "<tr><td>62</td><td>2022-09-13 00:00:00.000</td><td>1</td><td>10</td><td>73</td><td>69</td><td>NULL</td></tr>",
                            "<tr><td>63</td><td>2022-09-14 00:00:00.000</td><td>1</td><td>31</td><td>19</td><td>60</td><td>NULL</td></tr>",
                            "<tr><td>64</td><td>2022-09-15 00:00:00.000</td><td>1</td><td>23</td><td>68</td><td>14</td><td>NULL</td></tr>",
                            "<tr><td>65</td><td>2022-09-16 00:00:00.000</td><td>1</td><td>22</td><td>42</td><td>22</td><td>NULL</td></tr>",
                            "<tr><td>66</td><td>2022-09-17 00:00:00.000</td><td>1</td><td>11</td><td>59</td><td>53</td><td>NULL</td></tr>",
                            "<tr><td>67</td><td>2022-09-18 00:00:00.000</td><td>1</td><td>53</td><td>61</td><td>2</td><td>NULL</td></tr>",
                            "<tr><td>68</td><td>2022-09-19 00:00:00.000</td><td>1</td><td>61</td><td>90</td><td>93</td><td>NULL</td></tr>",
                            "<tr><td>69</td><td>2022-09-20 00:00:00.000</td><td>1</td><td>69</td><td>55</td><td>34</td><td>NULL</td></tr>",
                            "<tr><td>70</td><td>2022-09-21 00:00:00.000</td><td>1</td><td>80</td><td>28</td><td>44</td><td>NULL</td></tr>",
                            "<tr><td>71</td><td>2022-09-22 00:00:00.000</td><td>1</td><td>16</td><td>46</td><td>12</td><td>NULL</td></tr>",
                            "<tr><td>72</td><td>2022-09-23 00:00:00.000</td><td>1</td><td>95</td><td>70</td><td>20</td><td>NULL</td></tr>",
                            "<tr><td>73</td><td>2022-09-24 00:00:00.000</td><td>1</td><td>87</td><td>63</td><td>28</td><td>NULL</td></tr>",
                            "<tr><td>74</td><td>2022-09-25 00:00:00.000</td><td>1</td><td>7</td><td>97</td><td>43</td><td>NULL</td></tr>",
                            "<tr><td>75</td><td>2022-09-26 00:00:00.000</td><td>1</td><td>9</td><td>63</td><td>61</td><td>NULL</td></tr>",
                            "<tr><td>76</td><td>2022-09-27 00:00:00.000</td><td>1</td><td>30</td><td>80</td><td>88</td><td>NULL</td></tr>",
                            "<tr><td>77</td><td>2022-09-28 00:00:00.000</td><td>1</td><td>78</td><td>15</td><td>98</td><td>NULL</td></tr>",
                            "<tr><td>78</td><td>2022-09-29 00:00:00.000</td><td>1</td><td>71</td><td>65</td><td>80</td><td>NULL</td></tr>",
                            "<tr><td>79</td><td>2022-09-30 00:00:00.000</td><td>1</td><td>30</td><td>98</td><td>66</td><td>NULL</td></tr>",
                            "<tr><td>80</td><td>2022-10-01 00:00:00.000</td><td>1</td><td>48</td><td>68</td><td>14</td><td>NULL</td></tr>",
                            "<tr><td>81</td><td>2022-10-02 00:00:00.000</td><td>1</td><td>86</td><td>99</td><td>51</td><td>NULL</td></tr>",
                            "<tr><td>82</td><td>2022-10-03 00:00:00.000</td><td>1</td><td>92</td><td>71</td><td>43</td><td>NULL</td></tr>",
                            "<tr><td>83</td><td>2022-10-04 00:00:00.000</td><td>1</td><td>72</td><td>79</td><td>54</td><td>NULL</td></tr>",
                            "<tr><td>84</td><td>2022-10-05 00:00:00.000</td><td>1</td><td>57</td><td>25</td><td>50</td><td>NULL</td></tr>",
                            "<tr><td>85</td><td>2022-10-06 00:00:00.000</td><td>1</td><td>6</td><td>12</td><td>33</td><td>NULL</td></tr>",
                            "<tr><td>86</td><td>2022-10-07 00:00:00.000</td><td>1</td><td>2</td><td>12</td><td>90</td><td>NULL</td></tr>",
                            "<tr><td>87</td><td>2022-10-08 00:00:00.000</td><td>1</td><td>80</td><td>63</td><td>95</td><td>NULL</td></tr>",
                            "<tr><td>88</td><td>2022-10-09 00:00:00.000</td><td>1</td><td>45</td><td>92</td><td>9</td><td>NULL</td></tr>",
                            "<tr><td>89</td><td>2022-10-10 00:00:00.000</td><td>1</td><td>47</td><td>40</td><td>61</td><td>NULL</td></tr>",
                            "<tr><td>90</td><td>2022-10-11 00:00:00.000</td><td>1</td><td>7</td><td>7</td><td>79</td><td>NULL</td></tr>",
                            "<tr><td>91</td><td>2022-10-12 00:00:00.000</td><td>1</td><td>51</td><td>64</td><td>26</td><td>NULL</td></tr>",
                            "<tr><td>92</td><td>2022-10-13 00:00:00.000</td><td>1</td><td>32</td><td>10</td><td>86</td><td>NULL</td></tr>",
                            "<tr><td>93</td><td>2022-10-14 00:00:00.000</td><td>1</td><td>45</td><td>58</td><td>47</td><td>NULL</td></tr>",
                            "<tr><td>94</td><td>2022-10-15 00:00:00.000</td><td>1</td><td>32</td><td>8</td><td>72</td><td>NULL</td></tr>",
                            "<tr><td>95</td><td>2022-10-16 00:00:00.000</td><td>1</td><td>25</td><td>82</td><td>21</td><td>NULL</td></tr>",
                            "<tr><td>96</td><td>2022-10-17 00:00:00.000</td><td>1</td><td>36</td><td>2</td><td>71</td><td>NULL</td></tr>",
                            "<tr><td>97</td><td>2022-10-18 00:00:00.000</td><td>1</td><td>24</td><td>13</td><td>70</td><td>NULL</td></tr>",
                            "<tr><td>98</td><td>2022-10-19 00:00:00.000</td><td>1</td><td>88</td><td>20</td><td>50</td><td>NULL</td></tr>",
                            "<tr><td>99</td><td>2022-10-20 00:00:00.000</td><td>1</td><td>29</td><td>19</td><td>71</td><td>NULL</td></tr>",
                            "<tr><td>100</td><td>2022-10-21 00:00:00.000</td><td>1</td><td>53</td><td>38</td><td>99</td><td>NULL</td></tr>",
                            "<tr><td>101</td><td>2022-10-22 00:00:00.000</td><td>1</td><td>33</td><td>60</td><td>91</td><td>NULL</td></tr>",
                            "<tr><td>102</td><td>2022-10-23 00:00:00.000</td><td>1</td><td>74</td><td>56</td><td>98</td><td>NULL</td></tr>",
                            "<tr><td>103</td><td>2022-10-24 00:00:00.000</td><td>1</td><td>15</td><td>27</td><td>19</td><td>NULL</td></tr>",
                            "<tr><td>104</td><td>2022-10-25 00:00:00.000</td><td>1</td><td>12</td><td>27</td><td>65</td><td>NULL</td></tr>",
                            "<tr><td>105</td><td>2022-10-26 00:00:00.000</td><td>1</td><td>78</td><td>51</td><td>28</td><td>NULL</td></tr>",
                            "<tr><td>106</td><td>2022-10-27 00:00:00.000</td><td>1</td><td>40</td><td>92</td><td>44</td><td>NULL</td></tr>",
                            "<tr><td>107</td><td>2022-10-28 00:00:00.000</td><td>1</td><td>65</td><td>37</td><td>19</td><td>NULL</td></tr>",
                            "<tr><td>108</td><td>2022-10-29 00:00:00.000</td><td>1</td><td>91</td><td>97</td><td>80</td><td>NULL</td></tr>",
                            "<tr><td>109</td><td>2022-10-30 00:00:00.000</td><td>1</td><td>22</td><td>57</td><td>83</td><td>NULL</td></tr>",
                            "<tr><td>110</td><td>2022-10-31 00:00:00.000</td><td>1</td><td>84</td><td>3</td><td>95</td><td>NULL</td></tr>",
                            "<tr><td>111</td><td>2022-11-01 00:00:00.000</td><td>1</td><td>62</td><td>62</td><td>66</td><td>NULL</td></tr>",
                            "<tr><td>112</td><td>2022-11-02 00:00:00.000</td><td>1</td><td>75</td><td>83</td><td>55</td><td>NULL</td></tr>",
                            "<tr><td>113</td><td>2022-11-03 00:00:00.000</td><td>1</td><td>44</td><td>37</td><td>17</td><td>NULL</td></tr>",
                            "<tr><td>114</td><td>2022-11-04 00:00:00.000</td><td>1</td><td>47</td><td>98</td><td>49</td><td>NULL</td></tr>",
                            "<tr><td>115</td><td>2022-11-05 00:00:00.000</td><td>1</td><td>19</td><td>93</td><td>3</td><td>NULL</td></tr>",
                            "<tr><td>116</td><td>2022-11-06 00:00:00.000</td><td>1</td><td>91</td><td>57</td><td>53</td><td>NULL</td></tr>",
                            "<tr><td>117</td><td>2022-11-07 00:00:00.000</td><td>1</td><td>20</td><td>10</td><td>29</td><td>NULL</td></tr>",
                            "<tr><td>118</td><td>2022-11-08 00:00:00.000</td><td>1</td><td>54</td><td>91</td><td>3</td><td>NULL</td></tr>",
                            "<tr><td>119</td><td>2022-11-09 00:00:00.000</td><td>1</td><td>62</td><td>9</td><td>92</td><td>NULL</td></tr>",
                            "<tr><td>120</td><td>2022-11-10 00:00:00.000</td><td>1</td><td>79</td><td>75</td><td>64</td><td>NULL</td></tr>",
                            "<tr><td>121</td><td>2022-11-11 00:00:00.000</td><td>1</td><td>12</td><td>62</td><td>67</td><td>NULL</td></tr>",
                            "<tr><td>122</td><td>2022-11-12 00:00:00.000</td><td>1</td><td>98</td><td>20</td><td>37</td><td>NULL</td></tr>",
                            "<tr><td>123</td><td>2022-11-13 00:00:00.000</td><td>1</td><td>19</td><td>18</td><td>35</td><td>NULL</td></tr>",
                            "<tr><td>124</td><td>2022-11-14 00:00:00.000</td><td>1</td><td>67</td><td>34</td><td>42</td><td>NULL</td></tr>",
                            "<tr><td>125</td><td>2022-11-15 00:00:00.000</td><td>1</td><td>81</td><td>38</td><td>69</td><td>NULL</td></tr>",
                            "<tr><td>126</td><td>2022-11-16 00:00:00.000</td><td>1</td><td>22</td><td>90</td><td>7</td><td>NULL</td></tr>",
                            "<tr><td>127</td><td>2022-11-17 00:00:00.000</td><td>1</td><td>48</td><td>5</td><td>53</td><td>NULL</td></tr>",
                            "<tr><td>128</td><td>2022-11-18 00:00:00.000</td><td>1</td><td>24</td><td>55</td><td>62</td><td>NULL</td></tr>",
                            "<tr><td>129</td><td>2022-11-19 00:00:00.000</td><td>1</td><td>42</td><td>76</td><td>61</td><td>NULL</td></tr>",
                            "<tr><td>130</td><td>2022-11-20 00:00:00.000</td><td>1</td><td>40</td><td>18</td><td>82</td><td>NULL</td></tr>",
                            "<tr><td>131</td><td>2022-11-21 00:00:00.000</td><td>1</td><td>94</td><td>55</td><td>58</td><td>NULL</td></tr>",
                            "<tr><td>132</td><td>2022-11-22 00:00:00.000</td><td>1</td><td>84</td><td>73</td><td>33</td><td>NULL</td></tr>",
                            "<tr><td>133</td><td>2022-11-23 00:00:00.000</td><td>1</td><td>51</td><td>73</td><td>80</td><td>NULL</td></tr>",
                            "<tr><td>134</td><td>2022-11-24 00:00:00.000</td><td>1</td><td>38</td><td>88</td><td>92</td><td>NULL</td></tr>",
                            "<tr><td>135</td><td>2022-11-25 00:00:00.000</td><td>1</td><td>83</td><td>46</td><td>76</td><td>NULL</td></tr>",
                            "<tr><td>136</td><td>2022-11-26 00:00:00.000</td><td>1</td><td>53</td><td>30</td><td>0</td><td>NULL</td></tr>",
                            "<tr><td>137</td><td>2022-11-27 00:00:00.000</td><td>1</td><td>4</td><td>47</td><td>42</td><td>NULL</td></tr>",
                            "<tr><td>138</td><td>2022-11-28 00:00:00.000</td><td>1</td><td>72</td><td>3</td><td>21</td><td>NULL</td></tr>",
                            "<tr><td>139</td><td>2022-11-29 00:00:00.000</td><td>1</td><td>39</td><td>66</td><td>11</td><td>NULL</td></tr>",
                            "<tr><td>140</td><td>2022-11-30 00:00:00.000</td><td>1</td><td>39</td><td>75</td><td>37</td><td>NULL</td></tr>",
                            "<tr><td>141</td><td>2022-12-01 00:00:00.000</td><td>1</td><td>41</td><td>52</td><td>88</td><td>NULL</td></tr>",
                            "<tr><td>142</td><td>2022-12-02 00:00:00.000</td><td>1</td><td>40</td><td>7</td><td>25</td><td>NULL</td></tr>",
                            "<tr><td>143</td><td>2022-12-03 00:00:00.000</td><td>1</td><td>56</td><td>77</td><td>50</td><td>NULL</td></tr>",
                            "<tr><td>144</td><td>2022-12-04 00:00:00.000</td><td>1</td><td>90</td><td>66</td><td>74</td><td>NULL</td></tr>",
                            "<tr><td>145</td><td>2022-12-05 00:00:00.000</td><td>1</td><td>32</td><td>15</td><td>23</td><td>NULL</td></tr>",
                            "<tr><td>146</td><td>2022-12-06 00:00:00.000</td><td>1</td><td>2</td><td>9</td><td>70</td><td>NULL</td></tr>",
                            "<tr><td>147</td><td>2022-12-07 00:00:00.000</td><td>1</td><td>16</td><td>18</td><td>58</td><td>NULL</td></tr>",
                            "<tr><td>148</td><td>2022-12-08 00:00:00.000</td><td>1</td><td>68</td><td>31</td><td>38</td><td>NULL</td></tr>",
                            "<tr><td>149</td><td>2022-12-09 00:00:00.000</td><td>1</td><td>74</td><td>86</td><td>37</td><td>NULL</td></tr>",
                            "<tr><td>150</td><td>2022-12-10 00:00:00.000</td><td>1</td><td>0</td><td>96</td><td>99</td><td>NULL</td></tr>",
                            "<tr><td>151</td><td>2022-12-11 00:00:00.000</td><td>1</td><td>83</td><td>11</td><td>50</td><td>NULL</td></tr>",
                            "<tr><td>152</td><td>2022-12-12 00:00:00.000</td><td>1</td><td>75</td><td>53</td><td>80</td><td>NULL</td></tr>",
                            "<tr><td>153</td><td>2022-12-13 00:00:00.000</td><td>1</td><td>74</td><td>49</td><td>55</td><td>NULL</td></tr>",
                            "<tr><td>154</td><td>2022-12-14 00:00:00.000</td><td>1</td><td>53</td><td>36</td><td>2</td><td>NULL</td></tr>",
                            "<tr><td>155</td><td>2022-12-15 00:00:00.000</td><td>1</td><td>59</td><td>58</td><td>2</td><td>NULL</td></tr>",
                            "<tr><td>156</td><td>2022-12-16 00:00:00.000</td><td>1</td><td>13</td><td>64</td><td>14</td><td>NULL</td></tr>",
                            "<tr><td>157</td><td>2022-12-17 00:00:00.000</td><td>1</td><td>96</td><td>67</td><td>6</td><td>NULL</td></tr>",
                            "<tr><td>158</td><td>2022-12-18 00:00:00.000</td><td>1</td><td>32</td><td>18</td><td>87</td><td>NULL</td></tr>",
                            "<tr><td>159</td><td>2022-12-19 00:00:00.000</td><td>1</td><td>67</td><td>23</td><td>82</td><td>NULL</td></tr>",
                            "<tr><td>160</td><td>2022-12-20 00:00:00.000</td><td>1</td><td>73</td><td>21</td><td>78</td><td>NULL</td></tr>",
                            "<tr><td>161</td><td>2022-12-21 00:00:00.000</td><td>1</td><td>54</td><td>44</td><td>38</td><td>NULL</td></tr>",
                            "<tr><td>162</td><td>2022-12-22 00:00:00.000</td><td>1</td><td>39</td><td>6</td><td>84</td><td>NULL</td></tr>",
                            "<tr><td>163</td><td>2022-12-23 00:00:00.000</td><td>1</td><td>90</td><td>92</td><td>95</td><td>NULL</td></tr>",
                            "<tr><td>164</td><td>2022-12-24 00:00:00.000</td><td>1</td><td>55</td><td>36</td><td>20</td><td>NULL</td></tr>",
                            "<tr><td>165</td><td>2022-12-25 00:00:00.000</td><td>1</td><td>57</td><td>55</td><td>87</td><td>NULL</td></tr>",
                            "<tr><td>166</td><td>2022-12-26 00:00:00.000</td><td>1</td><td>17</td><td>74</td><td>87</td><td>NULL</td></tr>",
                            "<tr><td>167</td><td>2022-12-27 00:00:00.000</td><td>1</td><td>42</td><td>6</td><td>67</td><td>NULL</td></tr>",
                            "<tr><td>168</td><td>2022-12-28 00:00:00.000</td><td>1</td><td>37</td><td>72</td><td>62</td><td>NULL</td></tr>",
                            "<tr><td>169</td><td>2022-12-29 00:00:00.000</td><td>1</td><td>60</td><td>0</td><td>43</td><td>NULL</td></tr>",
                            "<tr><td>170</td><td>2022-12-30 00:00:00.000</td><td>1</td><td>82</td><td>81</td><td>96</td><td>NULL</td></tr>",
                            "<tr><td>171</td><td>2022-12-31 00:00:00.000</td><td>1</td><td>54</td><td>68</td><td>62</td><td>NULL</td></tr>",
                            "<tr><td>172</td><td>2023-01-01 00:00:00.000</td><td>1</td><td>51</td><td>36</td><td>67</td><td>NULL</td></tr>",
                            "<tr><td>173</td><td>2023-01-02 00:00:00.000</td><td>1</td><td>36</td><td>12</td><td>13</td><td>NULL</td></tr>",
                            "<tr><td>174</td><td>2023-01-03 00:00:00.000</td><td>1</td><td>21</td><td>45</td><td>97</td><td>NULL</td></tr>",
                            "<tr><td>175</td><td>2023-01-04 00:00:00.000</td><td>1</td><td>22</td><td>86</td><td>15</td><td>NULL</td></tr>",
                            "<tr><td>176</td><td>2023-01-05 00:00:00.000</td><td>1</td><td>59</td><td>37</td><td>38</td><td>NULL</td></tr>",
                            "<tr><td>177</td><td>2023-01-06 00:00:00.000</td><td>1</td><td>45</td><td>30</td><td>12</td><td>NULL</td></tr>",
                            "<tr><td>178</td><td>2023-01-07 00:00:00.000</td><td>1</td><td>85</td><td>58</td><td>88</td><td>NULL</td></tr>",
                            "<tr><td>179</td><td>2023-01-08 00:00:00.000</td><td>1</td><td>17</td><td>57</td><td>60</td><td>NULL</td></tr>",
                            "<tr><td>180</td><td>2023-01-09 00:00:00.000</td><td>1</td><td>42</td><td>30</td><td>17</td><td>NULL</td></tr>",
                            "<tr><td>181</td><td>2022-07-14 00:00:00.000</td><td>2</td><td>76</td><td>21</td><td>89</td><td>NULL</td></tr>",
                            "<tr><td>182</td><td>2022-07-15 00:00:00.000</td><td>2</td><td>14</td><td>75</td><td>12</td><td>NULL</td></tr>",
                            "<tr><td>183</td><td>2022-07-16 00:00:00.000</td><td>2</td><td>89</td><td>94</td><td>78</td><td>NULL</td></tr>",
                            "<tr><td>184</td><td>2022-07-17 00:00:00.000</td><td>2</td><td>18</td><td>61</td><td>22</td><td>NULL</td></tr>",
                            "<tr><td>185</td><td>2022-07-18 00:00:00.000</td><td>2</td><td>36</td><td>89</td><td>83</td><td>NULL</td></tr>",
                            "<tr><td>186</td><td>2022-07-19 00:00:00.000</td><td>2</td><td>76</td><td>89</td><td>45</td><td>NULL</td></tr>",
                            "<tr><td>187</td><td>2022-07-20 00:00:00.000</td><td>2</td><td>82</td><td>39</td><td>89</td><td>NULL</td></tr>",
                            "<tr><td>188</td><td>2022-07-21 00:00:00.000</td><td>2</td><td>35</td><td>32</td><td>60</td><td>NULL</td></tr>",
                            "<tr><td>189</td><td>2022-07-22 00:00:00.000</td><td>2</td><td>61</td><td>92</td><td>56</td><td>NULL</td></tr>",
                            "<tr><td>190</td><td>2022-07-23 00:00:00.000</td><td>2</td><td>58</td><td>68</td><td>86</td><td>NULL</td></tr>",
                            "<tr><td>191</td><td>2022-07-24 00:00:00.000</td><td>2</td><td>25</td><td>47</td><td>0</td><td>NULL</td></tr>",
                            "<tr><td>192</td><td>2022-07-25 00:00:00.000</td><td>2</td><td>83</td><td>50</td><td>56</td><td>NULL</td></tr>",
                            "<tr><td>193</td><td>2022-07-26 00:00:00.000</td><td>2</td><td>55</td><td>0</td><td>49</td><td>NULL</td></tr>",
                            "<tr><td>194</td><td>2022-07-27 00:00:00.000</td><td>2</td><td>25</td><td>51</td><td>49</td><td>NULL</td></tr>",
                            "<tr><td>195</td><td>2022-07-28 00:00:00.000</td><td>2</td><td>16</td><td>77</td><td>38</td><td>NULL</td></tr>",
                            "<tr><td>196</td><td>2022-07-29 00:00:00.000</td><td>2</td><td>70</td><td>25</td><td>41</td><td>NULL</td></tr>",
                            "<tr><td>197</td><td>2022-07-30 00:00:00.000</td><td>2</td><td>36</td><td>63</td><td>19</td><td>NULL</td></tr>",
                            "<tr><td>198</td><td>2022-07-31 00:00:00.000</td><td>2</td><td>34</td><td>34</td><td>31</td><td>NULL</td></tr>",
                            "<tr><td>199</td><td>2022-08-01 00:00:00.000</td><td>2</td><td>58</td><td>4</td><td>69</td><td>NULL</td></tr>",
                            "<tr><td>200</td><td>2022-08-02 00:00:00.000</td><td>2</td><td>78</td><td>67</td><td>38</td><td>NULL</td></tr>",
                            "<tr><td>201</td><td>2022-08-03 00:00:00.000</td><td>2</td><td>71</td><td>64</td><td>18</td><td>NULL</td></tr>",
                            "<tr><td>202</td><td>2022-08-04 00:00:00.000</td><td>2</td><td>19</td><td>46</td><td>21</td><td>NULL</td></tr>",
                            "<tr><td>203</td><td>2022-08-05 00:00:00.000</td><td>2</td><td>58</td><td>86</td><td>6</td><td>NULL</td></tr>",
                            "<tr><td>204</td><td>2022-08-06 00:00:00.000</td><td>2</td><td>6</td><td>68</td><td>65</td><td>NULL</td></tr>",
                            "<tr><td>205</td><td>2022-08-07 00:00:00.000</td><td>2</td><td>61</td><td>44</td><td>21</td><td>NULL</td></tr>",
                            "<tr><td>206</td><td>2022-08-08 00:00:00.000</td><td>2</td><td>84</td><td>55</td><td>8</td><td>NULL</td></tr>",
                            "<tr><td>207</td><td>2022-08-09 00:00:00.000</td><td>2</td><td>51</td><td>95</td><td>55</td><td>NULL</td></tr>",
                            "<tr><td>208</td><td>2022-08-10 00:00:00.000</td><td>2</td><td>47</td><td>47</td><td>55</td><td>NULL</td></tr>",
                            "<tr><td>209</td><td>2022-08-11 00:00:00.000</td><td>2</td><td>13</td><td>29</td><td>75</td><td>NULL</td></tr>",
                            "<tr><td>210</td><td>2022-08-12 00:00:00.000</td><td>2</td><td>16</td><td>61</td><td>54</td><td>NULL</td></tr>",
                            "<tr><td>211</td><td>2022-08-13 00:00:00.000</td><td>2</td><td>7</td><td>7</td><td>85</td><td>NULL</td></tr>",
                            "<tr><td>212</td><td>2022-08-14 00:00:00.000</td><td>2</td><td>4</td><td>29</td><td>0</td><td>NULL</td></tr>",
                            "<tr><td>213</td><td>2022-08-15 00:00:00.000</td><td>2</td><td>89</td><td>47</td><td>22</td><td>NULL</td></tr>",
                            "<tr><td>214</td><td>2022-08-16 00:00:00.000</td><td>2</td><td>93</td><td>3</td><td>74</td><td>NULL</td></tr>",
                            "<tr><td>215</td><td>2022-08-17 00:00:00.000</td><td>2</td><td>85</td><td>98</td><td>14</td><td>NULL</td></tr>",
                            "<tr><td>216</td><td>2022-08-18 00:00:00.000</td><td>2</td><td>74</td><td>72</td><td>57</td><td>NULL</td></tr>",
                            "<tr><td>217</td><td>2022-08-19 00:00:00.000</td><td>2</td><td>24</td><td>22</td><td>57</td><td>NULL</td></tr>",
                            "<tr><td>218</td><td>2022-08-20 00:00:00.000</td><td>2</td><td>29</td><td>53</td><td>84</td><td>NULL</td></tr>",
                            "<tr><td>219</td><td>2022-08-21 00:00:00.000</td><td>2</td><td>65</td><td>25</td><td>38</td><td>NULL</td></tr>",
                            "<tr><td>220</td><td>2022-08-22 00:00:00.000</td><td>2</td><td>62</td><td>23</td><td>36</td><td>NULL</td></tr>",
                            "<tr><td>221</td><td>2022-08-23 00:00:00.000</td><td>2</td><td>92</td><td>40</td><td>30</td><td>NULL</td></tr>",
                            "<tr><td>222</td><td>2022-08-24 00:00:00.000</td><td>2</td><td>70</td><td>38</td><td>17</td><td>NULL</td></tr>",
                            "<tr><td>223</td><td>2022-08-25 00:00:00.000</td><td>2</td><td>16</td><td>60</td><td>95</td><td>NULL</td></tr>",
                            "<tr><td>224</td><td>2022-08-26 00:00:00.000</td><td>2</td><td>41</td><td>82</td><td>87</td><td>NULL</td></tr>",
                            "<tr><td>225</td><td>2022-08-27 00:00:00.000</td><td>2</td><td>38</td><td>18</td><td>64</td><td>NULL</td></tr>",
                            "<tr><td>226</td><td>2022-08-28 00:00:00.000</td><td>2</td><td>65</td><td>58</td><td>0</td><td>NULL</td></tr>",
                            "<tr><td>227</td><td>2022-08-29 00:00:00.000</td><td>2</td><td>6</td><td>46</td><td>82</td><td>NULL</td></tr>",
                            "<tr><td>228</td><td>2022-08-30 00:00:00.000</td><td>2</td><td>29</td><td>6</td><td>49</td><td>NULL</td></tr>",
                            "<tr><td>229</td><td>2022-08-31 00:00:00.000</td><td>2</td><td>93</td><td>12</td><td>59</td><td>NULL</td></tr>",
                            "<tr><td>230</td><td>2022-09-01 00:00:00.000</td><td>2</td><td>27</td><td>77</td><td>1</td><td>NULL</td></tr>",
                            "<tr><td>231</td><td>2022-09-02 00:00:00.000</td><td>2</td><td>62</td><td>45</td><td>81</td><td>NULL</td></tr>",
                            "<tr><td>232</td><td>2022-09-03 00:00:00.000</td><td>2</td><td>8</td><td>47</td><td>51</td><td>NULL</td></tr>",
                            "<tr><td>233</td><td>2022-09-04 00:00:00.000</td><td>2</td><td>60</td><td>72</td><td>60</td><td>NULL</td></tr>",
                            "<tr><td>234</td><td>2022-09-05 00:00:00.000</td><td>2</td><td>91</td><td>39</td><td>4</td><td>NULL</td></tr>",
                            "<tr><td>235</td><td>2022-09-06 00:00:00.000</td><td>2</td><td>74</td><td>76</td><td>61</td><td>NULL</td></tr>",
                            "<tr><td>236</td><td>2022-09-07 00:00:00.000</td><td>2</td><td>36</td><td>84</td><td>8</td><td>NULL</td></tr>",
                            "<tr><td>237</td><td>2022-09-08 00:00:00.000</td><td>2</td><td>94</td><td>95</td><td>39</td><td>NULL</td></tr>",
                            "<tr><td>238</td><td>2022-09-09 00:00:00.000</td><td>2</td><td>86</td><td>84</td><td>61</td><td>NULL</td></tr>",
                            "<tr><td>239</td><td>2022-09-10 00:00:00.000</td><td>2</td><td>77</td><td>59</td><td>87</td><td>NULL</td></tr>",
                            "<tr><td>240</td><td>2022-09-11 00:00:00.000</td><td>2</td><td>78</td><td>22</td><td>78</td><td>NULL</td></tr>",
                            "<tr><td>241</td><td>2022-09-12 00:00:00.000</td><td>2</td><td>66</td><td>67</td><td>25</td><td>NULL</td></tr>",
                            "<tr><td>242</td><td>2022-09-13 00:00:00.000</td><td>2</td><td>99</td><td>80</td><td>71</td><td>NULL</td></tr>",
                            "<tr><td>243</td><td>2022-09-14 00:00:00.000</td><td>2</td><td>91</td><td>13</td><td>82</td><td>NULL</td></tr>",
                            "<tr><td>244</td><td>2022-09-15 00:00:00.000</td><td>2</td><td>85</td><td>0</td><td>45</td><td>NULL</td></tr>",
                            "<tr><td>245</td><td>2022-09-16 00:00:00.000</td><td>2</td><td>67</td><td>52</td><td>71</td><td>NULL</td></tr>",
                            "<tr><td>246</td><td>2022-09-17 00:00:00.000</td><td>2</td><td>1</td><td>80</td><td>60</td><td>NULL</td></tr>",
                            "<tr><td>247</td><td>2022-09-18 00:00:00.000</td><td>2</td><td>67</td><td>82</td><td>65</td><td>NULL</td></tr>",
                            "<tr><td>248</td><td>2022-09-19 00:00:00.000</td><td>2</td><td>10</td><td>54</td><td>72</td><td>NULL</td></tr>",
                            "<tr><td>249</td><td>2022-09-20 00:00:00.000</td><td>2</td><td>33</td><td>33</td><td>55</td><td>NULL</td></tr>",
                            "<tr><td>250</td><td>2022-09-21 00:00:00.000</td><td>2</td><td>58</td><td>20</td><td>87</td><td>NULL</td></tr>",
                            "<tr><td>251</td><td>2022-09-22 00:00:00.000</td><td>2</td><td>46</td><td>55</td><td>15</td><td>NULL</td></tr>",
                            "<tr><td>252</td><td>2022-09-23 00:00:00.000</td><td>2</td><td>79</td><td>51</td><td>72</td><td>NULL</td></tr>",
                            "<tr><td>253</td><td>2022-09-24 00:00:00.000</td><td>2</td><td>55</td><td>49</td><td>27</td><td>NULL</td></tr>",
                            "<tr><td>254</td><td>2022-09-25 00:00:00.000</td><td>2</td><td>96</td><td>6</td><td>65</td><td>NULL</td></tr>",
                            "<tr><td>255</td><td>2022-09-26 00:00:00.000</td><td>2</td><td>72</td><td>2</td><td>35</td><td>NULL</td></tr>",
                            "<tr><td>256</td><td>2022-09-27 00:00:00.000</td><td>2</td><td>77</td><td>58</td><td>87</td><td>NULL</td></tr>",
                            "<tr><td>257</td><td>2022-09-28 00:00:00.000</td><td>2</td><td>38</td><td>86</td><td>53</td><td>NULL</td></tr>",
                            "<tr><td>258</td><td>2022-09-29 00:00:00.000</td><td>2</td><td>76</td><td>54</td><td>29</td><td>NULL</td></tr>",
                            "<tr><td>259</td><td>2022-09-30 00:00:00.000</td><td>2</td><td>40</td><td>75</td><td>10</td><td>NULL</td></tr>",
                            "<tr><td>260</td><td>2022-10-01 00:00:00.000</td><td>2</td><td>88</td><td>1</td><td>68</td><td>NULL</td></tr>",
                            "<tr><td>261</td><td>2022-10-02 00:00:00.000</td><td>2</td><td>41</td><td>99</td><td>24</td><td>NULL</td></tr>",
                            "<tr><td>262</td><td>2022-10-03 00:00:00.000</td><td>2</td><td>79</td><td>10</td><td>64</td><td>NULL</td></tr>",
                            "<tr><td>263</td><td>2022-10-04 00:00:00.000</td><td>2</td><td>68</td><td>90</td><td>3</td><td>NULL</td></tr>",
                            "<tr><td>264</td><td>2022-10-05 00:00:00.000</td><td>2</td><td>48</td><td>8</td><td>90</td><td>NULL</td></tr>",
                            "<tr><td>265</td><td>2022-10-06 00:00:00.000</td><td>2</td><td>37</td><td>71</td><td>99</td><td>NULL</td></tr>",
                            "<tr><td>266</td><td>2022-10-07 00:00:00.000</td><td>2</td><td>80</td><td>26</td><td>82</td><td>NULL</td></tr>",
                            "<tr><td>267</td><td>2022-10-08 00:00:00.000</td><td>2</td><td>77</td><td>66</td><td>75</td><td>NULL</td></tr>",
                            "<tr><td>268</td><td>2022-10-09 00:00:00.000</td><td>2</td><td>3</td><td>63</td><td>32</td><td>NULL</td></tr>",
                            "<tr><td>269</td><td>2022-10-10 00:00:00.000</td><td>2</td><td>34</td><td>51</td><td>18</td><td>NULL</td></tr>",
                            "<tr><td>270</td><td>2022-10-11 00:00:00.000</td><td>2</td><td>68</td><td>8</td><td>19</td><td>NULL</td></tr>",
                            "<tr><td>271</td><td>2022-10-12 00:00:00.000</td><td>2</td><td>39</td><td>3</td><td>16</td><td>NULL</td></tr>",
                            "<tr><td>272</td><td>2022-10-13 00:00:00.000</td><td>2</td><td>16</td><td>41</td><td>33</td><td>NULL</td></tr>",
                            "<tr><td>273</td><td>2022-10-14 00:00:00.000</td><td>2</td><td>37</td><td>6</td><td>45</td><td>NULL</td></tr>",
                            "<tr><td>274</td><td>2022-10-15 00:00:00.000</td><td>2</td><td>26</td><td>28</td><td>95</td><td>NULL</td></tr>",
                            "<tr><td>275</td><td>2022-10-16 00:00:00.000</td><td>2</td><td>86</td><td>18</td><td>68</td><td>NULL</td></tr>",
                            "<tr><td>276</td><td>2022-10-17 00:00:00.000</td><td>2</td><td>59</td><td>23</td><td>3</td><td>NULL</td></tr>",
                            "<tr><td>277</td><td>2022-10-18 00:00:00.000</td><td>2</td><td>67</td><td>53</td><td>36</td><td>NULL</td></tr>",
                            "<tr><td>278</td><td>2022-10-19 00:00:00.000</td><td>2</td><td>59</td><td>27</td><td>77</td><td>NULL</td></tr>",
                            "<tr><td>279</td><td>2022-10-20 00:00:00.000</td><td>2</td><td>43</td><td>50</td><td>91</td><td>NULL</td></tr>",
                            "<tr><td>280</td><td>2022-10-21 00:00:00.000</td><td>2</td><td>30</td><td>1</td><td>69</td><td>NULL</td></tr>",
                            "<tr><td>281</td><td>2022-10-22 00:00:00.000</td><td>2</td><td>3</td><td>44</td><td>21</td><td>NULL</td></tr>",
                            "<tr><td>282</td><td>2022-10-23 00:00:00.000</td><td>2</td><td>21</td><td>77</td><td>15</td><td>NULL</td></tr>",
                            "<tr><td>283</td><td>2022-10-24 00:00:00.000</td><td>2</td><td>1</td><td>68</td><td>44</td><td>NULL</td></tr>",
                            "<tr><td>284</td><td>2022-10-25 00:00:00.000</td><td>2</td><td>89</td><td>75</td><td>0</td><td>NULL</td></tr>",
                            "<tr><td>285</td><td>2022-10-26 00:00:00.000</td><td>2</td><td>57</td><td>20</td><td>34</td><td>NULL</td></tr>",
                            "<tr><td>286</td><td>2022-10-27 00:00:00.000</td><td>2</td><td>80</td><td>71</td><td>65</td><td>NULL</td></tr>",
                            "<tr><td>287</td><td>2022-10-28 00:00:00.000</td><td>2</td><td>87</td><td>75</td><td>75</td><td>NULL</td></tr>",
                            "<tr><td>288</td><td>2022-10-29 00:00:00.000</td><td>2</td><td>30</td><td>55</td><td>61</td><td>NULL</td></tr>",
                            "<tr><td>289</td><td>2022-10-30 00:00:00.000</td><td>2</td><td>93</td><td>81</td><td>87</td><td>NULL</td></tr>",
                            "<tr><td>290</td><td>2022-10-31 00:00:00.000</td><td>2</td><td>90</td><td>7</td><td>29</td><td>NULL</td></tr>",
                            "<tr><td>291</td><td>2022-11-01 00:00:00.000</td><td>2</td><td>91</td><td>65</td><td>64</td><td>NULL</td></tr>",
                            "<tr><td>292</td><td>2022-11-02 00:00:00.000</td><td>2</td><td>60</td><td>42</td><td>25</td><td>NULL</td></tr>",
                            "<tr><td>293</td><td>2022-11-03 00:00:00.000</td><td>2</td><td>8</td><td>10</td><td>21</td><td>NULL</td></tr>",
                            "<tr><td>294</td><td>2022-11-04 00:00:00.000</td><td>2</td><td>19</td><td>0</td><td>78</td><td>NULL</td></tr>",
                            "<tr><td>295</td><td>2022-11-05 00:00:00.000</td><td>2</td><td>1</td><td>39</td><td>33</td><td>NULL</td></tr>",
                            "<tr><td>296</td><td>2022-11-06 00:00:00.000</td><td>2</td><td>79</td><td>79</td><td>58</td><td>NULL</td></tr>",
                            "<tr><td>297</td><td>2022-11-07 00:00:00.000</td><td>2</td><td>8</td><td>65</td><td>95</td><td>NULL</td></tr>",
                            "<tr><td>298</td><td>2022-11-08 00:00:00.000</td><td>2</td><td>11</td><td>35</td><td>23</td><td>NULL</td></tr>",
                            "<tr><td>299</td><td>2022-11-09 00:00:00.000</td><td>2</td><td>16</td><td>74</td><td>91</td><td>NULL</td></tr>",
                            "<tr><td>300</td><td>2022-11-10 00:00:00.000</td><td>2</td><td>73</td><td>14</td><td>35</td><td>NULL</td></tr>",
                            "<tr><td>301</td><td>2022-11-11 00:00:00.000</td><td>2</td><td>37</td><td>55</td><td>12</td><td>NULL</td></tr>",
                            "<tr><td>302</td><td>2022-11-12 00:00:00.000</td><td>2</td><td>21</td><td>18</td><td>89</td><td>NULL</td></tr>",
                            "<tr><td>303</td><td>2022-11-13 00:00:00.000</td><td>2</td><td>37</td><td>14</td><td>69</td><td>NULL</td></tr>",
                            "<tr><td>304</td><td>2022-11-14 00:00:00.000</td><td>2</td><td>57</td><td>70</td><td>16</td><td>NULL</td></tr>",
                            "<tr><td>305</td><td>2022-11-15 00:00:00.000</td><td>2</td><td>97</td><td>30</td><td>52</td><td>NULL</td></tr>",
                            "<tr><td>306</td><td>2022-11-16 00:00:00.000</td><td>2</td><td>66</td><td>31</td><td>39</td><td>NULL</td></tr>",
                            "<tr><td>307</td><td>2022-11-17 00:00:00.000</td><td>2</td><td>40</td><td>87</td><td>31</td><td>NULL</td></tr>",
                            "<tr><td>308</td><td>2022-11-18 00:00:00.000</td><td>2</td><td>12</td><td>18</td><td>91</td><td>NULL</td></tr>",
                            "<tr><td>309</td><td>2022-11-19 00:00:00.000</td><td>2</td><td>48</td><td>81</td><td>76</td><td>NULL</td></tr>",
                            "<tr><td>310</td><td>2022-11-20 00:00:00.000</td><td>2</td><td>88</td><td>32</td><td>53</td><td>NULL</td></tr>",
                            "<tr><td>311</td><td>2022-11-21 00:00:00.000</td><td>2</td><td>61</td><td>3</td><td>92</td><td>NULL</td></tr>",
                            "<tr><td>312</td><td>2022-11-22 00:00:00.000</td><td>2</td><td>53</td><td>61</td><td>97</td><td>NULL</td></tr>",
                            "<tr><td>313</td><td>2022-11-23 00:00:00.000</td><td>2</td><td>34</td><td>62</td><td>1</td><td>NULL</td></tr>",
                            "<tr><td>314</td><td>2022-11-24 00:00:00.000</td><td>2</td><td>95</td><td>91</td><td>80</td><td>NULL</td></tr>",
                            "<tr><td>315</td><td>2022-11-25 00:00:00.000</td><td>2</td><td>45</td><td>40</td><td>23</td><td>NULL</td></tr>",
                            "<tr><td>316</td><td>2022-11-26 00:00:00.000</td><td>2</td><td>52</td><td>27</td><td>72</td><td>NULL</td></tr>",
                            "<tr><td>317</td><td>2022-11-27 00:00:00.000</td><td>2</td><td>58</td><td>20</td><td>42</td><td>NULL</td></tr>",
                            "<tr><td>318</td><td>2022-11-28 00:00:00.000</td><td>2</td><td>34</td><td>22</td><td>20</td><td>NULL</td></tr>",
                            "<tr><td>319</td><td>2022-11-29 00:00:00.000</td><td>2</td><td>11</td><td>33</td><td>96</td><td>NULL</td></tr>",
                            "<tr><td>320</td><td>2022-11-30 00:00:00.000</td><td>2</td><td>58</td><td>55</td><td>47</td><td>NULL</td></tr>",
                            "<tr><td>321</td><td>2022-12-01 00:00:00.000</td><td>2</td><td>56</td><td>85</td><td>62</td><td>NULL</td></tr>",
                            "<tr><td>322</td><td>2022-12-02 00:00:00.000</td><td>2</td><td>59</td><td>82</td><td>70</td><td>NULL</td></tr>",
                            "<tr><td>323</td><td>2022-12-03 00:00:00.000</td><td>2</td><td>97</td><td>34</td><td>98</td><td>NULL</td></tr>",
                            "<tr><td>324</td><td>2022-12-04 00:00:00.000</td><td>2</td><td>14</td><td>95</td><td>23</td><td>NULL</td></tr>",
                            "<tr><td>325</td><td>2022-12-05 00:00:00.000</td><td>2</td><td>54</td><td>44</td><td>79</td><td>NULL</td></tr>",
                            "<tr><td>326</td><td>2022-12-06 00:00:00.000</td><td>2</td><td>33</td><td>2</td><td>27</td><td>NULL</td></tr>",
                            "<tr><td>327</td><td>2022-12-07 00:00:00.000</td><td>2</td><td>92</td><td>65</td><td>43</td><td>NULL</td></tr>",
                            "<tr><td>328</td><td>2022-12-08 00:00:00.000</td><td>2</td><td>87</td><td>46</td><td>3</td><td>NULL</td></tr>",
                            "<tr><td>329</td><td>2022-12-09 00:00:00.000</td><td>2</td><td>79</td><td>72</td><td>28</td><td>NULL</td></tr>",
                            "<tr><td>330</td><td>2022-12-10 00:00:00.000</td><td>2</td><td>13</td><td>84</td><td>65</td><td>NULL</td></tr>",
                            "<tr><td>331</td><td>2022-12-11 00:00:00.000</td><td>2</td><td>64</td><td>76</td><td>17</td><td>NULL</td></tr>",
                            "<tr><td>332</td><td>2022-12-12 00:00:00.000</td><td>2</td><td>48</td><td>83</td><td>52</td><td>NULL</td></tr>",
                            "<tr><td>333</td><td>2022-12-13 00:00:00.000</td><td>2</td><td>63</td><td>90</td><td>63</td><td>NULL</td></tr>",
                            "<tr><td>334</td><td>2022-12-14 00:00:00.000</td><td>2</td><td>92</td><td>40</td><td>17</td><td>NULL</td></tr>",
                            "<tr><td>335</td><td>2022-12-15 00:00:00.000</td><td>2</td><td>49</td><td>77</td><td>9</td><td>NULL</td></tr>",
                            "<tr><td>336</td><td>2022-12-16 00:00:00.000</td><td>2</td><td>86</td><td>55</td><td>65</td><td>NULL</td></tr>",
                            "<tr><td>337</td><td>2022-12-17 00:00:00.000</td><td>2</td><td>52</td><td>82</td><td>38</td><td>NULL</td></tr>",
                            "<tr><td>338</td><td>2022-12-18 00:00:00.000</td><td>2</td><td>61</td><td>60</td><td>98</td><td>NULL</td></tr>",
                            "<tr><td>339</td><td>2022-12-19 00:00:00.000</td><td>2</td><td>32</td><td>96</td><td>93</td><td>NULL</td></tr>",
                            "<tr><td>340</td><td>2022-12-20 00:00:00.000</td><td>2</td><td>57</td><td>67</td><td>85</td><td>NULL</td></tr>",
                            "<tr><td>341</td><td>2022-12-21 00:00:00.000</td><td>2</td><td>67</td><td>35</td><td>77</td><td>NULL</td></tr>",
                            "<tr><td>342</td><td>2022-12-22 00:00:00.000</td><td>2</td><td>4</td><td>31</td><td>66</td><td>NULL</td></tr>",
                            "<tr><td>343</td><td>2022-12-23 00:00:00.000</td><td>2</td><td>34</td><td>51</td><td>60</td><td>NULL</td></tr>",
                            "<tr><td>344</td><td>2022-12-24 00:00:00.000</td><td>2</td><td>76</td><td>40</td><td>43</td><td>NULL</td></tr>",
                            "<tr><td>345</td><td>2022-12-25 00:00:00.000</td><td>2</td><td>31</td><td>77</td><td>84</td><td>NULL</td></tr>",
                            "<tr><td>346</td><td>2022-12-26 00:00:00.000</td><td>2</td><td>31</td><td>19</td><td>20</td><td>NULL</td></tr>",
                            "<tr><td>347</td><td>2022-12-27 00:00:00.000</td><td>2</td><td>12</td><td>95</td><td>6</td><td>NULL</td></tr>",
                            "<tr><td>348</td><td>2022-12-28 00:00:00.000</td><td>2</td><td>26</td><td>97</td><td>61</td><td>NULL</td></tr>",
                            "<tr><td>349</td><td>2022-12-29 00:00:00.000</td><td>2</td><td>33</td><td>26</td><td>72</td><td>NULL</td></tr>",
                            "<tr><td>350</td><td>2022-12-30 00:00:00.000</td><td>2</td><td>52</td><td>93</td><td>39</td><td>NULL</td></tr>",
                            "<tr><td>351</td><td>2022-12-31 00:00:00.000</td><td>2</td><td>28</td><td>54</td><td>23</td><td>NULL</td></tr>",
                            "<tr><td>352</td><td>2023-01-01 00:00:00.000</td><td>2</td><td>60</td><td>19</td><td>6</td><td>NULL</td></tr>",
                            "<tr><td>353</td><td>2023-01-02 00:00:00.000</td><td>2</td><td>51</td><td>22</td><td>41</td><td>NULL</td></tr>",
                            "<tr><td>354</td><td>2023-01-03 00:00:00.000</td><td>2</td><td>85</td><td>50</td><td>64</td><td>NULL</td></tr>",
                            "<tr><td>355</td><td>2023-01-04 00:00:00.000</td><td>2</td><td>18</td><td>56</td><td>20</td><td>NULL</td></tr>",
                            "<tr><td>356</td><td>2023-01-05 00:00:00.000</td><td>2</td><td>53</td><td>8</td><td>76</td><td>NULL</td></tr>",
                            "<tr><td>357</td><td>2023-01-06 00:00:00.000</td><td>2</td><td>50</td><td>84</td><td>41</td><td>NULL</td></tr>",
                            "<tr><td>358</td><td>2023-01-07 00:00:00.000</td><td>2</td><td>3</td><td>41</td><td>42</td><td>NULL</td></tr>",
                            "<tr><td>359</td><td>2023-01-08 00:00:00.000</td><td>2</td><td>27</td><td>31</td><td>89</td><td>NULL</td></tr>",
                            "<tr><td>360</td><td>2023-01-09 00:00:00.000</td><td>2</td><td>87</td><td>34</td><td>86</td><td>NULL</td></tr>",
                            "<tr><td>361</td><td>2022-07-14 00:00:00.000</td><td>3</td><td>42</td><td>85</td><td>20</td><td>NULL</td></tr>",
                            "<tr><td>362</td><td>2022-07-15 00:00:00.000</td><td>3</td><td>32</td><td>98</td><td>65</td><td>NULL</td></tr>",
                            "<tr><td>363</td><td>2022-07-16 00:00:00.000</td><td>3</td><td>35</td><td>59</td><td>76</td><td>NULL</td></tr>",
                            "<tr><td>364</td><td>2022-07-17 00:00:00.000</td><td>3</td><td>73</td><td>43</td><td>51</td><td>NULL</td></tr>",
                            "<tr><td>365</td><td>2022-07-18 00:00:00.000</td><td>3</td><td>14</td><td>82</td><td>65</td><td>NULL</td></tr>",
                            "<tr><td>366</td><td>2022-07-19 00:00:00.000</td><td>3</td><td>98</td><td>51</td><td>15</td><td>NULL</td></tr>",
                            "<tr><td>367</td><td>2022-07-20 00:00:00.000</td><td>3</td><td>97</td><td>49</td><td>97</td><td>NULL</td></tr>",
                            "<tr><td>368</td><td>2022-07-21 00:00:00.000</td><td>3</td><td>7</td><td>83</td><td>41</td><td>NULL</td></tr>",
                            "<tr><td>369</td><td>2022-07-22 00:00:00.000</td><td>3</td><td>30</td><td>19</td><td>42</td><td>NULL</td></tr>",
                            "<tr><td>370</td><td>2022-07-23 00:00:00.000</td><td>3</td><td>67</td><td>17</td><td>29</td><td>NULL</td></tr>",
                            "<tr><td>371</td><td>2022-07-24 00:00:00.000</td><td>3</td><td>45</td><td>95</td><td>65</td><td>NULL</td></tr>",
                            "<tr><td>372</td><td>2022-07-25 00:00:00.000</td><td>3</td><td>39</td><td>44</td><td>14</td><td>NULL</td></tr>",
                            "<tr><td>373</td><td>2022-07-26 00:00:00.000</td><td>3</td><td>94</td><td>67</td><td>6</td><td>NULL</td></tr>",
                            "<tr><td>374</td><td>2022-07-27 00:00:00.000</td><td>3</td><td>40</td><td>45</td><td>14</td><td>NULL</td></tr>",
                            "<tr><td>375</td><td>2022-07-28 00:00:00.000</td><td>3</td><td>37</td><td>66</td><td>15</td><td>NULL</td></tr>",
                            "<tr><td>376</td><td>2022-07-29 00:00:00.000</td><td>3</td><td>31</td><td>91</td><td>55</td><td>NULL</td></tr>",
                            "<tr><td>377</td><td>2022-07-30 00:00:00.000</td><td>3</td><td>72</td><td>23</td><td>55</td><td>NULL</td></tr>",
                            "<tr><td>378</td><td>2022-07-31 00:00:00.000</td><td>3</td><td>16</td><td>61</td><td>0</td><td>NULL</td></tr>",
                            "<tr><td>379</td><td>2022-08-01 00:00:00.000</td><td>3</td><td>93</td><td>73</td><td>43</td><td>NULL</td></tr>",
                            "<tr><td>380</td><td>2022-08-02 00:00:00.000</td><td>3</td><td>61</td><td>97</td><td>77</td><td>NULL</td></tr>",
                            "<tr><td>381</td><td>2022-08-03 00:00:00.000</td><td>3</td><td>16</td><td>0</td><td>73</td><td>NULL</td></tr>",
                            "<tr><td>382</td><td>2022-08-04 00:00:00.000</td><td>3</td><td>96</td><td>71</td><td>89</td><td>NULL</td></tr>",
                            "<tr><td>383</td><td>2022-08-05 00:00:00.000</td><td>3</td><td>53</td><td>7</td><td>33</td><td>NULL</td></tr>",
                            "<tr><td>384</td><td>2022-08-06 00:00:00.000</td><td>3</td><td>13</td><td>14</td><td>9</td><td>NULL</td></tr>",
                            "<tr><td>385</td><td>2022-08-07 00:00:00.000</td><td>3</td><td>76</td><td>25</td><td>74</td><td>NULL</td></tr>",
                            "<tr><td>386</td><td>2022-08-08 00:00:00.000</td><td>3</td><td>89</td><td>83</td><td>47</td><td>NULL</td></tr>",
                            "<tr><td>387</td><td>2022-08-09 00:00:00.000</td><td>3</td><td>70</td><td>3</td><td>97</td><td>NULL</td></tr>",
                            "<tr><td>388</td><td>2022-08-10 00:00:00.000</td><td>3</td><td>76</td><td>24</td><td>48</td><td>NULL</td></tr>",
                            "<tr><td>389</td><td>2022-08-11 00:00:00.000</td><td>3</td><td>63</td><td>63</td><td>45</td><td>NULL</td></tr>",
                            "<tr><td>390</td><td>2022-08-12 00:00:00.000</td><td>3</td><td>49</td><td>86</td><td>29</td><td>NULL</td></tr>",
                            "<tr><td>391</td><td>2022-08-13 00:00:00.000</td><td>3</td><td>43</td><td>1</td><td>68</td><td>NULL</td></tr>",
                            "<tr><td>392</td><td>2022-08-14 00:00:00.000</td><td>3</td><td>15</td><td>15</td><td>56</td><td>NULL</td></tr>",
                            "<tr><td>393</td><td>2022-08-15 00:00:00.000</td><td>3</td><td>71</td><td>25</td><td>38</td><td>NULL</td></tr>",
                            "<tr><td>394</td><td>2022-08-16 00:00:00.000</td><td>3</td><td>62</td><td>40</td><td>23</td><td>NULL</td></tr>",
                            "<tr><td>395</td><td>2022-08-17 00:00:00.000</td><td>3</td><td>91</td><td>79</td><td>19</td><td>NULL</td></tr>",
                            "<tr><td>396</td><td>2022-08-18 00:00:00.000</td><td>3</td><td>38</td><td>99</td><td>38</td><td>NULL</td></tr>",
                            "<tr><td>397</td><td>2022-08-19 00:00:00.000</td><td>3</td><td>43</td><td>87</td><td>38</td><td>NULL</td></tr>",
                            "<tr><td>398</td><td>2022-08-20 00:00:00.000</td><td>3</td><td>24</td><td>65</td><td>83</td><td>NULL</td></tr>",
                            "<tr><td>399</td><td>2022-08-21 00:00:00.000</td><td>3</td><td>97</td><td>92</td><td>48</td><td>NULL</td></tr>",
                            "<tr><td>400</td><td>2022-08-22 00:00:00.000</td><td>3</td><td>37</td><td>86</td><td>36</td><td>NULL</td></tr>",
                            "<tr><td>401</td><td>2022-08-23 00:00:00.000</td><td>3</td><td>99</td><td>97</td><td>56</td><td>NULL</td></tr>",
                            "<tr><td>402</td><td>2022-08-24 00:00:00.000</td><td>3</td><td>96</td><td>38</td><td>45</td><td>NULL</td></tr>",
                            "<tr><td>403</td><td>2022-08-25 00:00:00.000</td><td>3</td><td>60</td><td>57</td><td>3</td><td>NULL</td></tr>",
                            "<tr><td>404</td><td>2022-08-26 00:00:00.000</td><td>3</td><td>46</td><td>48</td><td>76</td><td>NULL</td></tr>",
                            "<tr><td>405</td><td>2022-08-27 00:00:00.000</td><td>3</td><td>22</td><td>59</td><td>42</td><td>NULL</td></tr>",
                            "<tr><td>406</td><td>2022-08-28 00:00:00.000</td><td>3</td><td>45</td><td>85</td><td>21</td><td>NULL</td></tr>",
                            "<tr><td>407</td><td>2022-08-29 00:00:00.000</td><td>3</td><td>0</td><td>61</td><td>79</td><td>NULL</td></tr>",
                            "<tr><td>408</td><td>2022-08-30 00:00:00.000</td><td>3</td><td>40</td><td>59</td><td>16</td><td>NULL</td></tr>",
                            "<tr><td>409</td><td>2022-08-31 00:00:00.000</td><td>3</td><td>16</td><td>0</td><td>66</td><td>NULL</td></tr>",
                            "<tr><td>410</td><td>2022-09-01 00:00:00.000</td><td>3</td><td>0</td><td>42</td><td>29</td><td>NULL</td></tr>",
                            "<tr><td>411</td><td>2022-09-02 00:00:00.000</td><td>3</td><td>5</td><td>18</td><td>77</td><td>NULL</td></tr>",
                            "<tr><td>412</td><td>2022-09-03 00:00:00.000</td><td>3</td><td>46</td><td>17</td><td>93</td><td>NULL</td></tr>",
                            "<tr><td>413</td><td>2022-09-04 00:00:00.000</td><td>3</td><td>47</td><td>85</td><td>52</td><td>NULL</td></tr>",
                            "<tr><td>414</td><td>2022-09-05 00:00:00.000</td><td>3</td><td>27</td><td>74</td><td>99</td><td>NULL</td></tr>",
                            "<tr><td>415</td><td>2022-09-06 00:00:00.000</td><td>3</td><td>41</td><td>23</td><td>53</td><td>NULL</td></tr>",
                            "<tr><td>416</td><td>2022-09-07 00:00:00.000</td><td>3</td><td>71</td><td>90</td><td>74</td><td>NULL</td></tr>",
                            "<tr><td>417</td><td>2022-09-08 00:00:00.000</td><td>3</td><td>77</td><td>67</td><td>6</td><td>NULL</td></tr>",
                            "<tr><td>418</td><td>2022-09-09 00:00:00.000</td><td>3</td><td>94</td><td>81</td><td>65</td><td>NULL</td></tr>",
                            "<tr><td>419</td><td>2022-09-10 00:00:00.000</td><td>3</td><td>63</td><td>92</td><td>78</td><td>NULL</td></tr>",
                            "<tr><td>420</td><td>2022-09-11 00:00:00.000</td><td>3</td><td>65</td><td>97</td><td>68</td><td>NULL</td></tr>",
                            "<tr><td>421</td><td>2022-09-12 00:00:00.000</td><td>3</td><td>92</td><td>47</td><td>7</td><td>NULL</td></tr>",
                            "<tr><td>422</td><td>2022-09-13 00:00:00.000</td><td>3</td><td>32</td><td>36</td><td>98</td><td>NULL</td></tr>",
                            "<tr><td>423</td><td>2022-09-14 00:00:00.000</td><td>3</td><td>12</td><td>69</td><td>58</td><td>NULL</td></tr>",
                            "<tr><td>424</td><td>2022-09-15 00:00:00.000</td><td>3</td><td>82</td><td>55</td><td>23</td><td>NULL</td></tr>",
                            "<tr><td>425</td><td>2022-09-16 00:00:00.000</td><td>3</td><td>59</td><td>56</td><td>64</td><td>NULL</td></tr>",
                            "<tr><td>426</td><td>2022-09-17 00:00:00.000</td><td>3</td><td>88</td><td>67</td><td>35</td><td>NULL</td></tr>",
                            "<tr><td>427</td><td>2022-09-18 00:00:00.000</td><td>3</td><td>8</td><td>7</td><td>47</td><td>NULL</td></tr>",
                            "<tr><td>428</td><td>2022-09-19 00:00:00.000</td><td>3</td><td>51</td><td>86</td><td>17</td><td>NULL</td></tr>",
                            "<tr><td>429</td><td>2022-09-20 00:00:00.000</td><td>3</td><td>86</td><td>57</td><td>47</td><td>NULL</td></tr>",
                            "<tr><td>430</td><td>2022-09-21 00:00:00.000</td><td>3</td><td>35</td><td>9</td><td>44</td><td>NULL</td></tr>",
                            "<tr><td>431</td><td>2022-09-22 00:00:00.000</td><td>3</td><td>0</td><td>39</td><td>80</td><td>NULL</td></tr>",
                            "<tr><td>432</td><td>2022-09-23 00:00:00.000</td><td>3</td><td>16</td><td>27</td><td>1</td><td>NULL</td></tr>",
                            "<tr><td>433</td><td>2022-09-24 00:00:00.000</td><td>3</td><td>79</td><td>96</td><td>10</td><td>NULL</td></tr>",
                            "<tr><td>434</td><td>2022-09-25 00:00:00.000</td><td>3</td><td>34</td><td>79</td><td>60</td><td>NULL</td></tr>",
                            "<tr><td>435</td><td>2022-09-26 00:00:00.000</td><td>3</td><td>6</td><td>38</td><td>78</td><td>NULL</td></tr>",
                            "<tr><td>436</td><td>2022-09-27 00:00:00.000</td><td>3</td><td>46</td><td>2</td><td>34</td><td>NULL</td></tr>",
                            "<tr><td>437</td><td>2022-09-28 00:00:00.000</td><td>3</td><td>70</td><td>34</td><td>74</td><td>NULL</td></tr>",
                            "<tr><td>438</td><td>2022-09-29 00:00:00.000</td><td>3</td><td>74</td><td>23</td><td>33</td><td>NULL</td></tr>",
                            "<tr><td>439</td><td>2022-09-30 00:00:00.000</td><td>3</td><td>1</td><td>13</td><td>34</td><td>NULL</td></tr>",
                            "<tr><td>440</td><td>2022-10-01 00:00:00.000</td><td>3</td><td>5</td><td>23</td><td>23</td><td>NULL</td></tr>",
                            "<tr><td>441</td><td>2022-10-02 00:00:00.000</td><td>3</td><td>87</td><td>88</td><td>66</td><td>NULL</td></tr>",
                            "<tr><td>442</td><td>2022-10-03 00:00:00.000</td><td>3</td><td>55</td><td>7</td><td>63</td><td>NULL</td></tr>",
                            "<tr><td>443</td><td>2022-10-04 00:00:00.000</td><td>3</td><td>64</td><td>61</td><td>53</td><td>NULL</td></tr>",
                            "<tr><td>444</td><td>2022-10-05 00:00:00.000</td><td>3</td><td>28</td><td>89</td><td>78</td><td>NULL</td></tr>",
                            "<tr><td>445</td><td>2022-10-06 00:00:00.000</td><td>3</td><td>54</td><td>73</td><td>44</td><td>NULL</td></tr>",
                            "<tr><td>446</td><td>2022-10-07 00:00:00.000</td><td>3</td><td>21</td><td>71</td><td>89</td><td>NULL</td></tr>",
                            "<tr><td>447</td><td>2022-10-08 00:00:00.000</td><td>3</td><td>63</td><td>53</td><td>90</td><td>NULL</td></tr>",
                            "<tr><td>448</td><td>2022-10-09 00:00:00.000</td><td>3</td><td>52</td><td>6</td><td>15</td><td>NULL</td></tr>",
                            "<tr><td>449</td><td>2022-10-10 00:00:00.000</td><td>3</td><td>65</td><td>50</td><td>94</td><td>NULL</td></tr>",
                            "<tr><td>450</td><td>2022-10-11 00:00:00.000</td><td>3</td><td>53</td><td>19</td><td>64</td><td>NULL</td></tr>",
                            "<tr><td>451</td><td>2022-10-12 00:00:00.000</td><td>3</td><td>80</td><td>72</td><td>80</td><td>NULL</td></tr>",
                            "<tr><td>452</td><td>2022-10-13 00:00:00.000</td><td>3</td><td>36</td><td>99</td><td>93</td><td>NULL</td></tr>",
                            "<tr><td>453</td><td>2022-10-14 00:00:00.000</td><td>3</td><td>2</td><td>2</td><td>87</td><td>NULL</td></tr>",
                            "<tr><td>454</td><td>2022-10-15 00:00:00.000</td><td>3</td><td>15</td><td>27</td><td>99</td><td>NULL</td></tr>",
                            "<tr><td>455</td><td>2022-10-16 00:00:00.000</td><td>3</td><td>18</td><td>29</td><td>16</td><td>NULL</td></tr>",
                            "<tr><td>456</td><td>2022-10-17 00:00:00.000</td><td>3</td><td>2</td><td>49</td><td>75</td><td>NULL</td></tr>",
                            "<tr><td>457</td><td>2022-10-18 00:00:00.000</td><td>3</td><td>93</td><td>25</td><td>65</td><td>NULL</td></tr>",
                            "<tr><td>458</td><td>2022-10-19 00:00:00.000</td><td>3</td><td>83</td><td>55</td><td>1</td><td>NULL</td></tr>",
                            "<tr><td>459</td><td>2022-10-20 00:00:00.000</td><td>3</td><td>3</td><td>43</td><td>82</td><td>NULL</td></tr>",
                            "<tr><td>460</td><td>2022-10-21 00:00:00.000</td><td>3</td><td>78</td><td>29</td><td>81</td><td>NULL</td></tr>",
                            "<tr><td>461</td><td>2022-10-22 00:00:00.000</td><td>3</td><td>89</td><td>18</td><td>75</td><td>NULL</td></tr>",
                            "<tr><td>462</td><td>2022-10-23 00:00:00.000</td><td>3</td><td>95</td><td>2</td><td>46</td><td>NULL</td></tr>",
                            "<tr><td>463</td><td>2022-10-24 00:00:00.000</td><td>3</td><td>97</td><td>76</td><td>99</td><td>NULL</td></tr>",
                            "<tr><td>464</td><td>2022-10-25 00:00:00.000</td><td>3</td><td>8</td><td>79</td><td>93</td><td>NULL</td></tr>",
                            "<tr><td>465</td><td>2022-10-26 00:00:00.000</td><td>3</td><td>40</td><td>68</td><td>61</td><td>NULL</td></tr>",
                            "<tr><td>466</td><td>2022-10-27 00:00:00.000</td><td>3</td><td>62</td><td>20</td><td>60</td><td>NULL</td></tr>",
                            "<tr><td>467</td><td>2022-10-28 00:00:00.000</td><td>3</td><td>76</td><td>33</td><td>48</td><td>NULL</td></tr>",
                            "<tr><td>468</td><td>2022-10-29 00:00:00.000</td><td>3</td><td>85</td><td>67</td><td>69</td><td>NULL</td></tr>",
                            "<tr><td>469</td><td>2022-10-30 00:00:00.000</td><td>3</td><td>39</td><td>12</td><td>78</td><td>NULL</td></tr>",
                            "<tr><td>470</td><td>2022-10-31 00:00:00.000</td><td>3</td><td>92</td><td>23</td><td>56</td><td>NULL</td></tr>",
                            "<tr><td>471</td><td>2022-11-01 00:00:00.000</td><td>3</td><td>31</td><td>82</td><td>28</td><td>NULL</td></tr>",
                            "<tr><td>472</td><td>2022-11-02 00:00:00.000</td><td>3</td><td>61</td><td>26</td><td>89</td><td>NULL</td></tr>",
                            "<tr><td>473</td><td>2022-11-03 00:00:00.000</td><td>3</td><td>96</td><td>42</td><td>39</td><td>NULL</td></tr>",
                            "<tr><td>474</td><td>2022-11-04 00:00:00.000</td><td>3</td><td>88</td><td>73</td><td>57</td><td>NULL</td></tr>",
                            "<tr><td>475</td><td>2022-11-05 00:00:00.000</td><td>3</td><td>70</td><td>46</td><td>6</td><td>NULL</td></tr>",
                            "<tr><td>476</td><td>2022-11-06 00:00:00.000</td><td>3</td><td>51</td><td>31</td><td>0</td><td>NULL</td></tr>",
                            "<tr><td>477</td><td>2022-11-07 00:00:00.000</td><td>3</td><td>34</td><td>5</td><td>40</td><td>NULL</td></tr>",
                            "<tr><td>478</td><td>2022-11-08 00:00:00.000</td><td>3</td><td>38</td><td>13</td><td>31</td><td>NULL</td></tr>",
                            "<tr><td>479</td><td>2022-11-09 00:00:00.000</td><td>3</td><td>83</td><td>54</td><td>76</td><td>NULL</td></tr>",
                            "<tr><td>480</td><td>2022-11-10 00:00:00.000</td><td>3</td><td>24</td><td>1</td><td>47</td><td>NULL</td></tr>",
                            "<tr><td>481</td><td>2022-11-11 00:00:00.000</td><td>3</td><td>57</td><td>42</td><td>47</td><td>NULL</td></tr>",
                            "<tr><td>482</td><td>2022-11-12 00:00:00.000</td><td>3</td><td>14</td><td>44</td><td>69</td><td>NULL</td></tr>",
                            "<tr><td>483</td><td>2022-11-13 00:00:00.000</td><td>3</td><td>65</td><td>57</td><td>17</td><td>NULL</td></tr>",
                            "<tr><td>484</td><td>2022-11-14 00:00:00.000</td><td>3</td><td>32</td><td>94</td><td>90</td><td>NULL</td></tr>",
                            "<tr><td>485</td><td>2022-11-15 00:00:00.000</td><td>3</td><td>69</td><td>29</td><td>39</td><td>NULL</td></tr>",
                            "<tr><td>486</td><td>2022-11-16 00:00:00.000</td><td>3</td><td>96</td><td>74</td><td>39</td><td>NULL</td></tr>",
                            "<tr><td>487</td><td>2022-11-17 00:00:00.000</td><td>3</td><td>16</td><td>80</td><td>25</td><td>NULL</td></tr>",
                            "<tr><td>488</td><td>2022-11-18 00:00:00.000</td><td>3</td><td>94</td><td>17</td><td>36</td><td>NULL</td></tr>",
                            "<tr><td>489</td><td>2022-11-19 00:00:00.000</td><td>3</td><td>95</td><td>97</td><td>21</td><td>NULL</td></tr>",
                            "<tr><td>490</td><td>2022-11-20 00:00:00.000</td><td>3</td><td>21</td><td>57</td><td>53</td><td>NULL</td></tr>",
                            "<tr><td>491</td><td>2022-11-21 00:00:00.000</td><td>3</td><td>31</td><td>8</td><td>51</td><td>NULL</td></tr>",
                            "<tr><td>492</td><td>2022-11-22 00:00:00.000</td><td>3</td><td>31</td><td>37</td><td>91</td><td>NULL</td></tr>",
                            "<tr><td>493</td><td>2022-11-23 00:00:00.000</td><td>3</td><td>29</td><td>15</td><td>61</td><td>NULL</td></tr>",
                            "<tr><td>494</td><td>2022-11-24 00:00:00.000</td><td>3</td><td>20</td><td>80</td><td>19</td><td>NULL</td></tr>",
                            "<tr><td>495</td><td>2022-11-25 00:00:00.000</td><td>3</td><td>83</td><td>12</td><td>35</td><td>NULL</td></tr>",
                            "<tr><td>496</td><td>2022-11-26 00:00:00.000</td><td>3</td><td>59</td><td>78</td><td>69</td><td>NULL</td></tr>",
                            "<tr><td>497</td><td>2022-11-27 00:00:00.000</td><td>3</td><td>77</td><td>33</td><td>40</td><td>NULL</td></tr>",
                            "<tr><td>498</td><td>2022-11-28 00:00:00.000</td><td>3</td><td>87</td><td>87</td><td>66</td><td>NULL</td></tr>",
                            "<tr><td>499</td><td>2022-11-29 00:00:00.000</td><td>3</td><td>61</td><td>53</td><td>99</td><td>NULL</td></tr>",
                            "<tr><td>500</td><td>2022-11-30 00:00:00.000</td><td>3</td><td>21</td><td>53</td><td>73</td><td>NULL</td></tr>",
                            "<tr><td>501</td><td>2022-12-01 00:00:00.000</td><td>3</td><td>78</td><td>3</td><td>80</td><td>NULL</td></tr>",
                            "<tr><td>502</td><td>2022-12-02 00:00:00.000</td><td>3</td><td>19</td><td>9</td><td>16</td><td>NULL</td></tr>",
                            "<tr><td>503</td><td>2022-12-03 00:00:00.000</td><td>3</td><td>64</td><td>7</td><td>42</td><td>NULL</td></tr>",
                            "<tr><td>504</td><td>2022-12-04 00:00:00.000</td><td>3</td><td>67</td><td>69</td><td>72</td><td>NULL</td></tr>",
                            "<tr><td>505</td><td>2022-12-05 00:00:00.000</td><td>3</td><td>40</td><td>92</td><td>35</td><td>NULL</td></tr>",
                            "<tr><td>506</td><td>2022-12-06 00:00:00.000</td><td>3</td><td>1</td><td>16</td><td>96</td><td>NULL</td></tr>",
                            "<tr><td>507</td><td>2022-12-07 00:00:00.000</td><td>3</td><td>41</td><td>31</td><td>36</td><td>NULL</td></tr>",
                            "<tr><td>508</td><td>2022-12-08 00:00:00.000</td><td>3</td><td>53</td><td>88</td><td>89</td><td>NULL</td></tr>",
                            "<tr><td>509</td><td>2022-12-09 00:00:00.000</td><td>3</td><td>42</td><td>89</td><td>76</td><td>NULL</td></tr>",
                            "<tr><td>510</td><td>2022-12-10 00:00:00.000</td><td>3</td><td>70</td><td>51</td><td>93</td><td>NULL</td></tr>",
                            "<tr><td>511</td><td>2022-12-11 00:00:00.000</td><td>3</td><td>51</td><td>44</td><td>86</td><td>NULL</td></tr>",
                            "<tr><td>512</td><td>2022-12-12 00:00:00.000</td><td>3</td><td>57</td><td>50</td><td>76</td><td>NULL</td></tr>",
                            "<tr><td>513</td><td>2022-12-13 00:00:00.000</td><td>3</td><td>81</td><td>79</td><td>86</td><td>NULL</td></tr>",
                            "<tr><td>514</td><td>2022-12-14 00:00:00.000</td><td>3</td><td>97</td><td>86</td><td>6</td><td>NULL</td></tr>",
                            "<tr><td>515</td><td>2022-12-15 00:00:00.000</td><td>3</td><td>32</td><td>17</td><td>79</td><td>NULL</td></tr>",
                            "<tr><td>516</td><td>2022-12-16 00:00:00.000</td><td>3</td><td>16</td><td>56</td><td>1</td><td>NULL</td></tr>",
                            "<tr><td>517</td><td>2022-12-17 00:00:00.000</td><td>3</td><td>95</td><td>67</td><td>84</td><td>NULL</td></tr>",
                            "<tr><td>518</td><td>2022-12-18 00:00:00.000</td><td>3</td><td>70</td><td>52</td><td>80</td><td>NULL</td></tr>",
                            "<tr><td>519</td><td>2022-12-19 00:00:00.000</td><td>3</td><td>68</td><td>59</td><td>52</td><td>NULL</td></tr>",
                            "<tr><td>520</td><td>2022-12-20 00:00:00.000</td><td>3</td><td>72</td><td>65</td><td>20</td><td>NULL</td></tr>",
                            "<tr><td>521</td><td>2022-12-21 00:00:00.000</td><td>3</td><td>64</td><td>10</td><td>26</td><td>NULL</td></tr>",
                            "<tr><td>522</td><td>2022-12-22 00:00:00.000</td><td>3</td><td>40</td><td>2</td><td>24</td><td>NULL</td></tr>",
                            "<tr><td>523</td><td>2022-12-23 00:00:00.000</td><td>3</td><td>66</td><td>60</td><td>50</td><td>NULL</td></tr>",
                            "<tr><td>524</td><td>2022-12-24 00:00:00.000</td><td>3</td><td>0</td><td>92</td><td>16</td><td>NULL</td></tr>",
                            "<tr><td>525</td><td>2022-12-25 00:00:00.000</td><td>3</td><td>14</td><td>10</td><td>59</td><td>NULL</td></tr>",
                            "<tr><td>526</td><td>2022-12-26 00:00:00.000</td><td>3</td><td>63</td><td>0</td><td>50</td><td>NULL</td></tr>",
                            "<tr><td>527</td><td>2022-12-27 00:00:00.000</td><td>3</td><td>0</td><td>48</td><td>9</td><td>NULL</td></tr>",
                            "<tr><td>528</td><td>2022-12-28 00:00:00.000</td><td>3</td><td>1</td><td>68</td><td>26</td><td>NULL</td></tr>",
                            "<tr><td>529</td><td>2022-12-29 00:00:00.000</td><td>3</td><td>62</td><td>21</td><td>41</td><td>NULL</td></tr>",
                            "<tr><td>530</td><td>2022-12-30 00:00:00.000</td><td>3</td><td>57</td><td>11</td><td>28</td><td>NULL</td></tr>",
                            "<tr><td>531</td><td>2022-12-31 00:00:00.000</td><td>3</td><td>25</td><td>38</td><td>77</td><td>NULL</td></tr>",
                            "<tr><td>532</td><td>2023-01-01 00:00:00.000</td><td>3</td><td>18</td><td>82</td><td>54</td><td>NULL</td></tr>",
                            "<tr><td>533</td><td>2023-01-02 00:00:00.000</td><td>3</td><td>66</td><td>86</td><td>88</td><td>NULL</td></tr>",
                            "<tr><td>534</td><td>2023-01-03 00:00:00.000</td><td>3</td><td>28</td><td>12</td><td>3</td><td>NULL</td></tr>",
                            "<tr><td>535</td><td>2023-01-04 00:00:00.000</td><td>3</td><td>43</td><td>8</td><td>33</td><td>NULL</td></tr>",
                            "<tr><td>536</td><td>2023-01-05 00:00:00.000</td><td>3</td><td>84</td><td>29</td><td>96</td><td>NULL</td></tr>",
                            "<tr><td>537</td><td>2023-01-06 00:00:00.000</td><td>3</td><td>20</td><td>58</td><td>58</td><td>NULL</td></tr>",
                            "<tr><td>538</td><td>2023-01-07 00:00:00.000</td><td>3</td><td>18</td><td>42</td><td>93</td><td>NULL</td></tr>",
                            "<tr><td>539</td><td>2023-01-08 00:00:00.000</td><td>3</td><td>18</td><td>23</td><td>21</td><td>NULL</td></tr>",
                            "<tr><td>540</td><td>2023-01-09 00:00:00.000</td><td>3</td><td>88</td><td>68</td><td>66</td><td>NULL</td></tr>",
                            "</table>"
                        ]
                    }
                }
            ],
            "execution_count": 13
        }
    ]
}